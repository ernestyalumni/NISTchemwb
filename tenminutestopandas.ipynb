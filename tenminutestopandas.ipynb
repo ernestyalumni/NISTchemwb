{
 "cells": [
  {
   "cell_type": "code",
   "execution_count": 1,
   "metadata": {
    "collapsed": true
   },
   "outputs": [],
   "source": [
    "import pandas as pd\n",
    "import numpy as np\n",
    "import matplotlib.pyplot as plt"
   ]
  },
  {
   "cell_type": "markdown",
   "metadata": {},
   "source": [
    "## Object Creation"
   ]
  },
  {
   "cell_type": "markdown",
   "metadata": {},
   "source": [
    "Creating a Series by passing a list of values, letting pandas create a default integer index (for the list)"
   ]
  },
  {
   "cell_type": "code",
   "execution_count": 2,
   "metadata": {
    "collapsed": true
   },
   "outputs": [],
   "source": [
    "s = pd.Series([1,3,5,np.nan,6,8])"
   ]
  },
  {
   "cell_type": "code",
   "execution_count": 3,
   "metadata": {
    "collapsed": false
   },
   "outputs": [
    {
     "data": {
      "text/plain": [
       "0    1.0\n",
       "1    3.0\n",
       "2    5.0\n",
       "3    NaN\n",
       "4    6.0\n",
       "5    8.0\n",
       "dtype: float64"
      ]
     },
     "execution_count": 3,
     "metadata": {},
     "output_type": "execute_result"
    }
   ],
   "source": [
    "s"
   ]
  },
  {
   "cell_type": "markdown",
   "metadata": {},
   "source": [
    "Creating a DataFrame by passing numpy array, with datetime index and labeled columns"
   ]
  },
  {
   "cell_type": "code",
   "execution_count": 4,
   "metadata": {
    "collapsed": true
   },
   "outputs": [],
   "source": [
    "dates = pd.date_range('20130101', periods =6)"
   ]
  },
  {
   "cell_type": "code",
   "execution_count": 5,
   "metadata": {
    "collapsed": false
   },
   "outputs": [
    {
     "data": {
      "text/plain": [
       "DatetimeIndex(['2013-01-01', '2013-01-02', '2013-01-03', '2013-01-04',\n",
       "               '2013-01-05', '2013-01-06'],\n",
       "              dtype='datetime64[ns]', freq='D')"
      ]
     },
     "execution_count": 5,
     "metadata": {},
     "output_type": "execute_result"
    }
   ],
   "source": [
    "dates"
   ]
  },
  {
   "cell_type": "code",
   "execution_count": 6,
   "metadata": {
    "collapsed": true
   },
   "outputs": [],
   "source": [
    "df = pd.DataFrame(np.random.randn(6,4), index=dates, columns=list('ABCD'))"
   ]
  },
  {
   "cell_type": "code",
   "execution_count": 7,
   "metadata": {
    "collapsed": false
   },
   "outputs": [
    {
     "data": {
      "text/html": [
       "<div>\n",
       "<table border=\"1\" class=\"dataframe\">\n",
       "  <thead>\n",
       "    <tr style=\"text-align: right;\">\n",
       "      <th></th>\n",
       "      <th>A</th>\n",
       "      <th>B</th>\n",
       "      <th>C</th>\n",
       "      <th>D</th>\n",
       "    </tr>\n",
       "  </thead>\n",
       "  <tbody>\n",
       "    <tr>\n",
       "      <th>2013-01-01</th>\n",
       "      <td>0.107978</td>\n",
       "      <td>-0.305659</td>\n",
       "      <td>-0.681187</td>\n",
       "      <td>1.027033</td>\n",
       "    </tr>\n",
       "    <tr>\n",
       "      <th>2013-01-02</th>\n",
       "      <td>-0.224894</td>\n",
       "      <td>-1.538465</td>\n",
       "      <td>1.148191</td>\n",
       "      <td>0.280399</td>\n",
       "    </tr>\n",
       "    <tr>\n",
       "      <th>2013-01-03</th>\n",
       "      <td>-0.040349</td>\n",
       "      <td>0.138120</td>\n",
       "      <td>-0.605623</td>\n",
       "      <td>-1.406288</td>\n",
       "    </tr>\n",
       "    <tr>\n",
       "      <th>2013-01-04</th>\n",
       "      <td>0.588786</td>\n",
       "      <td>-0.229523</td>\n",
       "      <td>-0.520320</td>\n",
       "      <td>-1.533932</td>\n",
       "    </tr>\n",
       "    <tr>\n",
       "      <th>2013-01-05</th>\n",
       "      <td>0.185924</td>\n",
       "      <td>2.594881</td>\n",
       "      <td>-0.376013</td>\n",
       "      <td>0.125500</td>\n",
       "    </tr>\n",
       "    <tr>\n",
       "      <th>2013-01-06</th>\n",
       "      <td>0.844242</td>\n",
       "      <td>0.433480</td>\n",
       "      <td>-0.635748</td>\n",
       "      <td>-0.351878</td>\n",
       "    </tr>\n",
       "  </tbody>\n",
       "</table>\n",
       "</div>"
      ],
      "text/plain": [
       "                   A         B         C         D\n",
       "2013-01-01  0.107978 -0.305659 -0.681187  1.027033\n",
       "2013-01-02 -0.224894 -1.538465  1.148191  0.280399\n",
       "2013-01-03 -0.040349  0.138120 -0.605623 -1.406288\n",
       "2013-01-04  0.588786 -0.229523 -0.520320 -1.533932\n",
       "2013-01-05  0.185924  2.594881 -0.376013  0.125500\n",
       "2013-01-06  0.844242  0.433480 -0.635748 -0.351878"
      ]
     },
     "execution_count": 7,
     "metadata": {},
     "output_type": "execute_result"
    }
   ],
   "source": [
    "df"
   ]
  },
  {
   "cell_type": "markdown",
   "metadata": {},
   "source": [
    "Creating a DataFrame by passing a dict"
   ]
  },
  {
   "cell_type": "code",
   "execution_count": 8,
   "metadata": {
    "collapsed": true
   },
   "outputs": [],
   "source": [
    "df2 = pd.DataFrame({ 'A' : 1., \n",
    "                       'B' : pd.Timestamp('20130102'),\n",
    "                   'C' : pd.Series(1,index=list(range(4)),dtype='float32'),\n",
    "                   'D' : np.array([3] * 4, dtype='int32'),\n",
    "                   'E' : pd.Categorical([\"test\",\"train\",\"test\",\"train\"]),\n",
    "                   'F' : 'foo'})"
   ]
  },
  {
   "cell_type": "code",
   "execution_count": 9,
   "metadata": {
    "collapsed": false
   },
   "outputs": [
    {
     "data": {
      "text/html": [
       "<div>\n",
       "<table border=\"1\" class=\"dataframe\">\n",
       "  <thead>\n",
       "    <tr style=\"text-align: right;\">\n",
       "      <th></th>\n",
       "      <th>A</th>\n",
       "      <th>B</th>\n",
       "      <th>C</th>\n",
       "      <th>D</th>\n",
       "      <th>E</th>\n",
       "      <th>F</th>\n",
       "    </tr>\n",
       "  </thead>\n",
       "  <tbody>\n",
       "    <tr>\n",
       "      <th>0</th>\n",
       "      <td>1.0</td>\n",
       "      <td>2013-01-02</td>\n",
       "      <td>1.0</td>\n",
       "      <td>3</td>\n",
       "      <td>test</td>\n",
       "      <td>foo</td>\n",
       "    </tr>\n",
       "    <tr>\n",
       "      <th>1</th>\n",
       "      <td>1.0</td>\n",
       "      <td>2013-01-02</td>\n",
       "      <td>1.0</td>\n",
       "      <td>3</td>\n",
       "      <td>train</td>\n",
       "      <td>foo</td>\n",
       "    </tr>\n",
       "    <tr>\n",
       "      <th>2</th>\n",
       "      <td>1.0</td>\n",
       "      <td>2013-01-02</td>\n",
       "      <td>1.0</td>\n",
       "      <td>3</td>\n",
       "      <td>test</td>\n",
       "      <td>foo</td>\n",
       "    </tr>\n",
       "    <tr>\n",
       "      <th>3</th>\n",
       "      <td>1.0</td>\n",
       "      <td>2013-01-02</td>\n",
       "      <td>1.0</td>\n",
       "      <td>3</td>\n",
       "      <td>train</td>\n",
       "      <td>foo</td>\n",
       "    </tr>\n",
       "  </tbody>\n",
       "</table>\n",
       "</div>"
      ],
      "text/plain": [
       "     A          B    C  D      E    F\n",
       "0  1.0 2013-01-02  1.0  3   test  foo\n",
       "1  1.0 2013-01-02  1.0  3  train  foo\n",
       "2  1.0 2013-01-02  1.0  3   test  foo\n",
       "3  1.0 2013-01-02  1.0  3  train  foo"
      ]
     },
     "execution_count": 9,
     "metadata": {},
     "output_type": "execute_result"
    }
   ],
   "source": [
    "df2"
   ]
  },
  {
   "cell_type": "code",
   "execution_count": 10,
   "metadata": {
    "collapsed": false
   },
   "outputs": [
    {
     "data": {
      "text/plain": [
       "A           float64\n",
       "B    datetime64[ns]\n",
       "C           float32\n",
       "D             int32\n",
       "E          category\n",
       "F            object\n",
       "dtype: object"
      ]
     },
     "execution_count": 10,
     "metadata": {},
     "output_type": "execute_result"
    }
   ],
   "source": [
    "df2.dtypes"
   ]
  },
  {
   "cell_type": "markdown",
   "metadata": {},
   "source": [
    "## Viewing Data"
   ]
  },
  {
   "cell_type": "code",
   "execution_count": 11,
   "metadata": {
    "collapsed": false
   },
   "outputs": [
    {
     "data": {
      "text/html": [
       "<div>\n",
       "<table border=\"1\" class=\"dataframe\">\n",
       "  <thead>\n",
       "    <tr style=\"text-align: right;\">\n",
       "      <th></th>\n",
       "      <th>A</th>\n",
       "      <th>B</th>\n",
       "      <th>C</th>\n",
       "      <th>D</th>\n",
       "    </tr>\n",
       "  </thead>\n",
       "  <tbody>\n",
       "    <tr>\n",
       "      <th>2013-01-01</th>\n",
       "      <td>0.107978</td>\n",
       "      <td>-0.305659</td>\n",
       "      <td>-0.681187</td>\n",
       "      <td>1.027033</td>\n",
       "    </tr>\n",
       "    <tr>\n",
       "      <th>2013-01-02</th>\n",
       "      <td>-0.224894</td>\n",
       "      <td>-1.538465</td>\n",
       "      <td>1.148191</td>\n",
       "      <td>0.280399</td>\n",
       "    </tr>\n",
       "    <tr>\n",
       "      <th>2013-01-03</th>\n",
       "      <td>-0.040349</td>\n",
       "      <td>0.138120</td>\n",
       "      <td>-0.605623</td>\n",
       "      <td>-1.406288</td>\n",
       "    </tr>\n",
       "    <tr>\n",
       "      <th>2013-01-04</th>\n",
       "      <td>0.588786</td>\n",
       "      <td>-0.229523</td>\n",
       "      <td>-0.520320</td>\n",
       "      <td>-1.533932</td>\n",
       "    </tr>\n",
       "    <tr>\n",
       "      <th>2013-01-05</th>\n",
       "      <td>0.185924</td>\n",
       "      <td>2.594881</td>\n",
       "      <td>-0.376013</td>\n",
       "      <td>0.125500</td>\n",
       "    </tr>\n",
       "  </tbody>\n",
       "</table>\n",
       "</div>"
      ],
      "text/plain": [
       "                   A         B         C         D\n",
       "2013-01-01  0.107978 -0.305659 -0.681187  1.027033\n",
       "2013-01-02 -0.224894 -1.538465  1.148191  0.280399\n",
       "2013-01-03 -0.040349  0.138120 -0.605623 -1.406288\n",
       "2013-01-04  0.588786 -0.229523 -0.520320 -1.533932\n",
       "2013-01-05  0.185924  2.594881 -0.376013  0.125500"
      ]
     },
     "execution_count": 11,
     "metadata": {},
     "output_type": "execute_result"
    }
   ],
   "source": [
    "df.head()  # see the top rows of the frame"
   ]
  },
  {
   "cell_type": "code",
   "execution_count": 12,
   "metadata": {
    "collapsed": false
   },
   "outputs": [
    {
     "data": {
      "text/html": [
       "<div>\n",
       "<table border=\"1\" class=\"dataframe\">\n",
       "  <thead>\n",
       "    <tr style=\"text-align: right;\">\n",
       "      <th></th>\n",
       "      <th>A</th>\n",
       "      <th>B</th>\n",
       "      <th>C</th>\n",
       "      <th>D</th>\n",
       "    </tr>\n",
       "  </thead>\n",
       "  <tbody>\n",
       "    <tr>\n",
       "      <th>2013-01-04</th>\n",
       "      <td>0.588786</td>\n",
       "      <td>-0.229523</td>\n",
       "      <td>-0.520320</td>\n",
       "      <td>-1.533932</td>\n",
       "    </tr>\n",
       "    <tr>\n",
       "      <th>2013-01-05</th>\n",
       "      <td>0.185924</td>\n",
       "      <td>2.594881</td>\n",
       "      <td>-0.376013</td>\n",
       "      <td>0.125500</td>\n",
       "    </tr>\n",
       "    <tr>\n",
       "      <th>2013-01-06</th>\n",
       "      <td>0.844242</td>\n",
       "      <td>0.433480</td>\n",
       "      <td>-0.635748</td>\n",
       "      <td>-0.351878</td>\n",
       "    </tr>\n",
       "  </tbody>\n",
       "</table>\n",
       "</div>"
      ],
      "text/plain": [
       "                   A         B         C         D\n",
       "2013-01-04  0.588786 -0.229523 -0.520320 -1.533932\n",
       "2013-01-05  0.185924  2.594881 -0.376013  0.125500\n",
       "2013-01-06  0.844242  0.433480 -0.635748 -0.351878"
      ]
     },
     "execution_count": 12,
     "metadata": {},
     "output_type": "execute_result"
    }
   ],
   "source": [
    "df.tail(3)  # see the bottom rows of the frame"
   ]
  },
  {
   "cell_type": "code",
   "execution_count": 13,
   "metadata": {
    "collapsed": false
   },
   "outputs": [
    {
     "data": {
      "text/plain": [
       "DatetimeIndex(['2013-01-01', '2013-01-02', '2013-01-03', '2013-01-04',\n",
       "               '2013-01-05', '2013-01-06'],\n",
       "              dtype='datetime64[ns]', freq='D')"
      ]
     },
     "execution_count": 13,
     "metadata": {},
     "output_type": "execute_result"
    }
   ],
   "source": [
    "df.index"
   ]
  },
  {
   "cell_type": "code",
   "execution_count": 14,
   "metadata": {
    "collapsed": false
   },
   "outputs": [
    {
     "data": {
      "text/plain": [
       "Index([u'A', u'B', u'C', u'D'], dtype='object')"
      ]
     },
     "execution_count": 14,
     "metadata": {},
     "output_type": "execute_result"
    }
   ],
   "source": [
    "df.columns"
   ]
  },
  {
   "cell_type": "code",
   "execution_count": 15,
   "metadata": {
    "collapsed": false
   },
   "outputs": [
    {
     "data": {
      "text/plain": [
       "array([[ 0.10797823, -0.30565932, -0.68118703,  1.0270329 ],\n",
       "       [-0.22489402, -1.53846503,  1.14819124,  0.28039906],\n",
       "       [-0.04034917,  0.13811957, -0.60562284, -1.40628811],\n",
       "       [ 0.58878556, -0.22952314, -0.5203201 , -1.53393227],\n",
       "       [ 0.18592449,  2.59488149, -0.37601275,  0.1255004 ],\n",
       "       [ 0.84424161,  0.43347965, -0.63574836, -0.35187787]])"
      ]
     },
     "execution_count": 15,
     "metadata": {},
     "output_type": "execute_result"
    }
   ],
   "source": [
    "df.values"
   ]
  },
  {
   "cell_type": "code",
   "execution_count": 16,
   "metadata": {
    "collapsed": false
   },
   "outputs": [
    {
     "data": {
      "text/html": [
       "<div>\n",
       "<table border=\"1\" class=\"dataframe\">\n",
       "  <thead>\n",
       "    <tr style=\"text-align: right;\">\n",
       "      <th></th>\n",
       "      <th>A</th>\n",
       "      <th>B</th>\n",
       "      <th>C</th>\n",
       "      <th>D</th>\n",
       "    </tr>\n",
       "  </thead>\n",
       "  <tbody>\n",
       "    <tr>\n",
       "      <th>count</th>\n",
       "      <td>6.000000</td>\n",
       "      <td>6.000000</td>\n",
       "      <td>6.000000</td>\n",
       "      <td>6.000000</td>\n",
       "    </tr>\n",
       "    <tr>\n",
       "      <th>mean</th>\n",
       "      <td>0.243614</td>\n",
       "      <td>0.182139</td>\n",
       "      <td>-0.278450</td>\n",
       "      <td>-0.309861</td>\n",
       "    </tr>\n",
       "    <tr>\n",
       "      <th>std</th>\n",
       "      <td>0.400439</td>\n",
       "      <td>1.360465</td>\n",
       "      <td>0.707139</td>\n",
       "      <td>1.002746</td>\n",
       "    </tr>\n",
       "    <tr>\n",
       "      <th>min</th>\n",
       "      <td>-0.224894</td>\n",
       "      <td>-1.538465</td>\n",
       "      <td>-0.681187</td>\n",
       "      <td>-1.533932</td>\n",
       "    </tr>\n",
       "    <tr>\n",
       "      <th>25%</th>\n",
       "      <td>-0.003267</td>\n",
       "      <td>-0.286625</td>\n",
       "      <td>-0.628217</td>\n",
       "      <td>-1.142686</td>\n",
       "    </tr>\n",
       "    <tr>\n",
       "      <th>50%</th>\n",
       "      <td>0.146951</td>\n",
       "      <td>-0.045702</td>\n",
       "      <td>-0.562971</td>\n",
       "      <td>-0.113189</td>\n",
       "    </tr>\n",
       "    <tr>\n",
       "      <th>75%</th>\n",
       "      <td>0.488070</td>\n",
       "      <td>0.359640</td>\n",
       "      <td>-0.412090</td>\n",
       "      <td>0.241674</td>\n",
       "    </tr>\n",
       "    <tr>\n",
       "      <th>max</th>\n",
       "      <td>0.844242</td>\n",
       "      <td>2.594881</td>\n",
       "      <td>1.148191</td>\n",
       "      <td>1.027033</td>\n",
       "    </tr>\n",
       "  </tbody>\n",
       "</table>\n",
       "</div>"
      ],
      "text/plain": [
       "              A         B         C         D\n",
       "count  6.000000  6.000000  6.000000  6.000000\n",
       "mean   0.243614  0.182139 -0.278450 -0.309861\n",
       "std    0.400439  1.360465  0.707139  1.002746\n",
       "min   -0.224894 -1.538465 -0.681187 -1.533932\n",
       "25%   -0.003267 -0.286625 -0.628217 -1.142686\n",
       "50%    0.146951 -0.045702 -0.562971 -0.113189\n",
       "75%    0.488070  0.359640 -0.412090  0.241674\n",
       "max    0.844242  2.594881  1.148191  1.027033"
      ]
     },
     "execution_count": 16,
     "metadata": {},
     "output_type": "execute_result"
    }
   ],
   "source": [
    "df.describe()  # describe shows a quick statistic summary of data"
   ]
  },
  {
   "cell_type": "code",
   "execution_count": 17,
   "metadata": {
    "collapsed": false
   },
   "outputs": [
    {
     "data": {
      "text/html": [
       "<div>\n",
       "<table border=\"1\" class=\"dataframe\">\n",
       "  <thead>\n",
       "    <tr style=\"text-align: right;\">\n",
       "      <th></th>\n",
       "      <th>2013-01-01 00:00:00</th>\n",
       "      <th>2013-01-02 00:00:00</th>\n",
       "      <th>2013-01-03 00:00:00</th>\n",
       "      <th>2013-01-04 00:00:00</th>\n",
       "      <th>2013-01-05 00:00:00</th>\n",
       "      <th>2013-01-06 00:00:00</th>\n",
       "    </tr>\n",
       "  </thead>\n",
       "  <tbody>\n",
       "    <tr>\n",
       "      <th>A</th>\n",
       "      <td>0.107978</td>\n",
       "      <td>-0.224894</td>\n",
       "      <td>-0.040349</td>\n",
       "      <td>0.588786</td>\n",
       "      <td>0.185924</td>\n",
       "      <td>0.844242</td>\n",
       "    </tr>\n",
       "    <tr>\n",
       "      <th>B</th>\n",
       "      <td>-0.305659</td>\n",
       "      <td>-1.538465</td>\n",
       "      <td>0.138120</td>\n",
       "      <td>-0.229523</td>\n",
       "      <td>2.594881</td>\n",
       "      <td>0.433480</td>\n",
       "    </tr>\n",
       "    <tr>\n",
       "      <th>C</th>\n",
       "      <td>-0.681187</td>\n",
       "      <td>1.148191</td>\n",
       "      <td>-0.605623</td>\n",
       "      <td>-0.520320</td>\n",
       "      <td>-0.376013</td>\n",
       "      <td>-0.635748</td>\n",
       "    </tr>\n",
       "    <tr>\n",
       "      <th>D</th>\n",
       "      <td>1.027033</td>\n",
       "      <td>0.280399</td>\n",
       "      <td>-1.406288</td>\n",
       "      <td>-1.533932</td>\n",
       "      <td>0.125500</td>\n",
       "      <td>-0.351878</td>\n",
       "    </tr>\n",
       "  </tbody>\n",
       "</table>\n",
       "</div>"
      ],
      "text/plain": [
       "   2013-01-01  2013-01-02  2013-01-03  2013-01-04  2013-01-05  2013-01-06\n",
       "A    0.107978   -0.224894   -0.040349    0.588786    0.185924    0.844242\n",
       "B   -0.305659   -1.538465    0.138120   -0.229523    2.594881    0.433480\n",
       "C   -0.681187    1.148191   -0.605623   -0.520320   -0.376013   -0.635748\n",
       "D    1.027033    0.280399   -1.406288   -1.533932    0.125500   -0.351878"
      ]
     },
     "execution_count": 17,
     "metadata": {},
     "output_type": "execute_result"
    }
   ],
   "source": [
    "df.T  # Transposing your data"
   ]
  },
  {
   "cell_type": "code",
   "execution_count": 18,
   "metadata": {
    "collapsed": false
   },
   "outputs": [
    {
     "data": {
      "text/html": [
       "<div>\n",
       "<table border=\"1\" class=\"dataframe\">\n",
       "  <thead>\n",
       "    <tr style=\"text-align: right;\">\n",
       "      <th></th>\n",
       "      <th>A</th>\n",
       "      <th>B</th>\n",
       "      <th>C</th>\n",
       "      <th>D</th>\n",
       "    </tr>\n",
       "  </thead>\n",
       "  <tbody>\n",
       "    <tr>\n",
       "      <th>2013-01-02</th>\n",
       "      <td>-0.224894</td>\n",
       "      <td>-1.538465</td>\n",
       "      <td>1.148191</td>\n",
       "      <td>0.280399</td>\n",
       "    </tr>\n",
       "    <tr>\n",
       "      <th>2013-01-01</th>\n",
       "      <td>0.107978</td>\n",
       "      <td>-0.305659</td>\n",
       "      <td>-0.681187</td>\n",
       "      <td>1.027033</td>\n",
       "    </tr>\n",
       "    <tr>\n",
       "      <th>2013-01-04</th>\n",
       "      <td>0.588786</td>\n",
       "      <td>-0.229523</td>\n",
       "      <td>-0.520320</td>\n",
       "      <td>-1.533932</td>\n",
       "    </tr>\n",
       "    <tr>\n",
       "      <th>2013-01-03</th>\n",
       "      <td>-0.040349</td>\n",
       "      <td>0.138120</td>\n",
       "      <td>-0.605623</td>\n",
       "      <td>-1.406288</td>\n",
       "    </tr>\n",
       "    <tr>\n",
       "      <th>2013-01-06</th>\n",
       "      <td>0.844242</td>\n",
       "      <td>0.433480</td>\n",
       "      <td>-0.635748</td>\n",
       "      <td>-0.351878</td>\n",
       "    </tr>\n",
       "    <tr>\n",
       "      <th>2013-01-05</th>\n",
       "      <td>0.185924</td>\n",
       "      <td>2.594881</td>\n",
       "      <td>-0.376013</td>\n",
       "      <td>0.125500</td>\n",
       "    </tr>\n",
       "  </tbody>\n",
       "</table>\n",
       "</div>"
      ],
      "text/plain": [
       "                   A         B         C         D\n",
       "2013-01-02 -0.224894 -1.538465  1.148191  0.280399\n",
       "2013-01-01  0.107978 -0.305659 -0.681187  1.027033\n",
       "2013-01-04  0.588786 -0.229523 -0.520320 -1.533932\n",
       "2013-01-03 -0.040349  0.138120 -0.605623 -1.406288\n",
       "2013-01-06  0.844242  0.433480 -0.635748 -0.351878\n",
       "2013-01-05  0.185924  2.594881 -0.376013  0.125500"
      ]
     },
     "execution_count": 18,
     "metadata": {},
     "output_type": "execute_result"
    }
   ],
   "source": [
    "df.sort_values(by='B')  # sorting by values"
   ]
  },
  {
   "cell_type": "markdown",
   "metadata": {},
   "source": [
    "## Selection"
   ]
  },
  {
   "cell_type": "markdown",
   "metadata": {},
   "source": [
    "### Getting"
   ]
  },
  {
   "cell_type": "code",
   "execution_count": 19,
   "metadata": {
    "collapsed": false
   },
   "outputs": [
    {
     "data": {
      "text/plain": [
       "2013-01-01    0.107978\n",
       "2013-01-02   -0.224894\n",
       "2013-01-03   -0.040349\n",
       "2013-01-04    0.588786\n",
       "2013-01-05    0.185924\n",
       "2013-01-06    0.844242\n",
       "Freq: D, Name: A, dtype: float64"
      ]
     },
     "execution_count": 19,
     "metadata": {},
     "output_type": "execute_result"
    }
   ],
   "source": [
    "df['A']"
   ]
  },
  {
   "cell_type": "code",
   "execution_count": 20,
   "metadata": {
    "collapsed": false
   },
   "outputs": [
    {
     "data": {
      "text/html": [
       "<div>\n",
       "<table border=\"1\" class=\"dataframe\">\n",
       "  <thead>\n",
       "    <tr style=\"text-align: right;\">\n",
       "      <th></th>\n",
       "      <th>A</th>\n",
       "      <th>B</th>\n",
       "      <th>C</th>\n",
       "      <th>D</th>\n",
       "    </tr>\n",
       "  </thead>\n",
       "  <tbody>\n",
       "    <tr>\n",
       "      <th>2013-01-01</th>\n",
       "      <td>0.107978</td>\n",
       "      <td>-0.305659</td>\n",
       "      <td>-0.681187</td>\n",
       "      <td>1.027033</td>\n",
       "    </tr>\n",
       "    <tr>\n",
       "      <th>2013-01-02</th>\n",
       "      <td>-0.224894</td>\n",
       "      <td>-1.538465</td>\n",
       "      <td>1.148191</td>\n",
       "      <td>0.280399</td>\n",
       "    </tr>\n",
       "    <tr>\n",
       "      <th>2013-01-03</th>\n",
       "      <td>-0.040349</td>\n",
       "      <td>0.138120</td>\n",
       "      <td>-0.605623</td>\n",
       "      <td>-1.406288</td>\n",
       "    </tr>\n",
       "  </tbody>\n",
       "</table>\n",
       "</div>"
      ],
      "text/plain": [
       "                   A         B         C         D\n",
       "2013-01-01  0.107978 -0.305659 -0.681187  1.027033\n",
       "2013-01-02 -0.224894 -1.538465  1.148191  0.280399\n",
       "2013-01-03 -0.040349  0.138120 -0.605623 -1.406288"
      ]
     },
     "execution_count": 20,
     "metadata": {},
     "output_type": "execute_result"
    }
   ],
   "source": [
    "df[0:3]"
   ]
  },
  {
   "cell_type": "code",
   "execution_count": 21,
   "metadata": {
    "collapsed": false
   },
   "outputs": [
    {
     "data": {
      "text/html": [
       "<div>\n",
       "<table border=\"1\" class=\"dataframe\">\n",
       "  <thead>\n",
       "    <tr style=\"text-align: right;\">\n",
       "      <th></th>\n",
       "      <th>A</th>\n",
       "      <th>B</th>\n",
       "      <th>C</th>\n",
       "      <th>D</th>\n",
       "    </tr>\n",
       "  </thead>\n",
       "  <tbody>\n",
       "    <tr>\n",
       "      <th>2013-01-02</th>\n",
       "      <td>-0.224894</td>\n",
       "      <td>-1.538465</td>\n",
       "      <td>1.148191</td>\n",
       "      <td>0.280399</td>\n",
       "    </tr>\n",
       "    <tr>\n",
       "      <th>2013-01-03</th>\n",
       "      <td>-0.040349</td>\n",
       "      <td>0.138120</td>\n",
       "      <td>-0.605623</td>\n",
       "      <td>-1.406288</td>\n",
       "    </tr>\n",
       "    <tr>\n",
       "      <th>2013-01-04</th>\n",
       "      <td>0.588786</td>\n",
       "      <td>-0.229523</td>\n",
       "      <td>-0.520320</td>\n",
       "      <td>-1.533932</td>\n",
       "    </tr>\n",
       "  </tbody>\n",
       "</table>\n",
       "</div>"
      ],
      "text/plain": [
       "                   A         B         C         D\n",
       "2013-01-02 -0.224894 -1.538465  1.148191  0.280399\n",
       "2013-01-03 -0.040349  0.138120 -0.605623 -1.406288\n",
       "2013-01-04  0.588786 -0.229523 -0.520320 -1.533932"
      ]
     },
     "execution_count": 21,
     "metadata": {},
     "output_type": "execute_result"
    }
   ],
   "source": [
    "df['20130102':'20130104']"
   ]
  },
  {
   "cell_type": "markdown",
   "metadata": {},
   "source": [
    "### Selection by Label"
   ]
  },
  {
   "cell_type": "markdown",
   "metadata": {},
   "source": [
    "for production code, optimized pandas data access methods were recommended: `.at`,`.iat`, `.loc`, `.iloc`, and `.ix`"
   ]
  },
  {
   "cell_type": "code",
   "execution_count": 22,
   "metadata": {
    "collapsed": false
   },
   "outputs": [
    {
     "data": {
      "text/plain": [
       "A    0.107978\n",
       "B   -0.305659\n",
       "C   -0.681187\n",
       "D    1.027033\n",
       "Name: 2013-01-01 00:00:00, dtype: float64"
      ]
     },
     "execution_count": 22,
     "metadata": {},
     "output_type": "execute_result"
    }
   ],
   "source": [
    "df.loc[dates[0]]"
   ]
  },
  {
   "cell_type": "code",
   "execution_count": 23,
   "metadata": {
    "collapsed": false
   },
   "outputs": [
    {
     "data": {
      "text/plain": [
       "Timestamp('2013-01-01 00:00:00', offset='D')"
      ]
     },
     "execution_count": 23,
     "metadata": {},
     "output_type": "execute_result"
    }
   ],
   "source": [
    "dates[0]"
   ]
  },
  {
   "cell_type": "markdown",
   "metadata": {},
   "source": [
    "** Selecting on a multi-axis by label **"
   ]
  },
  {
   "cell_type": "code",
   "execution_count": 24,
   "metadata": {
    "collapsed": false
   },
   "outputs": [
    {
     "data": {
      "text/html": [
       "<div>\n",
       "<table border=\"1\" class=\"dataframe\">\n",
       "  <thead>\n",
       "    <tr style=\"text-align: right;\">\n",
       "      <th></th>\n",
       "      <th>A</th>\n",
       "      <th>B</th>\n",
       "    </tr>\n",
       "  </thead>\n",
       "  <tbody>\n",
       "    <tr>\n",
       "      <th>2013-01-01</th>\n",
       "      <td>0.107978</td>\n",
       "      <td>-0.305659</td>\n",
       "    </tr>\n",
       "    <tr>\n",
       "      <th>2013-01-02</th>\n",
       "      <td>-0.224894</td>\n",
       "      <td>-1.538465</td>\n",
       "    </tr>\n",
       "    <tr>\n",
       "      <th>2013-01-03</th>\n",
       "      <td>-0.040349</td>\n",
       "      <td>0.138120</td>\n",
       "    </tr>\n",
       "    <tr>\n",
       "      <th>2013-01-04</th>\n",
       "      <td>0.588786</td>\n",
       "      <td>-0.229523</td>\n",
       "    </tr>\n",
       "    <tr>\n",
       "      <th>2013-01-05</th>\n",
       "      <td>0.185924</td>\n",
       "      <td>2.594881</td>\n",
       "    </tr>\n",
       "    <tr>\n",
       "      <th>2013-01-06</th>\n",
       "      <td>0.844242</td>\n",
       "      <td>0.433480</td>\n",
       "    </tr>\n",
       "  </tbody>\n",
       "</table>\n",
       "</div>"
      ],
      "text/plain": [
       "                   A         B\n",
       "2013-01-01  0.107978 -0.305659\n",
       "2013-01-02 -0.224894 -1.538465\n",
       "2013-01-03 -0.040349  0.138120\n",
       "2013-01-04  0.588786 -0.229523\n",
       "2013-01-05  0.185924  2.594881\n",
       "2013-01-06  0.844242  0.433480"
      ]
     },
     "execution_count": 24,
     "metadata": {},
     "output_type": "execute_result"
    }
   ],
   "source": [
    "df.loc[:,['A','B']]  # Selecting on a multi-axis by label"
   ]
  },
  {
   "cell_type": "code",
   "execution_count": 25,
   "metadata": {
    "collapsed": false
   },
   "outputs": [
    {
     "data": {
      "text/html": [
       "<div>\n",
       "<table border=\"1\" class=\"dataframe\">\n",
       "  <thead>\n",
       "    <tr style=\"text-align: right;\">\n",
       "      <th></th>\n",
       "      <th>A</th>\n",
       "      <th>B</th>\n",
       "    </tr>\n",
       "  </thead>\n",
       "  <tbody>\n",
       "    <tr>\n",
       "      <th>2013-01-02</th>\n",
       "      <td>-0.224894</td>\n",
       "      <td>-1.538465</td>\n",
       "    </tr>\n",
       "    <tr>\n",
       "      <th>2013-01-03</th>\n",
       "      <td>-0.040349</td>\n",
       "      <td>0.138120</td>\n",
       "    </tr>\n",
       "    <tr>\n",
       "      <th>2013-01-04</th>\n",
       "      <td>0.588786</td>\n",
       "      <td>-0.229523</td>\n",
       "    </tr>\n",
       "  </tbody>\n",
       "</table>\n",
       "</div>"
      ],
      "text/plain": [
       "                   A         B\n",
       "2013-01-02 -0.224894 -1.538465\n",
       "2013-01-03 -0.040349  0.138120\n",
       "2013-01-04  0.588786 -0.229523"
      ]
     },
     "execution_count": 25,
     "metadata": {},
     "output_type": "execute_result"
    }
   ],
   "source": [
    "df.loc['20130102':'20130104',['A','B']]  # Showing label slicing, both endpoints are included"
   ]
  },
  {
   "cell_type": "code",
   "execution_count": 26,
   "metadata": {
    "collapsed": false
   },
   "outputs": [
    {
     "data": {
      "text/plain": [
       "A   -0.224894\n",
       "B   -1.538465\n",
       "Name: 2013-01-02 00:00:00, dtype: float64"
      ]
     },
     "execution_count": 26,
     "metadata": {},
     "output_type": "execute_result"
    }
   ],
   "source": [
    "df.loc['20130102',['A','B']]  # Reduction in the dimensions of the returned object"
   ]
  },
  {
   "cell_type": "code",
   "execution_count": 27,
   "metadata": {
    "collapsed": false
   },
   "outputs": [
    {
     "data": {
      "text/plain": [
       "0.10797822856980367"
      ]
     },
     "execution_count": 27,
     "metadata": {},
     "output_type": "execute_result"
    }
   ],
   "source": [
    "df.loc[dates[0],'A']"
   ]
  },
  {
   "cell_type": "markdown",
   "metadata": {},
   "source": [
    "** For getting fast access to a scalar (equiv to the prior method) **"
   ]
  },
  {
   "cell_type": "code",
   "execution_count": 28,
   "metadata": {
    "collapsed": false
   },
   "outputs": [
    {
     "data": {
      "text/plain": [
       "0.10797822856980367"
      ]
     },
     "execution_count": 28,
     "metadata": {},
     "output_type": "execute_result"
    }
   ],
   "source": [
    "df.at[dates[0],'A']"
   ]
  },
  {
   "cell_type": "markdown",
   "metadata": {},
   "source": [
    "## Selection by Position"
   ]
  },
  {
   "cell_type": "markdown",
   "metadata": {},
   "source": [
    "`.iloc`"
   ]
  },
  {
   "cell_type": "code",
   "execution_count": 29,
   "metadata": {
    "collapsed": false
   },
   "outputs": [
    {
     "data": {
      "text/plain": [
       "A    0.588786\n",
       "B   -0.229523\n",
       "C   -0.520320\n",
       "D   -1.533932\n",
       "Name: 2013-01-04 00:00:00, dtype: float64"
      ]
     },
     "execution_count": 29,
     "metadata": {},
     "output_type": "execute_result"
    }
   ],
   "source": [
    "df.iloc[3]"
   ]
  },
  {
   "cell_type": "code",
   "execution_count": 30,
   "metadata": {
    "collapsed": false
   },
   "outputs": [
    {
     "data": {
      "text/html": [
       "<div>\n",
       "<table border=\"1\" class=\"dataframe\">\n",
       "  <thead>\n",
       "    <tr style=\"text-align: right;\">\n",
       "      <th></th>\n",
       "      <th>A</th>\n",
       "      <th>B</th>\n",
       "    </tr>\n",
       "  </thead>\n",
       "  <tbody>\n",
       "    <tr>\n",
       "      <th>2013-01-04</th>\n",
       "      <td>0.588786</td>\n",
       "      <td>-0.229523</td>\n",
       "    </tr>\n",
       "    <tr>\n",
       "      <th>2013-01-05</th>\n",
       "      <td>0.185924</td>\n",
       "      <td>2.594881</td>\n",
       "    </tr>\n",
       "  </tbody>\n",
       "</table>\n",
       "</div>"
      ],
      "text/plain": [
       "                   A         B\n",
       "2013-01-04  0.588786 -0.229523\n",
       "2013-01-05  0.185924  2.594881"
      ]
     },
     "execution_count": 30,
     "metadata": {},
     "output_type": "execute_result"
    }
   ],
   "source": [
    "df.iloc[3:5,0:2]"
   ]
  },
  {
   "cell_type": "code",
   "execution_count": 31,
   "metadata": {
    "collapsed": false
   },
   "outputs": [
    {
     "data": {
      "text/html": [
       "<div>\n",
       "<table border=\"1\" class=\"dataframe\">\n",
       "  <thead>\n",
       "    <tr style=\"text-align: right;\">\n",
       "      <th></th>\n",
       "      <th>A</th>\n",
       "      <th>C</th>\n",
       "    </tr>\n",
       "  </thead>\n",
       "  <tbody>\n",
       "    <tr>\n",
       "      <th>2013-01-02</th>\n",
       "      <td>-0.224894</td>\n",
       "      <td>1.148191</td>\n",
       "    </tr>\n",
       "    <tr>\n",
       "      <th>2013-01-03</th>\n",
       "      <td>-0.040349</td>\n",
       "      <td>-0.605623</td>\n",
       "    </tr>\n",
       "    <tr>\n",
       "      <th>2013-01-05</th>\n",
       "      <td>0.185924</td>\n",
       "      <td>-0.376013</td>\n",
       "    </tr>\n",
       "  </tbody>\n",
       "</table>\n",
       "</div>"
      ],
      "text/plain": [
       "                   A         C\n",
       "2013-01-02 -0.224894  1.148191\n",
       "2013-01-03 -0.040349 -0.605623\n",
       "2013-01-05  0.185924 -0.376013"
      ]
     },
     "execution_count": 31,
     "metadata": {},
     "output_type": "execute_result"
    }
   ],
   "source": [
    "df.iloc[[1,2,4],[0,2]]"
   ]
  },
  {
   "cell_type": "code",
   "execution_count": 32,
   "metadata": {
    "collapsed": false
   },
   "outputs": [
    {
     "data": {
      "text/html": [
       "<div>\n",
       "<table border=\"1\" class=\"dataframe\">\n",
       "  <thead>\n",
       "    <tr style=\"text-align: right;\">\n",
       "      <th></th>\n",
       "      <th>A</th>\n",
       "      <th>B</th>\n",
       "      <th>C</th>\n",
       "      <th>D</th>\n",
       "    </tr>\n",
       "  </thead>\n",
       "  <tbody>\n",
       "    <tr>\n",
       "      <th>2013-01-02</th>\n",
       "      <td>-0.224894</td>\n",
       "      <td>-1.538465</td>\n",
       "      <td>1.148191</td>\n",
       "      <td>0.280399</td>\n",
       "    </tr>\n",
       "    <tr>\n",
       "      <th>2013-01-03</th>\n",
       "      <td>-0.040349</td>\n",
       "      <td>0.138120</td>\n",
       "      <td>-0.605623</td>\n",
       "      <td>-1.406288</td>\n",
       "    </tr>\n",
       "  </tbody>\n",
       "</table>\n",
       "</div>"
      ],
      "text/plain": [
       "                   A         B         C         D\n",
       "2013-01-02 -0.224894 -1.538465  1.148191  0.280399\n",
       "2013-01-03 -0.040349  0.138120 -0.605623 -1.406288"
      ]
     },
     "execution_count": 32,
     "metadata": {},
     "output_type": "execute_result"
    }
   ],
   "source": [
    "df.iloc[1:3,:]"
   ]
  },
  {
   "cell_type": "code",
   "execution_count": 33,
   "metadata": {
    "collapsed": false
   },
   "outputs": [
    {
     "data": {
      "text/html": [
       "<div>\n",
       "<table border=\"1\" class=\"dataframe\">\n",
       "  <thead>\n",
       "    <tr style=\"text-align: right;\">\n",
       "      <th></th>\n",
       "      <th>B</th>\n",
       "      <th>C</th>\n",
       "    </tr>\n",
       "  </thead>\n",
       "  <tbody>\n",
       "    <tr>\n",
       "      <th>2013-01-01</th>\n",
       "      <td>-0.305659</td>\n",
       "      <td>-0.681187</td>\n",
       "    </tr>\n",
       "    <tr>\n",
       "      <th>2013-01-02</th>\n",
       "      <td>-1.538465</td>\n",
       "      <td>1.148191</td>\n",
       "    </tr>\n",
       "    <tr>\n",
       "      <th>2013-01-03</th>\n",
       "      <td>0.138120</td>\n",
       "      <td>-0.605623</td>\n",
       "    </tr>\n",
       "    <tr>\n",
       "      <th>2013-01-04</th>\n",
       "      <td>-0.229523</td>\n",
       "      <td>-0.520320</td>\n",
       "    </tr>\n",
       "    <tr>\n",
       "      <th>2013-01-05</th>\n",
       "      <td>2.594881</td>\n",
       "      <td>-0.376013</td>\n",
       "    </tr>\n",
       "    <tr>\n",
       "      <th>2013-01-06</th>\n",
       "      <td>0.433480</td>\n",
       "      <td>-0.635748</td>\n",
       "    </tr>\n",
       "  </tbody>\n",
       "</table>\n",
       "</div>"
      ],
      "text/plain": [
       "                   B         C\n",
       "2013-01-01 -0.305659 -0.681187\n",
       "2013-01-02 -1.538465  1.148191\n",
       "2013-01-03  0.138120 -0.605623\n",
       "2013-01-04 -0.229523 -0.520320\n",
       "2013-01-05  2.594881 -0.376013\n",
       "2013-01-06  0.433480 -0.635748"
      ]
     },
     "execution_count": 33,
     "metadata": {},
     "output_type": "execute_result"
    }
   ],
   "source": [
    "df.iloc[:,1:3]"
   ]
  },
  {
   "cell_type": "code",
   "execution_count": 34,
   "metadata": {
    "collapsed": false
   },
   "outputs": [
    {
     "data": {
      "text/plain": [
       "-1.5384650336709691"
      ]
     },
     "execution_count": 34,
     "metadata": {},
     "output_type": "execute_result"
    }
   ],
   "source": [
    "df.iloc[1,1]"
   ]
  },
  {
   "cell_type": "markdown",
   "metadata": {},
   "source": [
    "For getting fast access to a scalar (equiv to the prior method)"
   ]
  },
  {
   "cell_type": "code",
   "execution_count": 35,
   "metadata": {
    "collapsed": false
   },
   "outputs": [
    {
     "data": {
      "text/plain": [
       "-1.5384650336709691"
      ]
     },
     "execution_count": 35,
     "metadata": {},
     "output_type": "execute_result"
    }
   ],
   "source": [
    "df.iat[1,1]"
   ]
  },
  {
   "cell_type": "markdown",
   "metadata": {},
   "source": [
    "## Boolean indexing"
   ]
  },
  {
   "cell_type": "code",
   "execution_count": 36,
   "metadata": {
    "collapsed": false
   },
   "outputs": [
    {
     "data": {
      "text/html": [
       "<div>\n",
       "<table border=\"1\" class=\"dataframe\">\n",
       "  <thead>\n",
       "    <tr style=\"text-align: right;\">\n",
       "      <th></th>\n",
       "      <th>A</th>\n",
       "      <th>B</th>\n",
       "      <th>C</th>\n",
       "      <th>D</th>\n",
       "    </tr>\n",
       "  </thead>\n",
       "  <tbody>\n",
       "    <tr>\n",
       "      <th>2013-01-01</th>\n",
       "      <td>0.107978</td>\n",
       "      <td>-0.305659</td>\n",
       "      <td>-0.681187</td>\n",
       "      <td>1.027033</td>\n",
       "    </tr>\n",
       "    <tr>\n",
       "      <th>2013-01-04</th>\n",
       "      <td>0.588786</td>\n",
       "      <td>-0.229523</td>\n",
       "      <td>-0.520320</td>\n",
       "      <td>-1.533932</td>\n",
       "    </tr>\n",
       "    <tr>\n",
       "      <th>2013-01-05</th>\n",
       "      <td>0.185924</td>\n",
       "      <td>2.594881</td>\n",
       "      <td>-0.376013</td>\n",
       "      <td>0.125500</td>\n",
       "    </tr>\n",
       "    <tr>\n",
       "      <th>2013-01-06</th>\n",
       "      <td>0.844242</td>\n",
       "      <td>0.433480</td>\n",
       "      <td>-0.635748</td>\n",
       "      <td>-0.351878</td>\n",
       "    </tr>\n",
       "  </tbody>\n",
       "</table>\n",
       "</div>"
      ],
      "text/plain": [
       "                   A         B         C         D\n",
       "2013-01-01  0.107978 -0.305659 -0.681187  1.027033\n",
       "2013-01-04  0.588786 -0.229523 -0.520320 -1.533932\n",
       "2013-01-05  0.185924  2.594881 -0.376013  0.125500\n",
       "2013-01-06  0.844242  0.433480 -0.635748 -0.351878"
      ]
     },
     "execution_count": 36,
     "metadata": {},
     "output_type": "execute_result"
    }
   ],
   "source": [
    "df[df.A > 0]"
   ]
  },
  {
   "cell_type": "markdown",
   "metadata": {},
   "source": [
    "A `where` operation for getting"
   ]
  },
  {
   "cell_type": "code",
   "execution_count": 37,
   "metadata": {
    "collapsed": false
   },
   "outputs": [
    {
     "data": {
      "text/html": [
       "<div>\n",
       "<table border=\"1\" class=\"dataframe\">\n",
       "  <thead>\n",
       "    <tr style=\"text-align: right;\">\n",
       "      <th></th>\n",
       "      <th>A</th>\n",
       "      <th>B</th>\n",
       "      <th>C</th>\n",
       "      <th>D</th>\n",
       "    </tr>\n",
       "  </thead>\n",
       "  <tbody>\n",
       "    <tr>\n",
       "      <th>2013-01-01</th>\n",
       "      <td>0.107978</td>\n",
       "      <td>NaN</td>\n",
       "      <td>NaN</td>\n",
       "      <td>1.027033</td>\n",
       "    </tr>\n",
       "    <tr>\n",
       "      <th>2013-01-02</th>\n",
       "      <td>NaN</td>\n",
       "      <td>NaN</td>\n",
       "      <td>1.148191</td>\n",
       "      <td>0.280399</td>\n",
       "    </tr>\n",
       "    <tr>\n",
       "      <th>2013-01-03</th>\n",
       "      <td>NaN</td>\n",
       "      <td>0.138120</td>\n",
       "      <td>NaN</td>\n",
       "      <td>NaN</td>\n",
       "    </tr>\n",
       "    <tr>\n",
       "      <th>2013-01-04</th>\n",
       "      <td>0.588786</td>\n",
       "      <td>NaN</td>\n",
       "      <td>NaN</td>\n",
       "      <td>NaN</td>\n",
       "    </tr>\n",
       "    <tr>\n",
       "      <th>2013-01-05</th>\n",
       "      <td>0.185924</td>\n",
       "      <td>2.594881</td>\n",
       "      <td>NaN</td>\n",
       "      <td>0.125500</td>\n",
       "    </tr>\n",
       "    <tr>\n",
       "      <th>2013-01-06</th>\n",
       "      <td>0.844242</td>\n",
       "      <td>0.433480</td>\n",
       "      <td>NaN</td>\n",
       "      <td>NaN</td>\n",
       "    </tr>\n",
       "  </tbody>\n",
       "</table>\n",
       "</div>"
      ],
      "text/plain": [
       "                   A         B         C         D\n",
       "2013-01-01  0.107978       NaN       NaN  1.027033\n",
       "2013-01-02       NaN       NaN  1.148191  0.280399\n",
       "2013-01-03       NaN  0.138120       NaN       NaN\n",
       "2013-01-04  0.588786       NaN       NaN       NaN\n",
       "2013-01-05  0.185924  2.594881       NaN  0.125500\n",
       "2013-01-06  0.844242  0.433480       NaN       NaN"
      ]
     },
     "execution_count": 37,
     "metadata": {},
     "output_type": "execute_result"
    }
   ],
   "source": [
    "df[df>0]"
   ]
  },
  {
   "cell_type": "markdown",
   "metadata": {},
   "source": [
    "Using the `isin()` method for filtering:"
   ]
  },
  {
   "cell_type": "code",
   "execution_count": 38,
   "metadata": {
    "collapsed": true
   },
   "outputs": [],
   "source": [
    "df2 = df.copy()"
   ]
  },
  {
   "cell_type": "code",
   "execution_count": 39,
   "metadata": {
    "collapsed": true
   },
   "outputs": [],
   "source": [
    "df2['E'] = ['one', 'one', 'two', 'three', 'four', 'three']"
   ]
  },
  {
   "cell_type": "code",
   "execution_count": 40,
   "metadata": {
    "collapsed": false
   },
   "outputs": [
    {
     "data": {
      "text/html": [
       "<div>\n",
       "<table border=\"1\" class=\"dataframe\">\n",
       "  <thead>\n",
       "    <tr style=\"text-align: right;\">\n",
       "      <th></th>\n",
       "      <th>A</th>\n",
       "      <th>B</th>\n",
       "      <th>C</th>\n",
       "      <th>D</th>\n",
       "      <th>E</th>\n",
       "    </tr>\n",
       "  </thead>\n",
       "  <tbody>\n",
       "    <tr>\n",
       "      <th>2013-01-01</th>\n",
       "      <td>0.107978</td>\n",
       "      <td>-0.305659</td>\n",
       "      <td>-0.681187</td>\n",
       "      <td>1.027033</td>\n",
       "      <td>one</td>\n",
       "    </tr>\n",
       "    <tr>\n",
       "      <th>2013-01-02</th>\n",
       "      <td>-0.224894</td>\n",
       "      <td>-1.538465</td>\n",
       "      <td>1.148191</td>\n",
       "      <td>0.280399</td>\n",
       "      <td>one</td>\n",
       "    </tr>\n",
       "    <tr>\n",
       "      <th>2013-01-03</th>\n",
       "      <td>-0.040349</td>\n",
       "      <td>0.138120</td>\n",
       "      <td>-0.605623</td>\n",
       "      <td>-1.406288</td>\n",
       "      <td>two</td>\n",
       "    </tr>\n",
       "    <tr>\n",
       "      <th>2013-01-04</th>\n",
       "      <td>0.588786</td>\n",
       "      <td>-0.229523</td>\n",
       "      <td>-0.520320</td>\n",
       "      <td>-1.533932</td>\n",
       "      <td>three</td>\n",
       "    </tr>\n",
       "    <tr>\n",
       "      <th>2013-01-05</th>\n",
       "      <td>0.185924</td>\n",
       "      <td>2.594881</td>\n",
       "      <td>-0.376013</td>\n",
       "      <td>0.125500</td>\n",
       "      <td>four</td>\n",
       "    </tr>\n",
       "    <tr>\n",
       "      <th>2013-01-06</th>\n",
       "      <td>0.844242</td>\n",
       "      <td>0.433480</td>\n",
       "      <td>-0.635748</td>\n",
       "      <td>-0.351878</td>\n",
       "      <td>three</td>\n",
       "    </tr>\n",
       "  </tbody>\n",
       "</table>\n",
       "</div>"
      ],
      "text/plain": [
       "                   A         B         C         D      E\n",
       "2013-01-01  0.107978 -0.305659 -0.681187  1.027033    one\n",
       "2013-01-02 -0.224894 -1.538465  1.148191  0.280399    one\n",
       "2013-01-03 -0.040349  0.138120 -0.605623 -1.406288    two\n",
       "2013-01-04  0.588786 -0.229523 -0.520320 -1.533932  three\n",
       "2013-01-05  0.185924  2.594881 -0.376013  0.125500   four\n",
       "2013-01-06  0.844242  0.433480 -0.635748 -0.351878  three"
      ]
     },
     "execution_count": 40,
     "metadata": {},
     "output_type": "execute_result"
    }
   ],
   "source": [
    "df2"
   ]
  },
  {
   "cell_type": "code",
   "execution_count": 41,
   "metadata": {
    "collapsed": false
   },
   "outputs": [
    {
     "data": {
      "text/html": [
       "<div>\n",
       "<table border=\"1\" class=\"dataframe\">\n",
       "  <thead>\n",
       "    <tr style=\"text-align: right;\">\n",
       "      <th></th>\n",
       "      <th>A</th>\n",
       "      <th>B</th>\n",
       "      <th>C</th>\n",
       "      <th>D</th>\n",
       "      <th>E</th>\n",
       "    </tr>\n",
       "  </thead>\n",
       "  <tbody>\n",
       "    <tr>\n",
       "      <th>2013-01-03</th>\n",
       "      <td>-0.040349</td>\n",
       "      <td>0.138120</td>\n",
       "      <td>-0.605623</td>\n",
       "      <td>-1.406288</td>\n",
       "      <td>two</td>\n",
       "    </tr>\n",
       "    <tr>\n",
       "      <th>2013-01-05</th>\n",
       "      <td>0.185924</td>\n",
       "      <td>2.594881</td>\n",
       "      <td>-0.376013</td>\n",
       "      <td>0.125500</td>\n",
       "      <td>four</td>\n",
       "    </tr>\n",
       "  </tbody>\n",
       "</table>\n",
       "</div>"
      ],
      "text/plain": [
       "                   A         B         C         D     E\n",
       "2013-01-03 -0.040349  0.138120 -0.605623 -1.406288   two\n",
       "2013-01-05  0.185924  2.594881 -0.376013  0.125500  four"
      ]
     },
     "execution_count": 41,
     "metadata": {},
     "output_type": "execute_result"
    }
   ],
   "source": [
    "df2[df2['E'].isin(['two','four'])]"
   ]
  },
  {
   "cell_type": "markdown",
   "metadata": {},
   "source": [
    "## Setting"
   ]
  },
  {
   "cell_type": "code",
   "execution_count": 42,
   "metadata": {
    "collapsed": true
   },
   "outputs": [],
   "source": [
    "s1 = pd.Series([1,2,3,4,5,6], index=pd.date_range('20130102',periods=6))"
   ]
  },
  {
   "cell_type": "code",
   "execution_count": 43,
   "metadata": {
    "collapsed": false
   },
   "outputs": [
    {
     "data": {
      "text/plain": [
       "2013-01-02    1\n",
       "2013-01-03    2\n",
       "2013-01-04    3\n",
       "2013-01-05    4\n",
       "2013-01-06    5\n",
       "2013-01-07    6\n",
       "Freq: D, dtype: int64"
      ]
     },
     "execution_count": 43,
     "metadata": {},
     "output_type": "execute_result"
    }
   ],
   "source": [
    "s1"
   ]
  },
  {
   "cell_type": "code",
   "execution_count": 44,
   "metadata": {
    "collapsed": true
   },
   "outputs": [],
   "source": [
    "df['F'] = s1"
   ]
  },
  {
   "cell_type": "code",
   "execution_count": 45,
   "metadata": {
    "collapsed": true
   },
   "outputs": [],
   "source": [
    "df.at[dates[0],'A'] = 0"
   ]
  },
  {
   "cell_type": "code",
   "execution_count": 46,
   "metadata": {
    "collapsed": true
   },
   "outputs": [],
   "source": [
    "df.iat[0,1]=0"
   ]
  },
  {
   "cell_type": "code",
   "execution_count": 47,
   "metadata": {
    "collapsed": true
   },
   "outputs": [],
   "source": [
    "df.loc[:,'D'] = np.array([5] * len(df))"
   ]
  },
  {
   "cell_type": "code",
   "execution_count": 48,
   "metadata": {
    "collapsed": false
   },
   "outputs": [
    {
     "data": {
      "text/html": [
       "<div>\n",
       "<table border=\"1\" class=\"dataframe\">\n",
       "  <thead>\n",
       "    <tr style=\"text-align: right;\">\n",
       "      <th></th>\n",
       "      <th>A</th>\n",
       "      <th>B</th>\n",
       "      <th>C</th>\n",
       "      <th>D</th>\n",
       "      <th>F</th>\n",
       "    </tr>\n",
       "  </thead>\n",
       "  <tbody>\n",
       "    <tr>\n",
       "      <th>2013-01-01</th>\n",
       "      <td>0.000000</td>\n",
       "      <td>0.000000</td>\n",
       "      <td>-0.681187</td>\n",
       "      <td>5</td>\n",
       "      <td>NaN</td>\n",
       "    </tr>\n",
       "    <tr>\n",
       "      <th>2013-01-02</th>\n",
       "      <td>-0.224894</td>\n",
       "      <td>-1.538465</td>\n",
       "      <td>1.148191</td>\n",
       "      <td>5</td>\n",
       "      <td>1.0</td>\n",
       "    </tr>\n",
       "    <tr>\n",
       "      <th>2013-01-03</th>\n",
       "      <td>-0.040349</td>\n",
       "      <td>0.138120</td>\n",
       "      <td>-0.605623</td>\n",
       "      <td>5</td>\n",
       "      <td>2.0</td>\n",
       "    </tr>\n",
       "    <tr>\n",
       "      <th>2013-01-04</th>\n",
       "      <td>0.588786</td>\n",
       "      <td>-0.229523</td>\n",
       "      <td>-0.520320</td>\n",
       "      <td>5</td>\n",
       "      <td>3.0</td>\n",
       "    </tr>\n",
       "    <tr>\n",
       "      <th>2013-01-05</th>\n",
       "      <td>0.185924</td>\n",
       "      <td>2.594881</td>\n",
       "      <td>-0.376013</td>\n",
       "      <td>5</td>\n",
       "      <td>4.0</td>\n",
       "    </tr>\n",
       "    <tr>\n",
       "      <th>2013-01-06</th>\n",
       "      <td>0.844242</td>\n",
       "      <td>0.433480</td>\n",
       "      <td>-0.635748</td>\n",
       "      <td>5</td>\n",
       "      <td>5.0</td>\n",
       "    </tr>\n",
       "  </tbody>\n",
       "</table>\n",
       "</div>"
      ],
      "text/plain": [
       "                   A         B         C  D    F\n",
       "2013-01-01  0.000000  0.000000 -0.681187  5  NaN\n",
       "2013-01-02 -0.224894 -1.538465  1.148191  5  1.0\n",
       "2013-01-03 -0.040349  0.138120 -0.605623  5  2.0\n",
       "2013-01-04  0.588786 -0.229523 -0.520320  5  3.0\n",
       "2013-01-05  0.185924  2.594881 -0.376013  5  4.0\n",
       "2013-01-06  0.844242  0.433480 -0.635748  5  5.0"
      ]
     },
     "execution_count": 48,
     "metadata": {},
     "output_type": "execute_result"
    }
   ],
   "source": [
    "df"
   ]
  },
  {
   "cell_type": "markdown",
   "metadata": {},
   "source": [
    "A `where` operation with setting"
   ]
  },
  {
   "cell_type": "code",
   "execution_count": 49,
   "metadata": {
    "collapsed": true
   },
   "outputs": [],
   "source": [
    "df2 = df.copy()"
   ]
  },
  {
   "cell_type": "code",
   "execution_count": 50,
   "metadata": {
    "collapsed": true
   },
   "outputs": [],
   "source": [
    "df2[df2 > 0] = -df2"
   ]
  },
  {
   "cell_type": "code",
   "execution_count": 51,
   "metadata": {
    "collapsed": false
   },
   "outputs": [
    {
     "data": {
      "text/html": [
       "<div>\n",
       "<table border=\"1\" class=\"dataframe\">\n",
       "  <thead>\n",
       "    <tr style=\"text-align: right;\">\n",
       "      <th></th>\n",
       "      <th>A</th>\n",
       "      <th>B</th>\n",
       "      <th>C</th>\n",
       "      <th>D</th>\n",
       "      <th>F</th>\n",
       "    </tr>\n",
       "  </thead>\n",
       "  <tbody>\n",
       "    <tr>\n",
       "      <th>2013-01-01</th>\n",
       "      <td>0.000000</td>\n",
       "      <td>0.000000</td>\n",
       "      <td>-0.681187</td>\n",
       "      <td>-5</td>\n",
       "      <td>NaN</td>\n",
       "    </tr>\n",
       "    <tr>\n",
       "      <th>2013-01-02</th>\n",
       "      <td>-0.224894</td>\n",
       "      <td>-1.538465</td>\n",
       "      <td>-1.148191</td>\n",
       "      <td>-5</td>\n",
       "      <td>-1.0</td>\n",
       "    </tr>\n",
       "    <tr>\n",
       "      <th>2013-01-03</th>\n",
       "      <td>-0.040349</td>\n",
       "      <td>-0.138120</td>\n",
       "      <td>-0.605623</td>\n",
       "      <td>-5</td>\n",
       "      <td>-2.0</td>\n",
       "    </tr>\n",
       "    <tr>\n",
       "      <th>2013-01-04</th>\n",
       "      <td>-0.588786</td>\n",
       "      <td>-0.229523</td>\n",
       "      <td>-0.520320</td>\n",
       "      <td>-5</td>\n",
       "      <td>-3.0</td>\n",
       "    </tr>\n",
       "    <tr>\n",
       "      <th>2013-01-05</th>\n",
       "      <td>-0.185924</td>\n",
       "      <td>-2.594881</td>\n",
       "      <td>-0.376013</td>\n",
       "      <td>-5</td>\n",
       "      <td>-4.0</td>\n",
       "    </tr>\n",
       "    <tr>\n",
       "      <th>2013-01-06</th>\n",
       "      <td>-0.844242</td>\n",
       "      <td>-0.433480</td>\n",
       "      <td>-0.635748</td>\n",
       "      <td>-5</td>\n",
       "      <td>-5.0</td>\n",
       "    </tr>\n",
       "  </tbody>\n",
       "</table>\n",
       "</div>"
      ],
      "text/plain": [
       "                   A         B         C  D    F\n",
       "2013-01-01  0.000000  0.000000 -0.681187 -5  NaN\n",
       "2013-01-02 -0.224894 -1.538465 -1.148191 -5 -1.0\n",
       "2013-01-03 -0.040349 -0.138120 -0.605623 -5 -2.0\n",
       "2013-01-04 -0.588786 -0.229523 -0.520320 -5 -3.0\n",
       "2013-01-05 -0.185924 -2.594881 -0.376013 -5 -4.0\n",
       "2013-01-06 -0.844242 -0.433480 -0.635748 -5 -5.0"
      ]
     },
     "execution_count": 51,
     "metadata": {},
     "output_type": "execute_result"
    }
   ],
   "source": [
    "df2"
   ]
  },
  {
   "cell_type": "markdown",
   "metadata": {},
   "source": [
    "## Missing Data"
   ]
  },
  {
   "cell_type": "markdown",
   "metadata": {},
   "source": [
    "pandas primarily uses the value `np.nan` to represent missing data.  It's by default not included in computations.  "
   ]
  },
  {
   "cell_type": "markdown",
   "metadata": {},
   "source": [
    "Reindexing allows you to change/add/delete index on a specified axis.  This returns a copy of the data."
   ]
  },
  {
   "cell_type": "code",
   "execution_count": 52,
   "metadata": {
    "collapsed": true
   },
   "outputs": [],
   "source": [
    "df1 = df.reindex(index=dates[0:4], columns=list(df.columns) + ['E'])"
   ]
  },
  {
   "cell_type": "code",
   "execution_count": 53,
   "metadata": {
    "collapsed": true
   },
   "outputs": [],
   "source": [
    "df1.loc[dates[0]:dates[1],'E'] = 1"
   ]
  },
  {
   "cell_type": "code",
   "execution_count": 54,
   "metadata": {
    "collapsed": false
   },
   "outputs": [
    {
     "data": {
      "text/html": [
       "<div>\n",
       "<table border=\"1\" class=\"dataframe\">\n",
       "  <thead>\n",
       "    <tr style=\"text-align: right;\">\n",
       "      <th></th>\n",
       "      <th>A</th>\n",
       "      <th>B</th>\n",
       "      <th>C</th>\n",
       "      <th>D</th>\n",
       "      <th>F</th>\n",
       "      <th>E</th>\n",
       "    </tr>\n",
       "  </thead>\n",
       "  <tbody>\n",
       "    <tr>\n",
       "      <th>2013-01-01</th>\n",
       "      <td>0.000000</td>\n",
       "      <td>0.000000</td>\n",
       "      <td>-0.681187</td>\n",
       "      <td>5</td>\n",
       "      <td>NaN</td>\n",
       "      <td>1.0</td>\n",
       "    </tr>\n",
       "    <tr>\n",
       "      <th>2013-01-02</th>\n",
       "      <td>-0.224894</td>\n",
       "      <td>-1.538465</td>\n",
       "      <td>1.148191</td>\n",
       "      <td>5</td>\n",
       "      <td>1.0</td>\n",
       "      <td>1.0</td>\n",
       "    </tr>\n",
       "    <tr>\n",
       "      <th>2013-01-03</th>\n",
       "      <td>-0.040349</td>\n",
       "      <td>0.138120</td>\n",
       "      <td>-0.605623</td>\n",
       "      <td>5</td>\n",
       "      <td>2.0</td>\n",
       "      <td>NaN</td>\n",
       "    </tr>\n",
       "    <tr>\n",
       "      <th>2013-01-04</th>\n",
       "      <td>0.588786</td>\n",
       "      <td>-0.229523</td>\n",
       "      <td>-0.520320</td>\n",
       "      <td>5</td>\n",
       "      <td>3.0</td>\n",
       "      <td>NaN</td>\n",
       "    </tr>\n",
       "  </tbody>\n",
       "</table>\n",
       "</div>"
      ],
      "text/plain": [
       "                   A         B         C  D    F    E\n",
       "2013-01-01  0.000000  0.000000 -0.681187  5  NaN  1.0\n",
       "2013-01-02 -0.224894 -1.538465  1.148191  5  1.0  1.0\n",
       "2013-01-03 -0.040349  0.138120 -0.605623  5  2.0  NaN\n",
       "2013-01-04  0.588786 -0.229523 -0.520320  5  3.0  NaN"
      ]
     },
     "execution_count": 54,
     "metadata": {},
     "output_type": "execute_result"
    }
   ],
   "source": [
    "df1"
   ]
  },
  {
   "cell_type": "markdown",
   "metadata": {},
   "source": [
    "*To drop any rows that have missing data.*  "
   ]
  },
  {
   "cell_type": "code",
   "execution_count": 55,
   "metadata": {
    "collapsed": false
   },
   "outputs": [
    {
     "data": {
      "text/html": [
       "<div>\n",
       "<table border=\"1\" class=\"dataframe\">\n",
       "  <thead>\n",
       "    <tr style=\"text-align: right;\">\n",
       "      <th></th>\n",
       "      <th>A</th>\n",
       "      <th>B</th>\n",
       "      <th>C</th>\n",
       "      <th>D</th>\n",
       "      <th>F</th>\n",
       "      <th>E</th>\n",
       "    </tr>\n",
       "  </thead>\n",
       "  <tbody>\n",
       "    <tr>\n",
       "      <th>2013-01-02</th>\n",
       "      <td>-0.224894</td>\n",
       "      <td>-1.538465</td>\n",
       "      <td>1.148191</td>\n",
       "      <td>5</td>\n",
       "      <td>1.0</td>\n",
       "      <td>1.0</td>\n",
       "    </tr>\n",
       "  </tbody>\n",
       "</table>\n",
       "</div>"
      ],
      "text/plain": [
       "                   A         B         C  D    F    E\n",
       "2013-01-02 -0.224894 -1.538465  1.148191  5  1.0  1.0"
      ]
     },
     "execution_count": 55,
     "metadata": {},
     "output_type": "execute_result"
    }
   ],
   "source": [
    "df1.dropna(how='any')"
   ]
  },
  {
   "cell_type": "markdown",
   "metadata": {},
   "source": [
    "*Filling missing data*"
   ]
  },
  {
   "cell_type": "code",
   "execution_count": 56,
   "metadata": {
    "collapsed": false
   },
   "outputs": [
    {
     "data": {
      "text/html": [
       "<div>\n",
       "<table border=\"1\" class=\"dataframe\">\n",
       "  <thead>\n",
       "    <tr style=\"text-align: right;\">\n",
       "      <th></th>\n",
       "      <th>A</th>\n",
       "      <th>B</th>\n",
       "      <th>C</th>\n",
       "      <th>D</th>\n",
       "      <th>F</th>\n",
       "      <th>E</th>\n",
       "    </tr>\n",
       "  </thead>\n",
       "  <tbody>\n",
       "    <tr>\n",
       "      <th>2013-01-01</th>\n",
       "      <td>0.000000</td>\n",
       "      <td>0.000000</td>\n",
       "      <td>-0.681187</td>\n",
       "      <td>5</td>\n",
       "      <td>5.0</td>\n",
       "      <td>1.0</td>\n",
       "    </tr>\n",
       "    <tr>\n",
       "      <th>2013-01-02</th>\n",
       "      <td>-0.224894</td>\n",
       "      <td>-1.538465</td>\n",
       "      <td>1.148191</td>\n",
       "      <td>5</td>\n",
       "      <td>1.0</td>\n",
       "      <td>1.0</td>\n",
       "    </tr>\n",
       "    <tr>\n",
       "      <th>2013-01-03</th>\n",
       "      <td>-0.040349</td>\n",
       "      <td>0.138120</td>\n",
       "      <td>-0.605623</td>\n",
       "      <td>5</td>\n",
       "      <td>2.0</td>\n",
       "      <td>5.0</td>\n",
       "    </tr>\n",
       "    <tr>\n",
       "      <th>2013-01-04</th>\n",
       "      <td>0.588786</td>\n",
       "      <td>-0.229523</td>\n",
       "      <td>-0.520320</td>\n",
       "      <td>5</td>\n",
       "      <td>3.0</td>\n",
       "      <td>5.0</td>\n",
       "    </tr>\n",
       "  </tbody>\n",
       "</table>\n",
       "</div>"
      ],
      "text/plain": [
       "                   A         B         C  D    F    E\n",
       "2013-01-01  0.000000  0.000000 -0.681187  5  5.0  1.0\n",
       "2013-01-02 -0.224894 -1.538465  1.148191  5  1.0  1.0\n",
       "2013-01-03 -0.040349  0.138120 -0.605623  5  2.0  5.0\n",
       "2013-01-04  0.588786 -0.229523 -0.520320  5  3.0  5.0"
      ]
     },
     "execution_count": 56,
     "metadata": {},
     "output_type": "execute_result"
    }
   ],
   "source": [
    "df1.fillna(value=5)"
   ]
  },
  {
   "cell_type": "markdown",
   "metadata": {},
   "source": [
    "To get the boolean mask where values are `nan`"
   ]
  },
  {
   "cell_type": "code",
   "execution_count": 57,
   "metadata": {
    "collapsed": false
   },
   "outputs": [
    {
     "data": {
      "text/html": [
       "<div>\n",
       "<table border=\"1\" class=\"dataframe\">\n",
       "  <thead>\n",
       "    <tr style=\"text-align: right;\">\n",
       "      <th></th>\n",
       "      <th>A</th>\n",
       "      <th>B</th>\n",
       "      <th>C</th>\n",
       "      <th>D</th>\n",
       "      <th>F</th>\n",
       "      <th>E</th>\n",
       "    </tr>\n",
       "  </thead>\n",
       "  <tbody>\n",
       "    <tr>\n",
       "      <th>2013-01-01</th>\n",
       "      <td>False</td>\n",
       "      <td>False</td>\n",
       "      <td>False</td>\n",
       "      <td>False</td>\n",
       "      <td>True</td>\n",
       "      <td>False</td>\n",
       "    </tr>\n",
       "    <tr>\n",
       "      <th>2013-01-02</th>\n",
       "      <td>False</td>\n",
       "      <td>False</td>\n",
       "      <td>False</td>\n",
       "      <td>False</td>\n",
       "      <td>False</td>\n",
       "      <td>False</td>\n",
       "    </tr>\n",
       "    <tr>\n",
       "      <th>2013-01-03</th>\n",
       "      <td>False</td>\n",
       "      <td>False</td>\n",
       "      <td>False</td>\n",
       "      <td>False</td>\n",
       "      <td>False</td>\n",
       "      <td>True</td>\n",
       "    </tr>\n",
       "    <tr>\n",
       "      <th>2013-01-04</th>\n",
       "      <td>False</td>\n",
       "      <td>False</td>\n",
       "      <td>False</td>\n",
       "      <td>False</td>\n",
       "      <td>False</td>\n",
       "      <td>True</td>\n",
       "    </tr>\n",
       "  </tbody>\n",
       "</table>\n",
       "</div>"
      ],
      "text/plain": [
       "                A      B      C      D      F      E\n",
       "2013-01-01  False  False  False  False   True  False\n",
       "2013-01-02  False  False  False  False  False  False\n",
       "2013-01-03  False  False  False  False  False   True\n",
       "2013-01-04  False  False  False  False  False   True"
      ]
     },
     "execution_count": 57,
     "metadata": {},
     "output_type": "execute_result"
    }
   ],
   "source": [
    "pd.isnull(df1)"
   ]
  },
  {
   "cell_type": "markdown",
   "metadata": {},
   "source": [
    "## Operations"
   ]
  },
  {
   "cell_type": "markdown",
   "metadata": {},
   "source": [
    "### Stats"
   ]
  },
  {
   "cell_type": "markdown",
   "metadata": {},
   "source": [
    "Operations in general *exclude* missing data."
   ]
  },
  {
   "cell_type": "code",
   "execution_count": 58,
   "metadata": {
    "collapsed": false
   },
   "outputs": [
    {
     "data": {
      "text/plain": [
       "A    0.225618\n",
       "B    0.233082\n",
       "C   -0.278450\n",
       "D    5.000000\n",
       "F    3.000000\n",
       "dtype: float64"
      ]
     },
     "execution_count": 58,
     "metadata": {},
     "output_type": "execute_result"
    }
   ],
   "source": [
    "df.mean()"
   ]
  },
  {
   "cell_type": "markdown",
   "metadata": {},
   "source": [
    "Same operation on the other axis"
   ]
  },
  {
   "cell_type": "code",
   "execution_count": 59,
   "metadata": {
    "collapsed": false
   },
   "outputs": [
    {
     "data": {
      "text/plain": [
       "2013-01-01    1.079703\n",
       "2013-01-02    1.076966\n",
       "2013-01-03    1.298430\n",
       "2013-01-04    1.567788\n",
       "2013-01-05    2.280959\n",
       "2013-01-06    2.128395\n",
       "Freq: D, dtype: float64"
      ]
     },
     "execution_count": 59,
     "metadata": {},
     "output_type": "execute_result"
    }
   ],
   "source": [
    "df.mean(1)"
   ]
  },
  {
   "cell_type": "markdown",
   "metadata": {},
   "source": [
    "Operating with objects that have different dimensionality and need alignment.  In addition, pandas automatically broadcasts along the specified dimension.  "
   ]
  },
  {
   "cell_type": "code",
   "execution_count": 60,
   "metadata": {
    "collapsed": true
   },
   "outputs": [],
   "source": [
    "s = pd.Series([1,3,5,np.nan,6,8], index=dates).shift(2)"
   ]
  },
  {
   "cell_type": "code",
   "execution_count": 61,
   "metadata": {
    "collapsed": false
   },
   "outputs": [
    {
     "data": {
      "text/plain": [
       "2013-01-01    NaN\n",
       "2013-01-02    NaN\n",
       "2013-01-03    1.0\n",
       "2013-01-04    3.0\n",
       "2013-01-05    5.0\n",
       "2013-01-06    NaN\n",
       "Freq: D, dtype: float64"
      ]
     },
     "execution_count": 61,
     "metadata": {},
     "output_type": "execute_result"
    }
   ],
   "source": [
    "s"
   ]
  },
  {
   "cell_type": "code",
   "execution_count": 62,
   "metadata": {
    "collapsed": false
   },
   "outputs": [
    {
     "data": {
      "text/html": [
       "<div>\n",
       "<table border=\"1\" class=\"dataframe\">\n",
       "  <thead>\n",
       "    <tr style=\"text-align: right;\">\n",
       "      <th></th>\n",
       "      <th>A</th>\n",
       "      <th>B</th>\n",
       "      <th>C</th>\n",
       "      <th>D</th>\n",
       "      <th>F</th>\n",
       "    </tr>\n",
       "  </thead>\n",
       "  <tbody>\n",
       "    <tr>\n",
       "      <th>2013-01-01</th>\n",
       "      <td>NaN</td>\n",
       "      <td>NaN</td>\n",
       "      <td>NaN</td>\n",
       "      <td>NaN</td>\n",
       "      <td>NaN</td>\n",
       "    </tr>\n",
       "    <tr>\n",
       "      <th>2013-01-02</th>\n",
       "      <td>NaN</td>\n",
       "      <td>NaN</td>\n",
       "      <td>NaN</td>\n",
       "      <td>NaN</td>\n",
       "      <td>NaN</td>\n",
       "    </tr>\n",
       "    <tr>\n",
       "      <th>2013-01-03</th>\n",
       "      <td>-1.040349</td>\n",
       "      <td>-0.861880</td>\n",
       "      <td>-1.605623</td>\n",
       "      <td>4.0</td>\n",
       "      <td>1.0</td>\n",
       "    </tr>\n",
       "    <tr>\n",
       "      <th>2013-01-04</th>\n",
       "      <td>-2.411214</td>\n",
       "      <td>-3.229523</td>\n",
       "      <td>-3.520320</td>\n",
       "      <td>2.0</td>\n",
       "      <td>0.0</td>\n",
       "    </tr>\n",
       "    <tr>\n",
       "      <th>2013-01-05</th>\n",
       "      <td>-4.814076</td>\n",
       "      <td>-2.405119</td>\n",
       "      <td>-5.376013</td>\n",
       "      <td>0.0</td>\n",
       "      <td>-1.0</td>\n",
       "    </tr>\n",
       "    <tr>\n",
       "      <th>2013-01-06</th>\n",
       "      <td>NaN</td>\n",
       "      <td>NaN</td>\n",
       "      <td>NaN</td>\n",
       "      <td>NaN</td>\n",
       "      <td>NaN</td>\n",
       "    </tr>\n",
       "  </tbody>\n",
       "</table>\n",
       "</div>"
      ],
      "text/plain": [
       "                   A         B         C    D    F\n",
       "2013-01-01       NaN       NaN       NaN  NaN  NaN\n",
       "2013-01-02       NaN       NaN       NaN  NaN  NaN\n",
       "2013-01-03 -1.040349 -0.861880 -1.605623  4.0  1.0\n",
       "2013-01-04 -2.411214 -3.229523 -3.520320  2.0  0.0\n",
       "2013-01-05 -4.814076 -2.405119 -5.376013  0.0 -1.0\n",
       "2013-01-06       NaN       NaN       NaN  NaN  NaN"
      ]
     },
     "execution_count": 62,
     "metadata": {},
     "output_type": "execute_result"
    }
   ],
   "source": [
    "df.sub(s,axis='index')"
   ]
  },
  {
   "cell_type": "code",
   "execution_count": 63,
   "metadata": {
    "collapsed": false
   },
   "outputs": [
    {
     "data": {
      "text/html": [
       "<div>\n",
       "<table border=\"1\" class=\"dataframe\">\n",
       "  <thead>\n",
       "    <tr style=\"text-align: right;\">\n",
       "      <th></th>\n",
       "      <th>A</th>\n",
       "      <th>B</th>\n",
       "      <th>C</th>\n",
       "      <th>D</th>\n",
       "      <th>F</th>\n",
       "    </tr>\n",
       "  </thead>\n",
       "  <tbody>\n",
       "    <tr>\n",
       "      <th>2013-01-01</th>\n",
       "      <td>0.000000</td>\n",
       "      <td>0.000000</td>\n",
       "      <td>-0.681187</td>\n",
       "      <td>5</td>\n",
       "      <td>NaN</td>\n",
       "    </tr>\n",
       "    <tr>\n",
       "      <th>2013-01-02</th>\n",
       "      <td>-0.224894</td>\n",
       "      <td>-1.538465</td>\n",
       "      <td>1.148191</td>\n",
       "      <td>5</td>\n",
       "      <td>1.0</td>\n",
       "    </tr>\n",
       "    <tr>\n",
       "      <th>2013-01-03</th>\n",
       "      <td>-0.040349</td>\n",
       "      <td>0.138120</td>\n",
       "      <td>-0.605623</td>\n",
       "      <td>5</td>\n",
       "      <td>2.0</td>\n",
       "    </tr>\n",
       "    <tr>\n",
       "      <th>2013-01-04</th>\n",
       "      <td>0.588786</td>\n",
       "      <td>-0.229523</td>\n",
       "      <td>-0.520320</td>\n",
       "      <td>5</td>\n",
       "      <td>3.0</td>\n",
       "    </tr>\n",
       "    <tr>\n",
       "      <th>2013-01-05</th>\n",
       "      <td>0.185924</td>\n",
       "      <td>2.594881</td>\n",
       "      <td>-0.376013</td>\n",
       "      <td>5</td>\n",
       "      <td>4.0</td>\n",
       "    </tr>\n",
       "    <tr>\n",
       "      <th>2013-01-06</th>\n",
       "      <td>0.844242</td>\n",
       "      <td>0.433480</td>\n",
       "      <td>-0.635748</td>\n",
       "      <td>5</td>\n",
       "      <td>5.0</td>\n",
       "    </tr>\n",
       "  </tbody>\n",
       "</table>\n",
       "</div>"
      ],
      "text/plain": [
       "                   A         B         C  D    F\n",
       "2013-01-01  0.000000  0.000000 -0.681187  5  NaN\n",
       "2013-01-02 -0.224894 -1.538465  1.148191  5  1.0\n",
       "2013-01-03 -0.040349  0.138120 -0.605623  5  2.0\n",
       "2013-01-04  0.588786 -0.229523 -0.520320  5  3.0\n",
       "2013-01-05  0.185924  2.594881 -0.376013  5  4.0\n",
       "2013-01-06  0.844242  0.433480 -0.635748  5  5.0"
      ]
     },
     "execution_count": 63,
     "metadata": {},
     "output_type": "execute_result"
    }
   ],
   "source": [
    "df"
   ]
  },
  {
   "cell_type": "markdown",
   "metadata": {},
   "source": [
    "## Apply"
   ]
  },
  {
   "cell_type": "markdown",
   "metadata": {},
   "source": [
    "Applying functions to the data"
   ]
  },
  {
   "cell_type": "code",
   "execution_count": 64,
   "metadata": {
    "collapsed": false
   },
   "outputs": [
    {
     "data": {
      "text/html": [
       "<div>\n",
       "<table border=\"1\" class=\"dataframe\">\n",
       "  <thead>\n",
       "    <tr style=\"text-align: right;\">\n",
       "      <th></th>\n",
       "      <th>A</th>\n",
       "      <th>B</th>\n",
       "      <th>C</th>\n",
       "      <th>D</th>\n",
       "      <th>F</th>\n",
       "    </tr>\n",
       "  </thead>\n",
       "  <tbody>\n",
       "    <tr>\n",
       "      <th>2013-01-01</th>\n",
       "      <td>0.000000</td>\n",
       "      <td>0.000000</td>\n",
       "      <td>-0.681187</td>\n",
       "      <td>5</td>\n",
       "      <td>NaN</td>\n",
       "    </tr>\n",
       "    <tr>\n",
       "      <th>2013-01-02</th>\n",
       "      <td>-0.224894</td>\n",
       "      <td>-1.538465</td>\n",
       "      <td>0.467004</td>\n",
       "      <td>10</td>\n",
       "      <td>1.0</td>\n",
       "    </tr>\n",
       "    <tr>\n",
       "      <th>2013-01-03</th>\n",
       "      <td>-0.265243</td>\n",
       "      <td>-1.400345</td>\n",
       "      <td>-0.138619</td>\n",
       "      <td>15</td>\n",
       "      <td>3.0</td>\n",
       "    </tr>\n",
       "    <tr>\n",
       "      <th>2013-01-04</th>\n",
       "      <td>0.323542</td>\n",
       "      <td>-1.629869</td>\n",
       "      <td>-0.658939</td>\n",
       "      <td>20</td>\n",
       "      <td>6.0</td>\n",
       "    </tr>\n",
       "    <tr>\n",
       "      <th>2013-01-05</th>\n",
       "      <td>0.509467</td>\n",
       "      <td>0.965013</td>\n",
       "      <td>-1.034951</td>\n",
       "      <td>25</td>\n",
       "      <td>10.0</td>\n",
       "    </tr>\n",
       "    <tr>\n",
       "      <th>2013-01-06</th>\n",
       "      <td>1.353708</td>\n",
       "      <td>1.398493</td>\n",
       "      <td>-1.670700</td>\n",
       "      <td>30</td>\n",
       "      <td>15.0</td>\n",
       "    </tr>\n",
       "  </tbody>\n",
       "</table>\n",
       "</div>"
      ],
      "text/plain": [
       "                   A         B         C   D     F\n",
       "2013-01-01  0.000000  0.000000 -0.681187   5   NaN\n",
       "2013-01-02 -0.224894 -1.538465  0.467004  10   1.0\n",
       "2013-01-03 -0.265243 -1.400345 -0.138619  15   3.0\n",
       "2013-01-04  0.323542 -1.629869 -0.658939  20   6.0\n",
       "2013-01-05  0.509467  0.965013 -1.034951  25  10.0\n",
       "2013-01-06  1.353708  1.398493 -1.670700  30  15.0"
      ]
     },
     "execution_count": 64,
     "metadata": {},
     "output_type": "execute_result"
    }
   ],
   "source": [
    "df.apply(np.cumsum)"
   ]
  },
  {
   "cell_type": "code",
   "execution_count": 65,
   "metadata": {
    "collapsed": false
   },
   "outputs": [
    {
     "data": {
      "text/plain": [
       "A    1.069136\n",
       "B    4.133347\n",
       "C    1.829378\n",
       "D    0.000000\n",
       "F    4.000000\n",
       "dtype: float64"
      ]
     },
     "execution_count": 65,
     "metadata": {},
     "output_type": "execute_result"
    }
   ],
   "source": [
    "df.apply(lambda x: x.max() - x.min())"
   ]
  },
  {
   "cell_type": "markdown",
   "metadata": {},
   "source": [
    "## Histogramming"
   ]
  },
  {
   "cell_type": "code",
   "execution_count": 66,
   "metadata": {
    "collapsed": true
   },
   "outputs": [],
   "source": [
    "s = pd.Series(np.random.randint(0,7, size=10))"
   ]
  },
  {
   "cell_type": "code",
   "execution_count": 67,
   "metadata": {
    "collapsed": false
   },
   "outputs": [
    {
     "data": {
      "text/plain": [
       "0    1\n",
       "1    2\n",
       "2    4\n",
       "3    4\n",
       "4    4\n",
       "5    1\n",
       "6    4\n",
       "7    5\n",
       "8    0\n",
       "9    1\n",
       "dtype: int64"
      ]
     },
     "execution_count": 67,
     "metadata": {},
     "output_type": "execute_result"
    }
   ],
   "source": [
    "s"
   ]
  },
  {
   "cell_type": "code",
   "execution_count": 68,
   "metadata": {
    "collapsed": false
   },
   "outputs": [
    {
     "data": {
      "text/plain": [
       "4    4\n",
       "1    3\n",
       "5    1\n",
       "2    1\n",
       "0    1\n",
       "dtype: int64"
      ]
     },
     "execution_count": 68,
     "metadata": {},
     "output_type": "execute_result"
    }
   ],
   "source": [
    "s.value_counts()"
   ]
  },
  {
   "cell_type": "markdown",
   "metadata": {},
   "source": [
    "## String Methods"
   ]
  },
  {
   "cell_type": "code",
   "execution_count": 69,
   "metadata": {
    "collapsed": true
   },
   "outputs": [],
   "source": [
    "s = pd.Series(['A','B','C', 'Aaba', 'Baca', np.nan, 'CABA', 'dog', 'cat'])"
   ]
  },
  {
   "cell_type": "code",
   "execution_count": 70,
   "metadata": {
    "collapsed": false
   },
   "outputs": [
    {
     "data": {
      "text/plain": [
       "0       a\n",
       "1       b\n",
       "2       c\n",
       "3    aaba\n",
       "4    baca\n",
       "5     NaN\n",
       "6    caba\n",
       "7     dog\n",
       "8     cat\n",
       "dtype: object"
      ]
     },
     "execution_count": 70,
     "metadata": {},
     "output_type": "execute_result"
    }
   ],
   "source": [
    "s.str.lower()"
   ]
  },
  {
   "cell_type": "markdown",
   "metadata": {},
   "source": [
    "## Merge"
   ]
  },
  {
   "cell_type": "markdown",
   "metadata": {},
   "source": [
    "### Concat"
   ]
  },
  {
   "cell_type": "markdown",
   "metadata": {},
   "source": [
    "pandas provides various facilities for easily combining together Series, DataFrame, and Panel objects with various kinds of set logic for the indexes and relational algebra functionality in the case of join / merge-type operations"
   ]
  },
  {
   "cell_type": "markdown",
   "metadata": {},
   "source": [
    "Concatenating pandas objects together with `concat()`:"
   ]
  },
  {
   "cell_type": "code",
   "execution_count": 71,
   "metadata": {
    "collapsed": true
   },
   "outputs": [],
   "source": [
    "df = pd.DataFrame( np.random.randn(10,4))"
   ]
  },
  {
   "cell_type": "code",
   "execution_count": 72,
   "metadata": {
    "collapsed": false
   },
   "outputs": [
    {
     "data": {
      "text/html": [
       "<div>\n",
       "<table border=\"1\" class=\"dataframe\">\n",
       "  <thead>\n",
       "    <tr style=\"text-align: right;\">\n",
       "      <th></th>\n",
       "      <th>0</th>\n",
       "      <th>1</th>\n",
       "      <th>2</th>\n",
       "      <th>3</th>\n",
       "    </tr>\n",
       "  </thead>\n",
       "  <tbody>\n",
       "    <tr>\n",
       "      <th>0</th>\n",
       "      <td>0.711814</td>\n",
       "      <td>0.286101</td>\n",
       "      <td>-0.964718</td>\n",
       "      <td>0.783251</td>\n",
       "    </tr>\n",
       "    <tr>\n",
       "      <th>1</th>\n",
       "      <td>-0.314288</td>\n",
       "      <td>-1.239076</td>\n",
       "      <td>0.263363</td>\n",
       "      <td>0.589101</td>\n",
       "    </tr>\n",
       "    <tr>\n",
       "      <th>2</th>\n",
       "      <td>0.835378</td>\n",
       "      <td>-0.473338</td>\n",
       "      <td>2.178842</td>\n",
       "      <td>1.238468</td>\n",
       "    </tr>\n",
       "    <tr>\n",
       "      <th>3</th>\n",
       "      <td>0.454717</td>\n",
       "      <td>0.483830</td>\n",
       "      <td>-1.122314</td>\n",
       "      <td>-1.440798</td>\n",
       "    </tr>\n",
       "    <tr>\n",
       "      <th>4</th>\n",
       "      <td>1.607458</td>\n",
       "      <td>-0.348294</td>\n",
       "      <td>-1.494330</td>\n",
       "      <td>-0.081320</td>\n",
       "    </tr>\n",
       "    <tr>\n",
       "      <th>5</th>\n",
       "      <td>-0.766084</td>\n",
       "      <td>0.734255</td>\n",
       "      <td>1.225657</td>\n",
       "      <td>1.382531</td>\n",
       "    </tr>\n",
       "    <tr>\n",
       "      <th>6</th>\n",
       "      <td>-1.071725</td>\n",
       "      <td>-0.663003</td>\n",
       "      <td>-0.321134</td>\n",
       "      <td>-1.649526</td>\n",
       "    </tr>\n",
       "    <tr>\n",
       "      <th>7</th>\n",
       "      <td>0.133685</td>\n",
       "      <td>-0.181229</td>\n",
       "      <td>0.390131</td>\n",
       "      <td>1.871952</td>\n",
       "    </tr>\n",
       "    <tr>\n",
       "      <th>8</th>\n",
       "      <td>-1.607369</td>\n",
       "      <td>0.241126</td>\n",
       "      <td>-0.110803</td>\n",
       "      <td>0.320145</td>\n",
       "    </tr>\n",
       "    <tr>\n",
       "      <th>9</th>\n",
       "      <td>-1.457832</td>\n",
       "      <td>-2.143019</td>\n",
       "      <td>0.327878</td>\n",
       "      <td>-1.129839</td>\n",
       "    </tr>\n",
       "  </tbody>\n",
       "</table>\n",
       "</div>"
      ],
      "text/plain": [
       "          0         1         2         3\n",
       "0  0.711814  0.286101 -0.964718  0.783251\n",
       "1 -0.314288 -1.239076  0.263363  0.589101\n",
       "2  0.835378 -0.473338  2.178842  1.238468\n",
       "3  0.454717  0.483830 -1.122314 -1.440798\n",
       "4  1.607458 -0.348294 -1.494330 -0.081320\n",
       "5 -0.766084  0.734255  1.225657  1.382531\n",
       "6 -1.071725 -0.663003 -0.321134 -1.649526\n",
       "7  0.133685 -0.181229  0.390131  1.871952\n",
       "8 -1.607369  0.241126 -0.110803  0.320145\n",
       "9 -1.457832 -2.143019  0.327878 -1.129839"
      ]
     },
     "execution_count": 72,
     "metadata": {},
     "output_type": "execute_result"
    }
   ],
   "source": [
    "df"
   ]
  },
  {
   "cell_type": "code",
   "execution_count": 73,
   "metadata": {
    "collapsed": true
   },
   "outputs": [],
   "source": [
    "# break it into pieces\n",
    "pieces = [df[:3], df[3:7], df[7:]]"
   ]
  },
  {
   "cell_type": "code",
   "execution_count": 74,
   "metadata": {
    "collapsed": false
   },
   "outputs": [
    {
     "data": {
      "text/html": [
       "<div>\n",
       "<table border=\"1\" class=\"dataframe\">\n",
       "  <thead>\n",
       "    <tr style=\"text-align: right;\">\n",
       "      <th></th>\n",
       "      <th>0</th>\n",
       "      <th>1</th>\n",
       "      <th>2</th>\n",
       "      <th>3</th>\n",
       "    </tr>\n",
       "  </thead>\n",
       "  <tbody>\n",
       "    <tr>\n",
       "      <th>0</th>\n",
       "      <td>0.711814</td>\n",
       "      <td>0.286101</td>\n",
       "      <td>-0.964718</td>\n",
       "      <td>0.783251</td>\n",
       "    </tr>\n",
       "    <tr>\n",
       "      <th>1</th>\n",
       "      <td>-0.314288</td>\n",
       "      <td>-1.239076</td>\n",
       "      <td>0.263363</td>\n",
       "      <td>0.589101</td>\n",
       "    </tr>\n",
       "    <tr>\n",
       "      <th>2</th>\n",
       "      <td>0.835378</td>\n",
       "      <td>-0.473338</td>\n",
       "      <td>2.178842</td>\n",
       "      <td>1.238468</td>\n",
       "    </tr>\n",
       "    <tr>\n",
       "      <th>3</th>\n",
       "      <td>0.454717</td>\n",
       "      <td>0.483830</td>\n",
       "      <td>-1.122314</td>\n",
       "      <td>-1.440798</td>\n",
       "    </tr>\n",
       "    <tr>\n",
       "      <th>4</th>\n",
       "      <td>1.607458</td>\n",
       "      <td>-0.348294</td>\n",
       "      <td>-1.494330</td>\n",
       "      <td>-0.081320</td>\n",
       "    </tr>\n",
       "    <tr>\n",
       "      <th>5</th>\n",
       "      <td>-0.766084</td>\n",
       "      <td>0.734255</td>\n",
       "      <td>1.225657</td>\n",
       "      <td>1.382531</td>\n",
       "    </tr>\n",
       "    <tr>\n",
       "      <th>6</th>\n",
       "      <td>-1.071725</td>\n",
       "      <td>-0.663003</td>\n",
       "      <td>-0.321134</td>\n",
       "      <td>-1.649526</td>\n",
       "    </tr>\n",
       "    <tr>\n",
       "      <th>7</th>\n",
       "      <td>0.133685</td>\n",
       "      <td>-0.181229</td>\n",
       "      <td>0.390131</td>\n",
       "      <td>1.871952</td>\n",
       "    </tr>\n",
       "    <tr>\n",
       "      <th>8</th>\n",
       "      <td>-1.607369</td>\n",
       "      <td>0.241126</td>\n",
       "      <td>-0.110803</td>\n",
       "      <td>0.320145</td>\n",
       "    </tr>\n",
       "    <tr>\n",
       "      <th>9</th>\n",
       "      <td>-1.457832</td>\n",
       "      <td>-2.143019</td>\n",
       "      <td>0.327878</td>\n",
       "      <td>-1.129839</td>\n",
       "    </tr>\n",
       "  </tbody>\n",
       "</table>\n",
       "</div>"
      ],
      "text/plain": [
       "          0         1         2         3\n",
       "0  0.711814  0.286101 -0.964718  0.783251\n",
       "1 -0.314288 -1.239076  0.263363  0.589101\n",
       "2  0.835378 -0.473338  2.178842  1.238468\n",
       "3  0.454717  0.483830 -1.122314 -1.440798\n",
       "4  1.607458 -0.348294 -1.494330 -0.081320\n",
       "5 -0.766084  0.734255  1.225657  1.382531\n",
       "6 -1.071725 -0.663003 -0.321134 -1.649526\n",
       "7  0.133685 -0.181229  0.390131  1.871952\n",
       "8 -1.607369  0.241126 -0.110803  0.320145\n",
       "9 -1.457832 -2.143019  0.327878 -1.129839"
      ]
     },
     "execution_count": 74,
     "metadata": {},
     "output_type": "execute_result"
    }
   ],
   "source": [
    "pd.concat(pieces)"
   ]
  },
  {
   "cell_type": "markdown",
   "metadata": {},
   "source": [
    "### Join"
   ]
  },
  {
   "cell_type": "code",
   "execution_count": 75,
   "metadata": {
    "collapsed": true
   },
   "outputs": [],
   "source": [
    "left  = pd.DataFrame({'key': ['foo','foo'], 'lval': [1,2]})"
   ]
  },
  {
   "cell_type": "code",
   "execution_count": 79,
   "metadata": {
    "collapsed": true
   },
   "outputs": [],
   "source": [
    "right = pd.DataFrame({'key': ['foo','foo'], 'rval': [4,5]})"
   ]
  },
  {
   "cell_type": "code",
   "execution_count": 77,
   "metadata": {
    "collapsed": false
   },
   "outputs": [
    {
     "data": {
      "text/html": [
       "<div>\n",
       "<table border=\"1\" class=\"dataframe\">\n",
       "  <thead>\n",
       "    <tr style=\"text-align: right;\">\n",
       "      <th></th>\n",
       "      <th>key</th>\n",
       "      <th>lval</th>\n",
       "    </tr>\n",
       "  </thead>\n",
       "  <tbody>\n",
       "    <tr>\n",
       "      <th>0</th>\n",
       "      <td>foo</td>\n",
       "      <td>1</td>\n",
       "    </tr>\n",
       "    <tr>\n",
       "      <th>1</th>\n",
       "      <td>foo</td>\n",
       "      <td>2</td>\n",
       "    </tr>\n",
       "  </tbody>\n",
       "</table>\n",
       "</div>"
      ],
      "text/plain": [
       "   key  lval\n",
       "0  foo     1\n",
       "1  foo     2"
      ]
     },
     "execution_count": 77,
     "metadata": {},
     "output_type": "execute_result"
    }
   ],
   "source": [
    "left"
   ]
  },
  {
   "cell_type": "code",
   "execution_count": 80,
   "metadata": {
    "collapsed": false
   },
   "outputs": [
    {
     "data": {
      "text/html": [
       "<div>\n",
       "<table border=\"1\" class=\"dataframe\">\n",
       "  <thead>\n",
       "    <tr style=\"text-align: right;\">\n",
       "      <th></th>\n",
       "      <th>key</th>\n",
       "      <th>rval</th>\n",
       "    </tr>\n",
       "  </thead>\n",
       "  <tbody>\n",
       "    <tr>\n",
       "      <th>0</th>\n",
       "      <td>foo</td>\n",
       "      <td>4</td>\n",
       "    </tr>\n",
       "    <tr>\n",
       "      <th>1</th>\n",
       "      <td>foo</td>\n",
       "      <td>5</td>\n",
       "    </tr>\n",
       "  </tbody>\n",
       "</table>\n",
       "</div>"
      ],
      "text/plain": [
       "   key  rval\n",
       "0  foo     4\n",
       "1  foo     5"
      ]
     },
     "execution_count": 80,
     "metadata": {},
     "output_type": "execute_result"
    }
   ],
   "source": [
    "right"
   ]
  },
  {
   "cell_type": "code",
   "execution_count": 81,
   "metadata": {
    "collapsed": false
   },
   "outputs": [
    {
     "data": {
      "text/html": [
       "<div>\n",
       "<table border=\"1\" class=\"dataframe\">\n",
       "  <thead>\n",
       "    <tr style=\"text-align: right;\">\n",
       "      <th></th>\n",
       "      <th>key</th>\n",
       "      <th>lval</th>\n",
       "      <th>rval</th>\n",
       "    </tr>\n",
       "  </thead>\n",
       "  <tbody>\n",
       "    <tr>\n",
       "      <th>0</th>\n",
       "      <td>foo</td>\n",
       "      <td>1</td>\n",
       "      <td>4</td>\n",
       "    </tr>\n",
       "    <tr>\n",
       "      <th>1</th>\n",
       "      <td>foo</td>\n",
       "      <td>1</td>\n",
       "      <td>5</td>\n",
       "    </tr>\n",
       "    <tr>\n",
       "      <th>2</th>\n",
       "      <td>foo</td>\n",
       "      <td>2</td>\n",
       "      <td>4</td>\n",
       "    </tr>\n",
       "    <tr>\n",
       "      <th>3</th>\n",
       "      <td>foo</td>\n",
       "      <td>2</td>\n",
       "      <td>5</td>\n",
       "    </tr>\n",
       "  </tbody>\n",
       "</table>\n",
       "</div>"
      ],
      "text/plain": [
       "   key  lval  rval\n",
       "0  foo     1     4\n",
       "1  foo     1     5\n",
       "2  foo     2     4\n",
       "3  foo     2     5"
      ]
     },
     "execution_count": 81,
     "metadata": {},
     "output_type": "execute_result"
    }
   ],
   "source": [
    "pd.merge(left,right,on='key')"
   ]
  },
  {
   "cell_type": "code",
   "execution_count": 82,
   "metadata": {
    "collapsed": true
   },
   "outputs": [],
   "source": [
    "left  = pd.DataFrame({'key': ['foo', 'bar'], 'lval': [1,2]})"
   ]
  },
  {
   "cell_type": "code",
   "execution_count": 83,
   "metadata": {
    "collapsed": true
   },
   "outputs": [],
   "source": [
    "right = pd.DataFrame({'key': ['foo', 'bar'], 'rval': [4,5]})"
   ]
  },
  {
   "cell_type": "code",
   "execution_count": 84,
   "metadata": {
    "collapsed": false
   },
   "outputs": [
    {
     "data": {
      "text/html": [
       "<div>\n",
       "<table border=\"1\" class=\"dataframe\">\n",
       "  <thead>\n",
       "    <tr style=\"text-align: right;\">\n",
       "      <th></th>\n",
       "      <th>key</th>\n",
       "      <th>lval</th>\n",
       "    </tr>\n",
       "  </thead>\n",
       "  <tbody>\n",
       "    <tr>\n",
       "      <th>0</th>\n",
       "      <td>foo</td>\n",
       "      <td>1</td>\n",
       "    </tr>\n",
       "    <tr>\n",
       "      <th>1</th>\n",
       "      <td>bar</td>\n",
       "      <td>2</td>\n",
       "    </tr>\n",
       "  </tbody>\n",
       "</table>\n",
       "</div>"
      ],
      "text/plain": [
       "   key  lval\n",
       "0  foo     1\n",
       "1  bar     2"
      ]
     },
     "execution_count": 84,
     "metadata": {},
     "output_type": "execute_result"
    }
   ],
   "source": [
    "left"
   ]
  },
  {
   "cell_type": "code",
   "execution_count": 85,
   "metadata": {
    "collapsed": false
   },
   "outputs": [
    {
     "data": {
      "text/html": [
       "<div>\n",
       "<table border=\"1\" class=\"dataframe\">\n",
       "  <thead>\n",
       "    <tr style=\"text-align: right;\">\n",
       "      <th></th>\n",
       "      <th>key</th>\n",
       "      <th>rval</th>\n",
       "    </tr>\n",
       "  </thead>\n",
       "  <tbody>\n",
       "    <tr>\n",
       "      <th>0</th>\n",
       "      <td>foo</td>\n",
       "      <td>4</td>\n",
       "    </tr>\n",
       "    <tr>\n",
       "      <th>1</th>\n",
       "      <td>bar</td>\n",
       "      <td>5</td>\n",
       "    </tr>\n",
       "  </tbody>\n",
       "</table>\n",
       "</div>"
      ],
      "text/plain": [
       "   key  rval\n",
       "0  foo     4\n",
       "1  bar     5"
      ]
     },
     "execution_count": 85,
     "metadata": {},
     "output_type": "execute_result"
    }
   ],
   "source": [
    "right"
   ]
  },
  {
   "cell_type": "code",
   "execution_count": 86,
   "metadata": {
    "collapsed": false
   },
   "outputs": [
    {
     "data": {
      "text/html": [
       "<div>\n",
       "<table border=\"1\" class=\"dataframe\">\n",
       "  <thead>\n",
       "    <tr style=\"text-align: right;\">\n",
       "      <th></th>\n",
       "      <th>key</th>\n",
       "      <th>lval</th>\n",
       "      <th>rval</th>\n",
       "    </tr>\n",
       "  </thead>\n",
       "  <tbody>\n",
       "    <tr>\n",
       "      <th>0</th>\n",
       "      <td>foo</td>\n",
       "      <td>1</td>\n",
       "      <td>4</td>\n",
       "    </tr>\n",
       "    <tr>\n",
       "      <th>1</th>\n",
       "      <td>bar</td>\n",
       "      <td>2</td>\n",
       "      <td>5</td>\n",
       "    </tr>\n",
       "  </tbody>\n",
       "</table>\n",
       "</div>"
      ],
      "text/plain": [
       "   key  lval  rval\n",
       "0  foo     1     4\n",
       "1  bar     2     5"
      ]
     },
     "execution_count": 86,
     "metadata": {},
     "output_type": "execute_result"
    }
   ],
   "source": [
    "pd.merge(left,right,on='key')"
   ]
  },
  {
   "cell_type": "markdown",
   "metadata": {},
   "source": [
    "### Append"
   ]
  },
  {
   "cell_type": "code",
   "execution_count": 87,
   "metadata": {
    "collapsed": true
   },
   "outputs": [],
   "source": [
    "df = pd.DataFrame(np.random.randn(8,4), columns=['A','B','C','D'])"
   ]
  },
  {
   "cell_type": "code",
   "execution_count": 88,
   "metadata": {
    "collapsed": false
   },
   "outputs": [
    {
     "data": {
      "text/html": [
       "<div>\n",
       "<table border=\"1\" class=\"dataframe\">\n",
       "  <thead>\n",
       "    <tr style=\"text-align: right;\">\n",
       "      <th></th>\n",
       "      <th>A</th>\n",
       "      <th>B</th>\n",
       "      <th>C</th>\n",
       "      <th>D</th>\n",
       "    </tr>\n",
       "  </thead>\n",
       "  <tbody>\n",
       "    <tr>\n",
       "      <th>0</th>\n",
       "      <td>2.534777</td>\n",
       "      <td>-0.289296</td>\n",
       "      <td>0.356404</td>\n",
       "      <td>-0.025108</td>\n",
       "    </tr>\n",
       "    <tr>\n",
       "      <th>1</th>\n",
       "      <td>-1.105884</td>\n",
       "      <td>1.114242</td>\n",
       "      <td>-0.206507</td>\n",
       "      <td>-0.521112</td>\n",
       "    </tr>\n",
       "    <tr>\n",
       "      <th>2</th>\n",
       "      <td>-0.434325</td>\n",
       "      <td>-0.396506</td>\n",
       "      <td>-0.762657</td>\n",
       "      <td>-0.146347</td>\n",
       "    </tr>\n",
       "    <tr>\n",
       "      <th>3</th>\n",
       "      <td>0.506812</td>\n",
       "      <td>0.676005</td>\n",
       "      <td>0.939436</td>\n",
       "      <td>-1.524064</td>\n",
       "    </tr>\n",
       "    <tr>\n",
       "      <th>4</th>\n",
       "      <td>0.317750</td>\n",
       "      <td>-0.083033</td>\n",
       "      <td>-1.111153</td>\n",
       "      <td>1.189702</td>\n",
       "    </tr>\n",
       "    <tr>\n",
       "      <th>5</th>\n",
       "      <td>0.095024</td>\n",
       "      <td>0.021715</td>\n",
       "      <td>1.384186</td>\n",
       "      <td>1.276461</td>\n",
       "    </tr>\n",
       "    <tr>\n",
       "      <th>6</th>\n",
       "      <td>-0.066084</td>\n",
       "      <td>-0.523915</td>\n",
       "      <td>0.320799</td>\n",
       "      <td>0.410338</td>\n",
       "    </tr>\n",
       "    <tr>\n",
       "      <th>7</th>\n",
       "      <td>1.240078</td>\n",
       "      <td>-1.330350</td>\n",
       "      <td>-0.905604</td>\n",
       "      <td>-0.106239</td>\n",
       "    </tr>\n",
       "  </tbody>\n",
       "</table>\n",
       "</div>"
      ],
      "text/plain": [
       "          A         B         C         D\n",
       "0  2.534777 -0.289296  0.356404 -0.025108\n",
       "1 -1.105884  1.114242 -0.206507 -0.521112\n",
       "2 -0.434325 -0.396506 -0.762657 -0.146347\n",
       "3  0.506812  0.676005  0.939436 -1.524064\n",
       "4  0.317750 -0.083033 -1.111153  1.189702\n",
       "5  0.095024  0.021715  1.384186  1.276461\n",
       "6 -0.066084 -0.523915  0.320799  0.410338\n",
       "7  1.240078 -1.330350 -0.905604 -0.106239"
      ]
     },
     "execution_count": 88,
     "metadata": {},
     "output_type": "execute_result"
    }
   ],
   "source": [
    "df"
   ]
  },
  {
   "cell_type": "code",
   "execution_count": 89,
   "metadata": {
    "collapsed": true
   },
   "outputs": [],
   "source": [
    "s = df.iloc[3]"
   ]
  },
  {
   "cell_type": "code",
   "execution_count": 90,
   "metadata": {
    "collapsed": false
   },
   "outputs": [
    {
     "data": {
      "text/html": [
       "<div>\n",
       "<table border=\"1\" class=\"dataframe\">\n",
       "  <thead>\n",
       "    <tr style=\"text-align: right;\">\n",
       "      <th></th>\n",
       "      <th>A</th>\n",
       "      <th>B</th>\n",
       "      <th>C</th>\n",
       "      <th>D</th>\n",
       "    </tr>\n",
       "  </thead>\n",
       "  <tbody>\n",
       "    <tr>\n",
       "      <th>0</th>\n",
       "      <td>2.534777</td>\n",
       "      <td>-0.289296</td>\n",
       "      <td>0.356404</td>\n",
       "      <td>-0.025108</td>\n",
       "    </tr>\n",
       "    <tr>\n",
       "      <th>1</th>\n",
       "      <td>-1.105884</td>\n",
       "      <td>1.114242</td>\n",
       "      <td>-0.206507</td>\n",
       "      <td>-0.521112</td>\n",
       "    </tr>\n",
       "    <tr>\n",
       "      <th>2</th>\n",
       "      <td>-0.434325</td>\n",
       "      <td>-0.396506</td>\n",
       "      <td>-0.762657</td>\n",
       "      <td>-0.146347</td>\n",
       "    </tr>\n",
       "    <tr>\n",
       "      <th>3</th>\n",
       "      <td>0.506812</td>\n",
       "      <td>0.676005</td>\n",
       "      <td>0.939436</td>\n",
       "      <td>-1.524064</td>\n",
       "    </tr>\n",
       "    <tr>\n",
       "      <th>4</th>\n",
       "      <td>0.317750</td>\n",
       "      <td>-0.083033</td>\n",
       "      <td>-1.111153</td>\n",
       "      <td>1.189702</td>\n",
       "    </tr>\n",
       "    <tr>\n",
       "      <th>5</th>\n",
       "      <td>0.095024</td>\n",
       "      <td>0.021715</td>\n",
       "      <td>1.384186</td>\n",
       "      <td>1.276461</td>\n",
       "    </tr>\n",
       "    <tr>\n",
       "      <th>6</th>\n",
       "      <td>-0.066084</td>\n",
       "      <td>-0.523915</td>\n",
       "      <td>0.320799</td>\n",
       "      <td>0.410338</td>\n",
       "    </tr>\n",
       "    <tr>\n",
       "      <th>7</th>\n",
       "      <td>1.240078</td>\n",
       "      <td>-1.330350</td>\n",
       "      <td>-0.905604</td>\n",
       "      <td>-0.106239</td>\n",
       "    </tr>\n",
       "    <tr>\n",
       "      <th>8</th>\n",
       "      <td>0.506812</td>\n",
       "      <td>0.676005</td>\n",
       "      <td>0.939436</td>\n",
       "      <td>-1.524064</td>\n",
       "    </tr>\n",
       "  </tbody>\n",
       "</table>\n",
       "</div>"
      ],
      "text/plain": [
       "          A         B         C         D\n",
       "0  2.534777 -0.289296  0.356404 -0.025108\n",
       "1 -1.105884  1.114242 -0.206507 -0.521112\n",
       "2 -0.434325 -0.396506 -0.762657 -0.146347\n",
       "3  0.506812  0.676005  0.939436 -1.524064\n",
       "4  0.317750 -0.083033 -1.111153  1.189702\n",
       "5  0.095024  0.021715  1.384186  1.276461\n",
       "6 -0.066084 -0.523915  0.320799  0.410338\n",
       "7  1.240078 -1.330350 -0.905604 -0.106239\n",
       "8  0.506812  0.676005  0.939436 -1.524064"
      ]
     },
     "execution_count": 90,
     "metadata": {},
     "output_type": "execute_result"
    }
   ],
   "source": [
    "df.append(s,ignore_index=True)"
   ]
  },
  {
   "cell_type": "markdown",
   "metadata": {},
   "source": [
    "## Grouping"
   ]
  },
  {
   "cell_type": "markdown",
   "metadata": {},
   "source": [
    "By \"group by\" we are referring to a process involving one or more of the following steps\n",
    "\n",
    "* **Splitting** the data into groups based on some criteria\n",
    "* **Applying** a function to each group independently\n",
    "* **Combining** the results into a data structure"
   ]
  },
  {
   "cell_type": "code",
   "execution_count": 91,
   "metadata": {
    "collapsed": true
   },
   "outputs": [],
   "source": [
    "df = pd.DataFrame({'A' : ['foo', 'bar', 'foo', 'bar', \n",
    "                            'foo', 'bar', 'foo', 'foo'],\n",
    "                  'B' : ['one', 'one', 'two', 'three',\n",
    "                        'two', 'two', 'one', 'three'],\n",
    "                  'C' : np.random.randn(8), \n",
    "                  'D' : np.random.randn(8)})"
   ]
  },
  {
   "cell_type": "code",
   "execution_count": 92,
   "metadata": {
    "collapsed": false
   },
   "outputs": [
    {
     "data": {
      "text/html": [
       "<div>\n",
       "<table border=\"1\" class=\"dataframe\">\n",
       "  <thead>\n",
       "    <tr style=\"text-align: right;\">\n",
       "      <th></th>\n",
       "      <th>A</th>\n",
       "      <th>B</th>\n",
       "      <th>C</th>\n",
       "      <th>D</th>\n",
       "    </tr>\n",
       "  </thead>\n",
       "  <tbody>\n",
       "    <tr>\n",
       "      <th>0</th>\n",
       "      <td>foo</td>\n",
       "      <td>one</td>\n",
       "      <td>-0.626878</td>\n",
       "      <td>-0.624873</td>\n",
       "    </tr>\n",
       "    <tr>\n",
       "      <th>1</th>\n",
       "      <td>bar</td>\n",
       "      <td>one</td>\n",
       "      <td>2.184180</td>\n",
       "      <td>1.105793</td>\n",
       "    </tr>\n",
       "    <tr>\n",
       "      <th>2</th>\n",
       "      <td>foo</td>\n",
       "      <td>two</td>\n",
       "      <td>-1.312085</td>\n",
       "      <td>1.740399</td>\n",
       "    </tr>\n",
       "    <tr>\n",
       "      <th>3</th>\n",
       "      <td>bar</td>\n",
       "      <td>three</td>\n",
       "      <td>-0.157784</td>\n",
       "      <td>0.770271</td>\n",
       "    </tr>\n",
       "    <tr>\n",
       "      <th>4</th>\n",
       "      <td>foo</td>\n",
       "      <td>two</td>\n",
       "      <td>1.944903</td>\n",
       "      <td>-0.812146</td>\n",
       "    </tr>\n",
       "    <tr>\n",
       "      <th>5</th>\n",
       "      <td>bar</td>\n",
       "      <td>two</td>\n",
       "      <td>0.794762</td>\n",
       "      <td>0.088218</td>\n",
       "    </tr>\n",
       "    <tr>\n",
       "      <th>6</th>\n",
       "      <td>foo</td>\n",
       "      <td>one</td>\n",
       "      <td>-2.824335</td>\n",
       "      <td>1.461683</td>\n",
       "    </tr>\n",
       "    <tr>\n",
       "      <th>7</th>\n",
       "      <td>foo</td>\n",
       "      <td>three</td>\n",
       "      <td>-0.959642</td>\n",
       "      <td>0.202795</td>\n",
       "    </tr>\n",
       "  </tbody>\n",
       "</table>\n",
       "</div>"
      ],
      "text/plain": [
       "     A      B         C         D\n",
       "0  foo    one -0.626878 -0.624873\n",
       "1  bar    one  2.184180  1.105793\n",
       "2  foo    two -1.312085  1.740399\n",
       "3  bar  three -0.157784  0.770271\n",
       "4  foo    two  1.944903 -0.812146\n",
       "5  bar    two  0.794762  0.088218\n",
       "6  foo    one -2.824335  1.461683\n",
       "7  foo  three -0.959642  0.202795"
      ]
     },
     "execution_count": 92,
     "metadata": {},
     "output_type": "execute_result"
    }
   ],
   "source": [
    "df"
   ]
  },
  {
   "cell_type": "markdown",
   "metadata": {},
   "source": [
    "Grouping and then applying a function *sum* to the resulting groups"
   ]
  },
  {
   "cell_type": "code",
   "execution_count": 93,
   "metadata": {
    "collapsed": false
   },
   "outputs": [
    {
     "data": {
      "text/html": [
       "<div>\n",
       "<table border=\"1\" class=\"dataframe\">\n",
       "  <thead>\n",
       "    <tr style=\"text-align: right;\">\n",
       "      <th></th>\n",
       "      <th>C</th>\n",
       "      <th>D</th>\n",
       "    </tr>\n",
       "    <tr>\n",
       "      <th>A</th>\n",
       "      <th></th>\n",
       "      <th></th>\n",
       "    </tr>\n",
       "  </thead>\n",
       "  <tbody>\n",
       "    <tr>\n",
       "      <th>bar</th>\n",
       "      <td>2.821158</td>\n",
       "      <td>1.964281</td>\n",
       "    </tr>\n",
       "    <tr>\n",
       "      <th>foo</th>\n",
       "      <td>-3.778037</td>\n",
       "      <td>1.967857</td>\n",
       "    </tr>\n",
       "  </tbody>\n",
       "</table>\n",
       "</div>"
      ],
      "text/plain": [
       "            C         D\n",
       "A                      \n",
       "bar  2.821158  1.964281\n",
       "foo -3.778037  1.967857"
      ]
     },
     "execution_count": 93,
     "metadata": {},
     "output_type": "execute_result"
    }
   ],
   "source": [
    "df.groupby('A').sum()"
   ]
  },
  {
   "cell_type": "markdown",
   "metadata": {},
   "source": [
    "Grouping by multiple colums forms a hierarchical index, which we then apply the function"
   ]
  },
  {
   "cell_type": "code",
   "execution_count": 94,
   "metadata": {
    "collapsed": false
   },
   "outputs": [
    {
     "data": {
      "text/html": [
       "<div>\n",
       "<table border=\"1\" class=\"dataframe\">\n",
       "  <thead>\n",
       "    <tr style=\"text-align: right;\">\n",
       "      <th></th>\n",
       "      <th></th>\n",
       "      <th>C</th>\n",
       "      <th>D</th>\n",
       "    </tr>\n",
       "    <tr>\n",
       "      <th>A</th>\n",
       "      <th>B</th>\n",
       "      <th></th>\n",
       "      <th></th>\n",
       "    </tr>\n",
       "  </thead>\n",
       "  <tbody>\n",
       "    <tr>\n",
       "      <th rowspan=\"3\" valign=\"top\">bar</th>\n",
       "      <th>one</th>\n",
       "      <td>2.184180</td>\n",
       "      <td>1.105793</td>\n",
       "    </tr>\n",
       "    <tr>\n",
       "      <th>three</th>\n",
       "      <td>-0.157784</td>\n",
       "      <td>0.770271</td>\n",
       "    </tr>\n",
       "    <tr>\n",
       "      <th>two</th>\n",
       "      <td>0.794762</td>\n",
       "      <td>0.088218</td>\n",
       "    </tr>\n",
       "    <tr>\n",
       "      <th rowspan=\"3\" valign=\"top\">foo</th>\n",
       "      <th>one</th>\n",
       "      <td>-3.451214</td>\n",
       "      <td>0.836810</td>\n",
       "    </tr>\n",
       "    <tr>\n",
       "      <th>three</th>\n",
       "      <td>-0.959642</td>\n",
       "      <td>0.202795</td>\n",
       "    </tr>\n",
       "    <tr>\n",
       "      <th>two</th>\n",
       "      <td>0.632819</td>\n",
       "      <td>0.928253</td>\n",
       "    </tr>\n",
       "  </tbody>\n",
       "</table>\n",
       "</div>"
      ],
      "text/plain": [
       "                  C         D\n",
       "A   B                        \n",
       "bar one    2.184180  1.105793\n",
       "    three -0.157784  0.770271\n",
       "    two    0.794762  0.088218\n",
       "foo one   -3.451214  0.836810\n",
       "    three -0.959642  0.202795\n",
       "    two    0.632819  0.928253"
      ]
     },
     "execution_count": 94,
     "metadata": {},
     "output_type": "execute_result"
    }
   ],
   "source": [
    "df.groupby(['A','B']).sum()"
   ]
  },
  {
   "cell_type": "markdown",
   "metadata": {},
   "source": [
    "## Reshaping"
   ]
  },
  {
   "cell_type": "markdown",
   "metadata": {},
   "source": [
    "### Stack"
   ]
  },
  {
   "cell_type": "code",
   "execution_count": 95,
   "metadata": {
    "collapsed": true
   },
   "outputs": [],
   "source": [
    "tuples = list(zip(*[['bar', 'bar', 'baz', 'baz', \n",
    "                    'foo', 'foo', 'qux', 'qux'],\n",
    "                   ['one','two', 'one', 'two', \n",
    "                   'one', 'two','one', 'two']]))"
   ]
  },
  {
   "cell_type": "code",
   "execution_count": 96,
   "metadata": {
    "collapsed": false
   },
   "outputs": [
    {
     "data": {
      "text/plain": [
       "[('bar', 'one'),\n",
       " ('bar', 'two'),\n",
       " ('baz', 'one'),\n",
       " ('baz', 'two'),\n",
       " ('foo', 'one'),\n",
       " ('foo', 'two'),\n",
       " ('qux', 'one'),\n",
       " ('qux', 'two')]"
      ]
     },
     "execution_count": 96,
     "metadata": {},
     "output_type": "execute_result"
    }
   ],
   "source": [
    "tuples"
   ]
  },
  {
   "cell_type": "code",
   "execution_count": 97,
   "metadata": {
    "collapsed": true
   },
   "outputs": [],
   "source": [
    "index = pd.MultiIndex.from_tuples(tuples, names=['first','second'])"
   ]
  },
  {
   "cell_type": "code",
   "execution_count": 99,
   "metadata": {
    "collapsed": false
   },
   "outputs": [],
   "source": [
    "df = pd.DataFrame(np.random.randn(8,2),index=index,columns=['A','B'])"
   ]
  },
  {
   "cell_type": "code",
   "execution_count": 100,
   "metadata": {
    "collapsed": false
   },
   "outputs": [
    {
     "data": {
      "text/html": [
       "<div>\n",
       "<table border=\"1\" class=\"dataframe\">\n",
       "  <thead>\n",
       "    <tr style=\"text-align: right;\">\n",
       "      <th></th>\n",
       "      <th></th>\n",
       "      <th>A</th>\n",
       "      <th>B</th>\n",
       "    </tr>\n",
       "    <tr>\n",
       "      <th>first</th>\n",
       "      <th>second</th>\n",
       "      <th></th>\n",
       "      <th></th>\n",
       "    </tr>\n",
       "  </thead>\n",
       "  <tbody>\n",
       "    <tr>\n",
       "      <th rowspan=\"2\" valign=\"top\">bar</th>\n",
       "      <th>one</th>\n",
       "      <td>-1.031564</td>\n",
       "      <td>0.932540</td>\n",
       "    </tr>\n",
       "    <tr>\n",
       "      <th>two</th>\n",
       "      <td>-0.445919</td>\n",
       "      <td>-1.471211</td>\n",
       "    </tr>\n",
       "    <tr>\n",
       "      <th rowspan=\"2\" valign=\"top\">baz</th>\n",
       "      <th>one</th>\n",
       "      <td>1.008876</td>\n",
       "      <td>-0.456601</td>\n",
       "    </tr>\n",
       "    <tr>\n",
       "      <th>two</th>\n",
       "      <td>-0.108111</td>\n",
       "      <td>0.050855</td>\n",
       "    </tr>\n",
       "    <tr>\n",
       "      <th rowspan=\"2\" valign=\"top\">foo</th>\n",
       "      <th>one</th>\n",
       "      <td>0.929118</td>\n",
       "      <td>0.381359</td>\n",
       "    </tr>\n",
       "    <tr>\n",
       "      <th>two</th>\n",
       "      <td>-0.846887</td>\n",
       "      <td>-1.360578</td>\n",
       "    </tr>\n",
       "    <tr>\n",
       "      <th rowspan=\"2\" valign=\"top\">qux</th>\n",
       "      <th>one</th>\n",
       "      <td>1.752230</td>\n",
       "      <td>-0.491567</td>\n",
       "    </tr>\n",
       "    <tr>\n",
       "      <th>two</th>\n",
       "      <td>-0.673097</td>\n",
       "      <td>-0.205947</td>\n",
       "    </tr>\n",
       "  </tbody>\n",
       "</table>\n",
       "</div>"
      ],
      "text/plain": [
       "                     A         B\n",
       "first second                    \n",
       "bar   one    -1.031564  0.932540\n",
       "      two    -0.445919 -1.471211\n",
       "baz   one     1.008876 -0.456601\n",
       "      two    -0.108111  0.050855\n",
       "foo   one     0.929118  0.381359\n",
       "      two    -0.846887 -1.360578\n",
       "qux   one     1.752230 -0.491567\n",
       "      two    -0.673097 -0.205947"
      ]
     },
     "execution_count": 100,
     "metadata": {},
     "output_type": "execute_result"
    }
   ],
   "source": [
    "df"
   ]
  },
  {
   "cell_type": "code",
   "execution_count": 102,
   "metadata": {
    "collapsed": false
   },
   "outputs": [
    {
     "data": {
      "text/html": [
       "<div>\n",
       "<table border=\"1\" class=\"dataframe\">\n",
       "  <thead>\n",
       "    <tr style=\"text-align: right;\">\n",
       "      <th></th>\n",
       "      <th></th>\n",
       "      <th>A</th>\n",
       "      <th>B</th>\n",
       "    </tr>\n",
       "    <tr>\n",
       "      <th>first</th>\n",
       "      <th>second</th>\n",
       "      <th></th>\n",
       "      <th></th>\n",
       "    </tr>\n",
       "  </thead>\n",
       "  <tbody>\n",
       "    <tr>\n",
       "      <th rowspan=\"2\" valign=\"top\">bar</th>\n",
       "      <th>one</th>\n",
       "      <td>-1.031564</td>\n",
       "      <td>0.932540</td>\n",
       "    </tr>\n",
       "    <tr>\n",
       "      <th>two</th>\n",
       "      <td>-0.445919</td>\n",
       "      <td>-1.471211</td>\n",
       "    </tr>\n",
       "    <tr>\n",
       "      <th rowspan=\"2\" valign=\"top\">baz</th>\n",
       "      <th>one</th>\n",
       "      <td>1.008876</td>\n",
       "      <td>-0.456601</td>\n",
       "    </tr>\n",
       "    <tr>\n",
       "      <th>two</th>\n",
       "      <td>-0.108111</td>\n",
       "      <td>0.050855</td>\n",
       "    </tr>\n",
       "  </tbody>\n",
       "</table>\n",
       "</div>"
      ],
      "text/plain": [
       "                     A         B\n",
       "first second                    \n",
       "bar   one    -1.031564  0.932540\n",
       "      two    -0.445919 -1.471211\n",
       "baz   one     1.008876 -0.456601\n",
       "      two    -0.108111  0.050855"
      ]
     },
     "execution_count": 102,
     "metadata": {},
     "output_type": "execute_result"
    }
   ],
   "source": [
    "df2 =df[:4]\n",
    "df[:4]"
   ]
  },
  {
   "cell_type": "markdown",
   "metadata": {},
   "source": [
    "The `stack()` method \"compresses\" a level in the DataFrame's columns"
   ]
  },
  {
   "cell_type": "code",
   "execution_count": 103,
   "metadata": {
    "collapsed": true
   },
   "outputs": [],
   "source": [
    "stacked = df2.stack()"
   ]
  },
  {
   "cell_type": "code",
   "execution_count": 104,
   "metadata": {
    "collapsed": false
   },
   "outputs": [
    {
     "data": {
      "text/plain": [
       "first  second   \n",
       "bar    one     A   -1.031564\n",
       "               B    0.932540\n",
       "       two     A   -0.445919\n",
       "               B   -1.471211\n",
       "baz    one     A    1.008876\n",
       "               B   -0.456601\n",
       "       two     A   -0.108111\n",
       "               B    0.050855\n",
       "dtype: float64"
      ]
     },
     "execution_count": 104,
     "metadata": {},
     "output_type": "execute_result"
    }
   ],
   "source": [
    "stacked"
   ]
  },
  {
   "cell_type": "code",
   "execution_count": 105,
   "metadata": {
    "collapsed": false
   },
   "outputs": [
    {
     "data": {
      "text/html": [
       "<div>\n",
       "<table border=\"1\" class=\"dataframe\">\n",
       "  <thead>\n",
       "    <tr style=\"text-align: right;\">\n",
       "      <th></th>\n",
       "      <th></th>\n",
       "      <th>A</th>\n",
       "      <th>B</th>\n",
       "    </tr>\n",
       "    <tr>\n",
       "      <th>first</th>\n",
       "      <th>second</th>\n",
       "      <th></th>\n",
       "      <th></th>\n",
       "    </tr>\n",
       "  </thead>\n",
       "  <tbody>\n",
       "    <tr>\n",
       "      <th rowspan=\"2\" valign=\"top\">bar</th>\n",
       "      <th>one</th>\n",
       "      <td>-1.031564</td>\n",
       "      <td>0.932540</td>\n",
       "    </tr>\n",
       "    <tr>\n",
       "      <th>two</th>\n",
       "      <td>-0.445919</td>\n",
       "      <td>-1.471211</td>\n",
       "    </tr>\n",
       "    <tr>\n",
       "      <th rowspan=\"2\" valign=\"top\">baz</th>\n",
       "      <th>one</th>\n",
       "      <td>1.008876</td>\n",
       "      <td>-0.456601</td>\n",
       "    </tr>\n",
       "    <tr>\n",
       "      <th>two</th>\n",
       "      <td>-0.108111</td>\n",
       "      <td>0.050855</td>\n",
       "    </tr>\n",
       "  </tbody>\n",
       "</table>\n",
       "</div>"
      ],
      "text/plain": [
       "                     A         B\n",
       "first second                    \n",
       "bar   one    -1.031564  0.932540\n",
       "      two    -0.445919 -1.471211\n",
       "baz   one     1.008876 -0.456601\n",
       "      two    -0.108111  0.050855"
      ]
     },
     "execution_count": 105,
     "metadata": {},
     "output_type": "execute_result"
    }
   ],
   "source": [
    "stacked.unstack()"
   ]
  },
  {
   "cell_type": "code",
   "execution_count": 106,
   "metadata": {
    "collapsed": false
   },
   "outputs": [
    {
     "data": {
      "text/html": [
       "<div>\n",
       "<table border=\"1\" class=\"dataframe\">\n",
       "  <thead>\n",
       "    <tr style=\"text-align: right;\">\n",
       "      <th></th>\n",
       "      <th>second</th>\n",
       "      <th>one</th>\n",
       "      <th>two</th>\n",
       "    </tr>\n",
       "    <tr>\n",
       "      <th>first</th>\n",
       "      <th></th>\n",
       "      <th></th>\n",
       "      <th></th>\n",
       "    </tr>\n",
       "  </thead>\n",
       "  <tbody>\n",
       "    <tr>\n",
       "      <th rowspan=\"2\" valign=\"top\">bar</th>\n",
       "      <th>A</th>\n",
       "      <td>-1.031564</td>\n",
       "      <td>-0.445919</td>\n",
       "    </tr>\n",
       "    <tr>\n",
       "      <th>B</th>\n",
       "      <td>0.932540</td>\n",
       "      <td>-1.471211</td>\n",
       "    </tr>\n",
       "    <tr>\n",
       "      <th rowspan=\"2\" valign=\"top\">baz</th>\n",
       "      <th>A</th>\n",
       "      <td>1.008876</td>\n",
       "      <td>-0.108111</td>\n",
       "    </tr>\n",
       "    <tr>\n",
       "      <th>B</th>\n",
       "      <td>-0.456601</td>\n",
       "      <td>0.050855</td>\n",
       "    </tr>\n",
       "  </tbody>\n",
       "</table>\n",
       "</div>"
      ],
      "text/plain": [
       "second        one       two\n",
       "first                      \n",
       "bar   A -1.031564 -0.445919\n",
       "      B  0.932540 -1.471211\n",
       "baz   A  1.008876 -0.108111\n",
       "      B -0.456601  0.050855"
      ]
     },
     "execution_count": 106,
     "metadata": {},
     "output_type": "execute_result"
    }
   ],
   "source": [
    "stacked.unstack(1)"
   ]
  },
  {
   "cell_type": "code",
   "execution_count": 107,
   "metadata": {
    "collapsed": false
   },
   "outputs": [
    {
     "data": {
      "text/html": [
       "<div>\n",
       "<table border=\"1\" class=\"dataframe\">\n",
       "  <thead>\n",
       "    <tr style=\"text-align: right;\">\n",
       "      <th></th>\n",
       "      <th>first</th>\n",
       "      <th>bar</th>\n",
       "      <th>baz</th>\n",
       "    </tr>\n",
       "    <tr>\n",
       "      <th>second</th>\n",
       "      <th></th>\n",
       "      <th></th>\n",
       "      <th></th>\n",
       "    </tr>\n",
       "  </thead>\n",
       "  <tbody>\n",
       "    <tr>\n",
       "      <th rowspan=\"2\" valign=\"top\">one</th>\n",
       "      <th>A</th>\n",
       "      <td>-1.031564</td>\n",
       "      <td>1.008876</td>\n",
       "    </tr>\n",
       "    <tr>\n",
       "      <th>B</th>\n",
       "      <td>0.932540</td>\n",
       "      <td>-0.456601</td>\n",
       "    </tr>\n",
       "    <tr>\n",
       "      <th rowspan=\"2\" valign=\"top\">two</th>\n",
       "      <th>A</th>\n",
       "      <td>-0.445919</td>\n",
       "      <td>-0.108111</td>\n",
       "    </tr>\n",
       "    <tr>\n",
       "      <th>B</th>\n",
       "      <td>-1.471211</td>\n",
       "      <td>0.050855</td>\n",
       "    </tr>\n",
       "  </tbody>\n",
       "</table>\n",
       "</div>"
      ],
      "text/plain": [
       "first          bar       baz\n",
       "second                      \n",
       "one    A -1.031564  1.008876\n",
       "       B  0.932540 -0.456601\n",
       "two    A -0.445919 -0.108111\n",
       "       B -1.471211  0.050855"
      ]
     },
     "execution_count": 107,
     "metadata": {},
     "output_type": "execute_result"
    }
   ],
   "source": [
    "stacked.unstack(0)"
   ]
  },
  {
   "cell_type": "markdown",
   "metadata": {},
   "source": [
    "## Pivot Tables"
   ]
  },
  {
   "cell_type": "code",
   "execution_count": 108,
   "metadata": {
    "collapsed": true
   },
   "outputs": [],
   "source": [
    "df = pd.DataFrame({'A' : ['one', 'one', 'two', 'three'] * 3, \n",
    "                  'B' : ['A', 'B', 'C'] * 4 , \n",
    "                  'C' : ['foo', 'foo', 'foo', 'bar', 'bar' , 'bar'] * 2,\n",
    "                  'D' : np.random.randn(12),\n",
    "                  'E' : np.random.randn(12)})"
   ]
  },
  {
   "cell_type": "code",
   "execution_count": 109,
   "metadata": {
    "collapsed": false
   },
   "outputs": [
    {
     "data": {
      "text/html": [
       "<div>\n",
       "<table border=\"1\" class=\"dataframe\">\n",
       "  <thead>\n",
       "    <tr style=\"text-align: right;\">\n",
       "      <th></th>\n",
       "      <th>A</th>\n",
       "      <th>B</th>\n",
       "      <th>C</th>\n",
       "      <th>D</th>\n",
       "      <th>E</th>\n",
       "    </tr>\n",
       "  </thead>\n",
       "  <tbody>\n",
       "    <tr>\n",
       "      <th>0</th>\n",
       "      <td>one</td>\n",
       "      <td>A</td>\n",
       "      <td>foo</td>\n",
       "      <td>-1.117575</td>\n",
       "      <td>1.078278</td>\n",
       "    </tr>\n",
       "    <tr>\n",
       "      <th>1</th>\n",
       "      <td>one</td>\n",
       "      <td>B</td>\n",
       "      <td>foo</td>\n",
       "      <td>0.523796</td>\n",
       "      <td>-0.145555</td>\n",
       "    </tr>\n",
       "    <tr>\n",
       "      <th>2</th>\n",
       "      <td>two</td>\n",
       "      <td>C</td>\n",
       "      <td>foo</td>\n",
       "      <td>1.104775</td>\n",
       "      <td>-0.488835</td>\n",
       "    </tr>\n",
       "    <tr>\n",
       "      <th>3</th>\n",
       "      <td>three</td>\n",
       "      <td>A</td>\n",
       "      <td>bar</td>\n",
       "      <td>-2.550877</td>\n",
       "      <td>-1.371550</td>\n",
       "    </tr>\n",
       "    <tr>\n",
       "      <th>4</th>\n",
       "      <td>one</td>\n",
       "      <td>B</td>\n",
       "      <td>bar</td>\n",
       "      <td>0.205619</td>\n",
       "      <td>1.332542</td>\n",
       "    </tr>\n",
       "    <tr>\n",
       "      <th>5</th>\n",
       "      <td>one</td>\n",
       "      <td>C</td>\n",
       "      <td>bar</td>\n",
       "      <td>-0.541524</td>\n",
       "      <td>0.997665</td>\n",
       "    </tr>\n",
       "    <tr>\n",
       "      <th>6</th>\n",
       "      <td>two</td>\n",
       "      <td>A</td>\n",
       "      <td>foo</td>\n",
       "      <td>-0.239816</td>\n",
       "      <td>0.007408</td>\n",
       "    </tr>\n",
       "    <tr>\n",
       "      <th>7</th>\n",
       "      <td>three</td>\n",
       "      <td>B</td>\n",
       "      <td>foo</td>\n",
       "      <td>-1.598606</td>\n",
       "      <td>0.716422</td>\n",
       "    </tr>\n",
       "    <tr>\n",
       "      <th>8</th>\n",
       "      <td>one</td>\n",
       "      <td>C</td>\n",
       "      <td>foo</td>\n",
       "      <td>-0.754653</td>\n",
       "      <td>1.173907</td>\n",
       "    </tr>\n",
       "    <tr>\n",
       "      <th>9</th>\n",
       "      <td>one</td>\n",
       "      <td>A</td>\n",
       "      <td>bar</td>\n",
       "      <td>0.295430</td>\n",
       "      <td>0.036910</td>\n",
       "    </tr>\n",
       "    <tr>\n",
       "      <th>10</th>\n",
       "      <td>two</td>\n",
       "      <td>B</td>\n",
       "      <td>bar</td>\n",
       "      <td>0.200459</td>\n",
       "      <td>-0.441154</td>\n",
       "    </tr>\n",
       "    <tr>\n",
       "      <th>11</th>\n",
       "      <td>three</td>\n",
       "      <td>C</td>\n",
       "      <td>bar</td>\n",
       "      <td>0.992117</td>\n",
       "      <td>-0.800486</td>\n",
       "    </tr>\n",
       "  </tbody>\n",
       "</table>\n",
       "</div>"
      ],
      "text/plain": [
       "        A  B    C         D         E\n",
       "0     one  A  foo -1.117575  1.078278\n",
       "1     one  B  foo  0.523796 -0.145555\n",
       "2     two  C  foo  1.104775 -0.488835\n",
       "3   three  A  bar -2.550877 -1.371550\n",
       "4     one  B  bar  0.205619  1.332542\n",
       "5     one  C  bar -0.541524  0.997665\n",
       "6     two  A  foo -0.239816  0.007408\n",
       "7   three  B  foo -1.598606  0.716422\n",
       "8     one  C  foo -0.754653  1.173907\n",
       "9     one  A  bar  0.295430  0.036910\n",
       "10    two  B  bar  0.200459 -0.441154\n",
       "11  three  C  bar  0.992117 -0.800486"
      ]
     },
     "execution_count": 109,
     "metadata": {},
     "output_type": "execute_result"
    }
   ],
   "source": [
    "df"
   ]
  },
  {
   "cell_type": "code",
   "execution_count": 110,
   "metadata": {
    "collapsed": false
   },
   "outputs": [
    {
     "data": {
      "text/html": [
       "<div>\n",
       "<table border=\"1\" class=\"dataframe\">\n",
       "  <thead>\n",
       "    <tr style=\"text-align: right;\">\n",
       "      <th></th>\n",
       "      <th>C</th>\n",
       "      <th>bar</th>\n",
       "      <th>foo</th>\n",
       "    </tr>\n",
       "    <tr>\n",
       "      <th>A</th>\n",
       "      <th>B</th>\n",
       "      <th></th>\n",
       "      <th></th>\n",
       "    </tr>\n",
       "  </thead>\n",
       "  <tbody>\n",
       "    <tr>\n",
       "      <th rowspan=\"3\" valign=\"top\">one</th>\n",
       "      <th>A</th>\n",
       "      <td>0.295430</td>\n",
       "      <td>-1.117575</td>\n",
       "    </tr>\n",
       "    <tr>\n",
       "      <th>B</th>\n",
       "      <td>0.205619</td>\n",
       "      <td>0.523796</td>\n",
       "    </tr>\n",
       "    <tr>\n",
       "      <th>C</th>\n",
       "      <td>-0.541524</td>\n",
       "      <td>-0.754653</td>\n",
       "    </tr>\n",
       "    <tr>\n",
       "      <th rowspan=\"3\" valign=\"top\">three</th>\n",
       "      <th>A</th>\n",
       "      <td>-2.550877</td>\n",
       "      <td>NaN</td>\n",
       "    </tr>\n",
       "    <tr>\n",
       "      <th>B</th>\n",
       "      <td>NaN</td>\n",
       "      <td>-1.598606</td>\n",
       "    </tr>\n",
       "    <tr>\n",
       "      <th>C</th>\n",
       "      <td>0.992117</td>\n",
       "      <td>NaN</td>\n",
       "    </tr>\n",
       "    <tr>\n",
       "      <th rowspan=\"3\" valign=\"top\">two</th>\n",
       "      <th>A</th>\n",
       "      <td>NaN</td>\n",
       "      <td>-0.239816</td>\n",
       "    </tr>\n",
       "    <tr>\n",
       "      <th>B</th>\n",
       "      <td>0.200459</td>\n",
       "      <td>NaN</td>\n",
       "    </tr>\n",
       "    <tr>\n",
       "      <th>C</th>\n",
       "      <td>NaN</td>\n",
       "      <td>1.104775</td>\n",
       "    </tr>\n",
       "  </tbody>\n",
       "</table>\n",
       "</div>"
      ],
      "text/plain": [
       "C             bar       foo\n",
       "A     B                    \n",
       "one   A  0.295430 -1.117575\n",
       "      B  0.205619  0.523796\n",
       "      C -0.541524 -0.754653\n",
       "three A -2.550877       NaN\n",
       "      B       NaN -1.598606\n",
       "      C  0.992117       NaN\n",
       "two   A       NaN -0.239816\n",
       "      B  0.200459       NaN\n",
       "      C       NaN  1.104775"
      ]
     },
     "execution_count": 110,
     "metadata": {},
     "output_type": "execute_result"
    }
   ],
   "source": [
    "pd.pivot_table(df, values='D',index=['A','B'], columns=['C'])"
   ]
  },
  {
   "cell_type": "markdown",
   "metadata": {},
   "source": [
    "## Time Series"
   ]
  },
  {
   "cell_type": "code",
   "execution_count": 111,
   "metadata": {
    "collapsed": true
   },
   "outputs": [],
   "source": [
    "rng = pd.date_range('1/1/2012', periods=100, freq='S')"
   ]
  },
  {
   "cell_type": "code",
   "execution_count": 112,
   "metadata": {
    "collapsed": true
   },
   "outputs": [],
   "source": [
    "ts = pd.Series(np.random.randint(0, 500, len(rng)), index=rng)"
   ]
  },
  {
   "cell_type": "code",
   "execution_count": 113,
   "metadata": {
    "collapsed": false
   },
   "outputs": [
    {
     "data": {
      "text/plain": [
       "2012-01-01    24449\n",
       "Freq: 5T, dtype: int64"
      ]
     },
     "execution_count": 113,
     "metadata": {},
     "output_type": "execute_result"
    }
   ],
   "source": [
    "ts.resample('5Min').sum()"
   ]
  },
  {
   "cell_type": "code",
   "execution_count": 114,
   "metadata": {
    "collapsed": true
   },
   "outputs": [],
   "source": [
    "rng = pd.date_range('3/6/2012 00:00', periods=5, freq='D')"
   ]
  },
  {
   "cell_type": "code",
   "execution_count": 115,
   "metadata": {
    "collapsed": true
   },
   "outputs": [],
   "source": [
    "ts = pd.Series(np.random.randn(len(rng)), rng)"
   ]
  },
  {
   "cell_type": "code",
   "execution_count": 116,
   "metadata": {
    "collapsed": false
   },
   "outputs": [
    {
     "data": {
      "text/plain": [
       "2012-03-06   -1.181138\n",
       "2012-03-07    0.534697\n",
       "2012-03-08    0.180967\n",
       "2012-03-09   -1.768754\n",
       "2012-03-10    0.923733\n",
       "Freq: D, dtype: float64"
      ]
     },
     "execution_count": 116,
     "metadata": {},
     "output_type": "execute_result"
    }
   ],
   "source": [
    "ts"
   ]
  },
  {
   "cell_type": "code",
   "execution_count": 117,
   "metadata": {
    "collapsed": true
   },
   "outputs": [],
   "source": [
    "ts_utc = ts.tz_localize('UTC')"
   ]
  },
  {
   "cell_type": "code",
   "execution_count": 118,
   "metadata": {
    "collapsed": false
   },
   "outputs": [
    {
     "data": {
      "text/plain": [
       "2012-03-06 00:00:00+00:00   -1.181138\n",
       "2012-03-07 00:00:00+00:00    0.534697\n",
       "2012-03-08 00:00:00+00:00    0.180967\n",
       "2012-03-09 00:00:00+00:00   -1.768754\n",
       "2012-03-10 00:00:00+00:00    0.923733\n",
       "Freq: D, dtype: float64"
      ]
     },
     "execution_count": 118,
     "metadata": {},
     "output_type": "execute_result"
    }
   ],
   "source": [
    "ts_utc"
   ]
  },
  {
   "cell_type": "code",
   "execution_count": 119,
   "metadata": {
    "collapsed": false
   },
   "outputs": [
    {
     "data": {
      "text/plain": [
       "2012-03-05 19:00:00-05:00   -1.181138\n",
       "2012-03-06 19:00:00-05:00    0.534697\n",
       "2012-03-07 19:00:00-05:00    0.180967\n",
       "2012-03-08 19:00:00-05:00   -1.768754\n",
       "2012-03-09 19:00:00-05:00    0.923733\n",
       "Freq: D, dtype: float64"
      ]
     },
     "execution_count": 119,
     "metadata": {},
     "output_type": "execute_result"
    }
   ],
   "source": [
    "ts_utc.tz_convert('US/Eastern')"
   ]
  },
  {
   "cell_type": "code",
   "execution_count": 120,
   "metadata": {
    "collapsed": true
   },
   "outputs": [],
   "source": [
    "rng = pd.date_range('1/1/2012', periods=5, freq='M')"
   ]
  },
  {
   "cell_type": "code",
   "execution_count": 121,
   "metadata": {
    "collapsed": true
   },
   "outputs": [],
   "source": [
    "ts = pd.Series(np.random.randn(len(rng)), index=rng)"
   ]
  },
  {
   "cell_type": "code",
   "execution_count": 122,
   "metadata": {
    "collapsed": false
   },
   "outputs": [
    {
     "data": {
      "text/plain": [
       "2012-01-31   -1.692805\n",
       "2012-02-29    0.813016\n",
       "2012-03-31   -0.570469\n",
       "2012-04-30    0.435280\n",
       "2012-05-31    1.052235\n",
       "Freq: M, dtype: float64"
      ]
     },
     "execution_count": 122,
     "metadata": {},
     "output_type": "execute_result"
    }
   ],
   "source": [
    "ts"
   ]
  },
  {
   "cell_type": "code",
   "execution_count": 123,
   "metadata": {
    "collapsed": true
   },
   "outputs": [],
   "source": [
    "ps = ts.to_period()"
   ]
  },
  {
   "cell_type": "code",
   "execution_count": 124,
   "metadata": {
    "collapsed": false
   },
   "outputs": [
    {
     "data": {
      "text/plain": [
       "2012-01   -1.692805\n",
       "2012-02    0.813016\n",
       "2012-03   -0.570469\n",
       "2012-04    0.435280\n",
       "2012-05    1.052235\n",
       "Freq: M, dtype: float64"
      ]
     },
     "execution_count": 124,
     "metadata": {},
     "output_type": "execute_result"
    }
   ],
   "source": [
    "ps"
   ]
  },
  {
   "cell_type": "code",
   "execution_count": 125,
   "metadata": {
    "collapsed": false
   },
   "outputs": [
    {
     "data": {
      "text/plain": [
       "2012-01-01   -1.692805\n",
       "2012-02-01    0.813016\n",
       "2012-03-01   -0.570469\n",
       "2012-04-01    0.435280\n",
       "2012-05-01    1.052235\n",
       "Freq: MS, dtype: float64"
      ]
     },
     "execution_count": 125,
     "metadata": {},
     "output_type": "execute_result"
    }
   ],
   "source": [
    "ps.to_timestamp()"
   ]
  },
  {
   "cell_type": "code",
   "execution_count": 127,
   "metadata": {
    "collapsed": false
   },
   "outputs": [],
   "source": [
    "prng = pd.period_range('1990Q1', '2000Q4', freq='Q-NOV')"
   ]
  },
  {
   "cell_type": "code",
   "execution_count": 128,
   "metadata": {
    "collapsed": false
   },
   "outputs": [
    {
     "data": {
      "text/plain": [
       "PeriodIndex(['1990Q1', '1990Q2', '1990Q3', '1990Q4', '1991Q1', '1991Q2',\n",
       "             '1991Q3', '1991Q4', '1992Q1', '1992Q2', '1992Q3', '1992Q4',\n",
       "             '1993Q1', '1993Q2', '1993Q3', '1993Q4', '1994Q1', '1994Q2',\n",
       "             '1994Q3', '1994Q4', '1995Q1', '1995Q2', '1995Q3', '1995Q4',\n",
       "             '1996Q1', '1996Q2', '1996Q3', '1996Q4', '1997Q1', '1997Q2',\n",
       "             '1997Q3', '1997Q4', '1998Q1', '1998Q2', '1998Q3', '1998Q4',\n",
       "             '1999Q1', '1999Q2', '1999Q3', '1999Q4', '2000Q1', '2000Q2',\n",
       "             '2000Q3', '2000Q4'],\n",
       "            dtype='int64', freq='Q-NOV')"
      ]
     },
     "execution_count": 128,
     "metadata": {},
     "output_type": "execute_result"
    }
   ],
   "source": [
    "prng"
   ]
  },
  {
   "cell_type": "code",
   "execution_count": 130,
   "metadata": {
    "collapsed": false
   },
   "outputs": [],
   "source": [
    "ts = pd.Series(np.random.randn(len(prng)), prng)"
   ]
  },
  {
   "cell_type": "code",
   "execution_count": 131,
   "metadata": {
    "collapsed": false
   },
   "outputs": [
    {
     "data": {
      "text/plain": [
       "1990Q1    0.196041\n",
       "1990Q2   -0.894318\n",
       "1990Q3   -1.193014\n",
       "1990Q4   -0.220753\n",
       "1991Q1   -0.592566\n",
       "1991Q2    0.664479\n",
       "1991Q3    4.295116\n",
       "1991Q4   -0.041845\n",
       "1992Q1    1.353345\n",
       "1992Q2    0.989477\n",
       "1992Q3    0.001025\n",
       "1992Q4    0.180207\n",
       "1993Q1    1.911898\n",
       "1993Q2    0.806512\n",
       "1993Q3    0.315644\n",
       "1993Q4    1.576483\n",
       "1994Q1   -0.732719\n",
       "1994Q2    0.356894\n",
       "1994Q3    1.443373\n",
       "1994Q4   -1.157502\n",
       "1995Q1   -1.341708\n",
       "1995Q2    0.067637\n",
       "1995Q3    0.809315\n",
       "1995Q4   -0.356393\n",
       "1996Q1    0.447455\n",
       "1996Q2    0.005381\n",
       "1996Q3    1.366337\n",
       "1996Q4   -0.447707\n",
       "1997Q1   -0.254580\n",
       "1997Q2   -0.626916\n",
       "1997Q3    1.204768\n",
       "1997Q4    0.348730\n",
       "1998Q1   -0.495597\n",
       "1998Q2    0.479936\n",
       "1998Q3    0.346160\n",
       "1998Q4    0.502327\n",
       "1999Q1    0.633320\n",
       "1999Q2    0.566322\n",
       "1999Q3   -0.140410\n",
       "1999Q4    1.556774\n",
       "2000Q1   -1.212577\n",
       "2000Q2   -0.858251\n",
       "2000Q3    1.490956\n",
       "2000Q4   -1.099825\n",
       "Freq: Q-NOV, dtype: float64"
      ]
     },
     "execution_count": 131,
     "metadata": {},
     "output_type": "execute_result"
    }
   ],
   "source": [
    "ts"
   ]
  },
  {
   "cell_type": "code",
   "execution_count": 132,
   "metadata": {
    "collapsed": true
   },
   "outputs": [],
   "source": [
    "ts.index = (prng.asfreq('M', 'e')+1).asfreq('M','s') + 9"
   ]
  },
  {
   "cell_type": "code",
   "execution_count": 133,
   "metadata": {
    "collapsed": false
   },
   "outputs": [
    {
     "data": {
      "text/plain": [
       "1990-12    0.196041\n",
       "1991-03   -0.894318\n",
       "1991-06   -1.193014\n",
       "1991-09   -0.220753\n",
       "1991-12   -0.592566\n",
       "Freq: M, dtype: float64"
      ]
     },
     "execution_count": 133,
     "metadata": {},
     "output_type": "execute_result"
    }
   ],
   "source": [
    "ts.head()"
   ]
  },
  {
   "cell_type": "markdown",
   "metadata": {},
   "source": [
    "## Categoricals"
   ]
  },
  {
   "cell_type": "code",
   "execution_count": 134,
   "metadata": {
    "collapsed": true
   },
   "outputs": [],
   "source": [
    "df = pd.DataFrame({\"id\":[1,2,3,4,5,6], \"raw_grade\":['a','b','b','a','a','e']})"
   ]
  },
  {
   "cell_type": "markdown",
   "metadata": {},
   "source": [
    "Convert the raw grades to a categorical data type."
   ]
  },
  {
   "cell_type": "code",
   "execution_count": 135,
   "metadata": {
    "collapsed": true
   },
   "outputs": [],
   "source": [
    "df[\"grade\"] = df[\"raw_grade\"].astype(\"category\")"
   ]
  },
  {
   "cell_type": "code",
   "execution_count": 136,
   "metadata": {
    "collapsed": false
   },
   "outputs": [
    {
     "data": {
      "text/plain": [
       "0    a\n",
       "1    b\n",
       "2    b\n",
       "3    a\n",
       "4    a\n",
       "5    e\n",
       "Name: grade, dtype: category\n",
       "Categories (3, object): [a, b, e]"
      ]
     },
     "execution_count": 136,
     "metadata": {},
     "output_type": "execute_result"
    }
   ],
   "source": [
    "df[\"grade\"]"
   ]
  },
  {
   "cell_type": "markdown",
   "metadata": {},
   "source": [
    "Rename the categories to more meaningful names (assigning to `Series.cat.categories` is inplace!)"
   ]
  },
  {
   "cell_type": "code",
   "execution_count": 137,
   "metadata": {
    "collapsed": true
   },
   "outputs": [],
   "source": [
    "df[\"grade\"].cat.categories = [\"very good\", \"good\", \"very bad\"]"
   ]
  },
  {
   "cell_type": "code",
   "execution_count": 138,
   "metadata": {
    "collapsed": false
   },
   "outputs": [
    {
     "data": {
      "text/html": [
       "<div>\n",
       "<table border=\"1\" class=\"dataframe\">\n",
       "  <thead>\n",
       "    <tr style=\"text-align: right;\">\n",
       "      <th></th>\n",
       "      <th>id</th>\n",
       "      <th>raw_grade</th>\n",
       "      <th>grade</th>\n",
       "    </tr>\n",
       "  </thead>\n",
       "  <tbody>\n",
       "    <tr>\n",
       "      <th>0</th>\n",
       "      <td>1</td>\n",
       "      <td>a</td>\n",
       "      <td>very good</td>\n",
       "    </tr>\n",
       "    <tr>\n",
       "      <th>1</th>\n",
       "      <td>2</td>\n",
       "      <td>b</td>\n",
       "      <td>good</td>\n",
       "    </tr>\n",
       "    <tr>\n",
       "      <th>2</th>\n",
       "      <td>3</td>\n",
       "      <td>b</td>\n",
       "      <td>good</td>\n",
       "    </tr>\n",
       "    <tr>\n",
       "      <th>3</th>\n",
       "      <td>4</td>\n",
       "      <td>a</td>\n",
       "      <td>very good</td>\n",
       "    </tr>\n",
       "    <tr>\n",
       "      <th>4</th>\n",
       "      <td>5</td>\n",
       "      <td>a</td>\n",
       "      <td>very good</td>\n",
       "    </tr>\n",
       "    <tr>\n",
       "      <th>5</th>\n",
       "      <td>6</td>\n",
       "      <td>e</td>\n",
       "      <td>very bad</td>\n",
       "    </tr>\n",
       "  </tbody>\n",
       "</table>\n",
       "</div>"
      ],
      "text/plain": [
       "   id raw_grade      grade\n",
       "0   1         a  very good\n",
       "1   2         b       good\n",
       "2   3         b       good\n",
       "3   4         a  very good\n",
       "4   5         a  very good\n",
       "5   6         e   very bad"
      ]
     },
     "execution_count": 138,
     "metadata": {},
     "output_type": "execute_result"
    }
   ],
   "source": [
    "df"
   ]
  },
  {
   "cell_type": "markdown",
   "metadata": {},
   "source": [
    "Sorting is per order in the categories, not lexical order"
   ]
  },
  {
   "cell_type": "code",
   "execution_count": 139,
   "metadata": {
    "collapsed": true
   },
   "outputs": [],
   "source": [
    "df[\"grade\"] = df[\"grade\"].cat.set_categories([\"very bad\", \"bad\", \"medium\", \"good\", \"very good\" ])"
   ]
  },
  {
   "cell_type": "code",
   "execution_count": 140,
   "metadata": {
    "collapsed": false
   },
   "outputs": [
    {
     "data": {
      "text/plain": [
       "0    very good\n",
       "1         good\n",
       "2         good\n",
       "3    very good\n",
       "4    very good\n",
       "5     very bad\n",
       "Name: grade, dtype: category\n",
       "Categories (5, object): [very bad, bad, medium, good, very good]"
      ]
     },
     "execution_count": 140,
     "metadata": {},
     "output_type": "execute_result"
    }
   ],
   "source": [
    "df[\"grade\"]"
   ]
  },
  {
   "cell_type": "code",
   "execution_count": 141,
   "metadata": {
    "collapsed": false
   },
   "outputs": [
    {
     "data": {
      "text/html": [
       "<div>\n",
       "<table border=\"1\" class=\"dataframe\">\n",
       "  <thead>\n",
       "    <tr style=\"text-align: right;\">\n",
       "      <th></th>\n",
       "      <th>id</th>\n",
       "      <th>raw_grade</th>\n",
       "      <th>grade</th>\n",
       "    </tr>\n",
       "  </thead>\n",
       "  <tbody>\n",
       "    <tr>\n",
       "      <th>5</th>\n",
       "      <td>6</td>\n",
       "      <td>e</td>\n",
       "      <td>very bad</td>\n",
       "    </tr>\n",
       "    <tr>\n",
       "      <th>1</th>\n",
       "      <td>2</td>\n",
       "      <td>b</td>\n",
       "      <td>good</td>\n",
       "    </tr>\n",
       "    <tr>\n",
       "      <th>2</th>\n",
       "      <td>3</td>\n",
       "      <td>b</td>\n",
       "      <td>good</td>\n",
       "    </tr>\n",
       "    <tr>\n",
       "      <th>0</th>\n",
       "      <td>1</td>\n",
       "      <td>a</td>\n",
       "      <td>very good</td>\n",
       "    </tr>\n",
       "    <tr>\n",
       "      <th>3</th>\n",
       "      <td>4</td>\n",
       "      <td>a</td>\n",
       "      <td>very good</td>\n",
       "    </tr>\n",
       "    <tr>\n",
       "      <th>4</th>\n",
       "      <td>5</td>\n",
       "      <td>a</td>\n",
       "      <td>very good</td>\n",
       "    </tr>\n",
       "  </tbody>\n",
       "</table>\n",
       "</div>"
      ],
      "text/plain": [
       "   id raw_grade      grade\n",
       "5   6         e   very bad\n",
       "1   2         b       good\n",
       "2   3         b       good\n",
       "0   1         a  very good\n",
       "3   4         a  very good\n",
       "4   5         a  very good"
      ]
     },
     "execution_count": 141,
     "metadata": {},
     "output_type": "execute_result"
    }
   ],
   "source": [
    "df.sort_values(by=\"grade\")"
   ]
  },
  {
   "cell_type": "code",
   "execution_count": 142,
   "metadata": {
    "collapsed": false
   },
   "outputs": [
    {
     "data": {
      "text/plain": [
       "grade\n",
       "very bad     1\n",
       "bad          0\n",
       "medium       0\n",
       "good         2\n",
       "very good    3\n",
       "dtype: int64"
      ]
     },
     "execution_count": 142,
     "metadata": {},
     "output_type": "execute_result"
    }
   ],
   "source": [
    "df.groupby(\"grade\").size()"
   ]
  },
  {
   "cell_type": "markdown",
   "metadata": {},
   "source": [
    "## Plotting"
   ]
  },
  {
   "cell_type": "code",
   "execution_count": 143,
   "metadata": {
    "collapsed": true
   },
   "outputs": [],
   "source": [
    "ts = pd.Series(np.random.randn(1000), index=pd.date_range('1/1/2000', periods=1000))"
   ]
  },
  {
   "cell_type": "code",
   "execution_count": 144,
   "metadata": {
    "collapsed": true
   },
   "outputs": [],
   "source": [
    "ts = ts.cumsum()"
   ]
  },
  {
   "cell_type": "code",
   "execution_count": 145,
   "metadata": {
    "collapsed": false
   },
   "outputs": [
    {
     "data": {
      "text/plain": [
       "<matplotlib.axes._subplots.AxesSubplot at 0x7fcfba382f10>"
      ]
     },
     "execution_count": 145,
     "metadata": {},
     "output_type": "execute_result"
    }
   ],
   "source": [
    "ts.plot()"
   ]
  },
  {
   "cell_type": "markdown",
   "metadata": {},
   "source": [
    "**The following command is important to view matplotlib plots on a jupyter notebook**"
   ]
  },
  {
   "cell_type": "code",
   "execution_count": 147,
   "metadata": {
    "collapsed": true
   },
   "outputs": [],
   "source": [
    "%matplotlib inline "
   ]
  },
  {
   "cell_type": "code",
   "execution_count": 148,
   "metadata": {
    "collapsed": false
   },
   "outputs": [
    {
     "data": {
      "text/plain": [
       "<matplotlib.axes._subplots.AxesSubplot at 0x7fcfb32567d0>"
      ]
     },
     "execution_count": 148,
     "metadata": {},
     "output_type": "execute_result"
    },
    {
     "data": {
      "image/png": "[encoded data removed]",
      "text/plain": [
       "<matplotlib.figure.Figure at 0x7fcfb31aa550>"
      ]
     },
     "metadata": {},
     "output_type": "display_data"
    }
   ],
   "source": [
    "ts.plot()"
   ]
  },
  {
   "cell_type": "code",
   "execution_count": 149,
   "metadata": {
    "collapsed": true
   },
   "outputs": [],
   "source": [
    "df = pd.DataFrame(np.random.randn(1000,4), index=ts.index, columns=['A','B','C','D'])"
   ]
  },
  {
   "cell_type": "code",
   "execution_count": 150,
   "metadata": {
    "collapsed": true
   },
   "outputs": [],
   "source": [
    "df = df.cumsum()"
   ]
  },
  {
   "cell_type": "code",
   "execution_count": 151,
   "metadata": {
    "collapsed": false
   },
   "outputs": [
    {
     "data": {
      "text/plain": [
       "<matplotlib.legend.Legend at 0x7fcfb3044190>"
      ]
     },
     "execution_count": 151,
     "metadata": {},
     "output_type": "execute_result"
    },
    {
     "data": {
      "text/plain": [
       "<matplotlib.figure.Figure at 0x7fcfb302c190>"
      ]
     },
     "metadata": {},
     "output_type": "display_data"
    },
    {
     "data": {
      "image/png": "[encoded data removed]",
      "text/plain": [
       "<matplotlib.figure.Figure at 0x7fcfb302c150>"
      ]
     },
     "metadata": {},
     "output_type": "display_data"
    }
   ],
   "source": [
    "plt.figure(); df.plot(); plt.legend(loc='best')"
   ]
  },
  {
   "cell_type": "markdown",
   "metadata": {},
   "source": [
    "# Getting Data In/Out"
   ]
  },
  {
   "cell_type": "markdown",
   "metadata": {},
   "source": [
    "## CSV"
   ]
  },
  {
   "cell_type": "markdown",
   "metadata": {},
   "source": [
    "[Writing to a csv file](http://pandas.pydata.org/pandas-docs/stable/io.html#io-store-in-csv)"
   ]
  },
  {
   "cell_type": "code",
   "execution_count": 152,
   "metadata": {
    "collapsed": true
   },
   "outputs": [],
   "source": [
    "df.to_csv('foo.csv')"
   ]
  },
  {
   "cell_type": "markdown",
   "metadata": {},
   "source": [
    "[Reading from a csv file](http://pandas.pydata.org/pandas-docs/stable/io.html#io-read-csv-table)"
   ]
  },
  {
   "cell_type": "code",
   "execution_count": 153,
   "metadata": {
    "collapsed": false
   },
   "outputs": [
    {
     "data": {
      "text/html": [
       "<div>\n",
       "<table border=\"1\" class=\"dataframe\">\n",
       "  <thead>\n",
       "    <tr style=\"text-align: right;\">\n",
       "      <th></th>\n",
       "      <th>Unnamed: 0</th>\n",
       "      <th>A</th>\n",
       "      <th>B</th>\n",
       "      <th>C</th>\n",
       "      <th>D</th>\n",
       "    </tr>\n",
       "  </thead>\n",
       "  <tbody>\n",
       "    <tr>\n",
       "      <th>0</th>\n",
       "      <td>2000-01-01</td>\n",
       "      <td>0.832018</td>\n",
       "      <td>-0.662599</td>\n",
       "      <td>-1.283141</td>\n",
       "      <td>1.015235</td>\n",
       "    </tr>\n",
       "    <tr>\n",
       "      <th>1</th>\n",
       "      <td>2000-01-02</td>\n",
       "      <td>-0.894730</td>\n",
       "      <td>-0.758248</td>\n",
       "      <td>-1.316575</td>\n",
       "      <td>2.177614</td>\n",
       "    </tr>\n",
       "    <tr>\n",
       "      <th>2</th>\n",
       "      <td>2000-01-03</td>\n",
       "      <td>-0.693075</td>\n",
       "      <td>-2.977505</td>\n",
       "      <td>-1.533427</td>\n",
       "      <td>4.183044</td>\n",
       "    </tr>\n",
       "    <tr>\n",
       "      <th>3</th>\n",
       "      <td>2000-01-04</td>\n",
       "      <td>0.874141</td>\n",
       "      <td>-2.278339</td>\n",
       "      <td>0.229984</td>\n",
       "      <td>6.254534</td>\n",
       "    </tr>\n",
       "    <tr>\n",
       "      <th>4</th>\n",
       "      <td>2000-01-05</td>\n",
       "      <td>-1.495982</td>\n",
       "      <td>-1.338677</td>\n",
       "      <td>-0.123458</td>\n",
       "      <td>5.829667</td>\n",
       "    </tr>\n",
       "    <tr>\n",
       "      <th>5</th>\n",
       "      <td>2000-01-06</td>\n",
       "      <td>-0.812750</td>\n",
       "      <td>-1.447970</td>\n",
       "      <td>-0.345897</td>\n",
       "      <td>5.273785</td>\n",
       "    </tr>\n",
       "    <tr>\n",
       "      <th>6</th>\n",
       "      <td>2000-01-07</td>\n",
       "      <td>0.461737</td>\n",
       "      <td>-2.194869</td>\n",
       "      <td>1.117848</td>\n",
       "      <td>5.262458</td>\n",
       "    </tr>\n",
       "    <tr>\n",
       "      <th>7</th>\n",
       "      <td>2000-01-08</td>\n",
       "      <td>0.812821</td>\n",
       "      <td>-4.909496</td>\n",
       "      <td>1.171028</td>\n",
       "      <td>5.538184</td>\n",
       "    </tr>\n",
       "    <tr>\n",
       "      <th>8</th>\n",
       "      <td>2000-01-09</td>\n",
       "      <td>0.555211</td>\n",
       "      <td>-5.017059</td>\n",
       "      <td>0.731850</td>\n",
       "      <td>6.944417</td>\n",
       "    </tr>\n",
       "    <tr>\n",
       "      <th>9</th>\n",
       "      <td>2000-01-10</td>\n",
       "      <td>1.209316</td>\n",
       "      <td>-6.625535</td>\n",
       "      <td>0.859823</td>\n",
       "      <td>6.357204</td>\n",
       "    </tr>\n",
       "    <tr>\n",
       "      <th>10</th>\n",
       "      <td>2000-01-11</td>\n",
       "      <td>1.418185</td>\n",
       "      <td>-6.534857</td>\n",
       "      <td>1.472416</td>\n",
       "      <td>6.413965</td>\n",
       "    </tr>\n",
       "    <tr>\n",
       "      <th>11</th>\n",
       "      <td>2000-01-12</td>\n",
       "      <td>0.999912</td>\n",
       "      <td>-6.202194</td>\n",
       "      <td>1.476565</td>\n",
       "      <td>7.081880</td>\n",
       "    </tr>\n",
       "    <tr>\n",
       "      <th>12</th>\n",
       "      <td>2000-01-13</td>\n",
       "      <td>1.805443</td>\n",
       "      <td>-7.004043</td>\n",
       "      <td>3.290720</td>\n",
       "      <td>7.072149</td>\n",
       "    </tr>\n",
       "    <tr>\n",
       "      <th>13</th>\n",
       "      <td>2000-01-14</td>\n",
       "      <td>2.230139</td>\n",
       "      <td>-6.540011</td>\n",
       "      <td>2.432154</td>\n",
       "      <td>7.041204</td>\n",
       "    </tr>\n",
       "    <tr>\n",
       "      <th>14</th>\n",
       "      <td>2000-01-15</td>\n",
       "      <td>1.358644</td>\n",
       "      <td>-6.548457</td>\n",
       "      <td>2.531519</td>\n",
       "      <td>6.395213</td>\n",
       "    </tr>\n",
       "    <tr>\n",
       "      <th>15</th>\n",
       "      <td>2000-01-16</td>\n",
       "      <td>0.641293</td>\n",
       "      <td>-6.385848</td>\n",
       "      <td>0.393640</td>\n",
       "      <td>5.388618</td>\n",
       "    </tr>\n",
       "    <tr>\n",
       "      <th>16</th>\n",
       "      <td>2000-01-17</td>\n",
       "      <td>1.669245</td>\n",
       "      <td>-7.032784</td>\n",
       "      <td>0.636342</td>\n",
       "      <td>6.874190</td>\n",
       "    </tr>\n",
       "    <tr>\n",
       "      <th>17</th>\n",
       "      <td>2000-01-18</td>\n",
       "      <td>0.917808</td>\n",
       "      <td>-6.808981</td>\n",
       "      <td>0.007371</td>\n",
       "      <td>7.619582</td>\n",
       "    </tr>\n",
       "    <tr>\n",
       "      <th>18</th>\n",
       "      <td>2000-01-19</td>\n",
       "      <td>0.666756</td>\n",
       "      <td>-8.020890</td>\n",
       "      <td>0.358129</td>\n",
       "      <td>6.552434</td>\n",
       "    </tr>\n",
       "    <tr>\n",
       "      <th>19</th>\n",
       "      <td>2000-01-20</td>\n",
       "      <td>2.332468</td>\n",
       "      <td>-8.958539</td>\n",
       "      <td>-0.809246</td>\n",
       "      <td>7.223962</td>\n",
       "    </tr>\n",
       "    <tr>\n",
       "      <th>20</th>\n",
       "      <td>2000-01-21</td>\n",
       "      <td>3.338078</td>\n",
       "      <td>-9.852793</td>\n",
       "      <td>-0.627551</td>\n",
       "      <td>6.638443</td>\n",
       "    </tr>\n",
       "    <tr>\n",
       "      <th>21</th>\n",
       "      <td>2000-01-22</td>\n",
       "      <td>2.220115</td>\n",
       "      <td>-9.486558</td>\n",
       "      <td>-1.668409</td>\n",
       "      <td>6.048426</td>\n",
       "    </tr>\n",
       "    <tr>\n",
       "      <th>22</th>\n",
       "      <td>2000-01-23</td>\n",
       "      <td>2.266377</td>\n",
       "      <td>-8.663482</td>\n",
       "      <td>-1.278975</td>\n",
       "      <td>6.643000</td>\n",
       "    </tr>\n",
       "    <tr>\n",
       "      <th>23</th>\n",
       "      <td>2000-01-24</td>\n",
       "      <td>2.809493</td>\n",
       "      <td>-8.292607</td>\n",
       "      <td>-2.004909</td>\n",
       "      <td>4.961482</td>\n",
       "    </tr>\n",
       "    <tr>\n",
       "      <th>24</th>\n",
       "      <td>2000-01-25</td>\n",
       "      <td>0.991559</td>\n",
       "      <td>-9.542077</td>\n",
       "      <td>-1.770961</td>\n",
       "      <td>5.240004</td>\n",
       "    </tr>\n",
       "    <tr>\n",
       "      <th>25</th>\n",
       "      <td>2000-01-26</td>\n",
       "      <td>0.128134</td>\n",
       "      <td>-8.262466</td>\n",
       "      <td>-2.649306</td>\n",
       "      <td>6.823284</td>\n",
       "    </tr>\n",
       "    <tr>\n",
       "      <th>26</th>\n",
       "      <td>2000-01-27</td>\n",
       "      <td>0.160976</td>\n",
       "      <td>-7.826482</td>\n",
       "      <td>-0.905900</td>\n",
       "      <td>8.974918</td>\n",
       "    </tr>\n",
       "    <tr>\n",
       "      <th>27</th>\n",
       "      <td>2000-01-28</td>\n",
       "      <td>1.461418</td>\n",
       "      <td>-7.415903</td>\n",
       "      <td>-1.043718</td>\n",
       "      <td>8.885729</td>\n",
       "    </tr>\n",
       "    <tr>\n",
       "      <th>28</th>\n",
       "      <td>2000-01-29</td>\n",
       "      <td>2.049411</td>\n",
       "      <td>-7.679969</td>\n",
       "      <td>-1.422975</td>\n",
       "      <td>9.239217</td>\n",
       "    </tr>\n",
       "    <tr>\n",
       "      <th>29</th>\n",
       "      <td>2000-01-30</td>\n",
       "      <td>2.482927</td>\n",
       "      <td>-10.187190</td>\n",
       "      <td>-2.226077</td>\n",
       "      <td>9.313861</td>\n",
       "    </tr>\n",
       "    <tr>\n",
       "      <th>...</th>\n",
       "      <td>...</td>\n",
       "      <td>...</td>\n",
       "      <td>...</td>\n",
       "      <td>...</td>\n",
       "      <td>...</td>\n",
       "    </tr>\n",
       "    <tr>\n",
       "      <th>970</th>\n",
       "      <td>2002-08-28</td>\n",
       "      <td>-28.310852</td>\n",
       "      <td>-9.620888</td>\n",
       "      <td>21.355049</td>\n",
       "      <td>56.798993</td>\n",
       "    </tr>\n",
       "    <tr>\n",
       "      <th>971</th>\n",
       "      <td>2002-08-29</td>\n",
       "      <td>-29.976278</td>\n",
       "      <td>-9.931846</td>\n",
       "      <td>21.606410</td>\n",
       "      <td>56.321865</td>\n",
       "    </tr>\n",
       "    <tr>\n",
       "      <th>972</th>\n",
       "      <td>2002-08-30</td>\n",
       "      <td>-30.953917</td>\n",
       "      <td>-9.743486</td>\n",
       "      <td>22.741974</td>\n",
       "      <td>55.886829</td>\n",
       "    </tr>\n",
       "    <tr>\n",
       "      <th>973</th>\n",
       "      <td>2002-08-31</td>\n",
       "      <td>-30.587604</td>\n",
       "      <td>-10.351680</td>\n",
       "      <td>21.066978</td>\n",
       "      <td>56.405979</td>\n",
       "    </tr>\n",
       "    <tr>\n",
       "      <th>974</th>\n",
       "      <td>2002-09-01</td>\n",
       "      <td>-30.653130</td>\n",
       "      <td>-8.736195</td>\n",
       "      <td>21.169827</td>\n",
       "      <td>55.541832</td>\n",
       "    </tr>\n",
       "    <tr>\n",
       "      <th>975</th>\n",
       "      <td>2002-09-02</td>\n",
       "      <td>-30.912918</td>\n",
       "      <td>-7.170507</td>\n",
       "      <td>21.595606</td>\n",
       "      <td>54.215647</td>\n",
       "    </tr>\n",
       "    <tr>\n",
       "      <th>976</th>\n",
       "      <td>2002-09-03</td>\n",
       "      <td>-31.405654</td>\n",
       "      <td>-6.263468</td>\n",
       "      <td>22.520556</td>\n",
       "      <td>54.949552</td>\n",
       "    </tr>\n",
       "    <tr>\n",
       "      <th>977</th>\n",
       "      <td>2002-09-04</td>\n",
       "      <td>-31.381064</td>\n",
       "      <td>-5.624283</td>\n",
       "      <td>23.357988</td>\n",
       "      <td>55.449697</td>\n",
       "    </tr>\n",
       "    <tr>\n",
       "      <th>978</th>\n",
       "      <td>2002-09-05</td>\n",
       "      <td>-30.021091</td>\n",
       "      <td>-4.277001</td>\n",
       "      <td>23.395031</td>\n",
       "      <td>55.161836</td>\n",
       "    </tr>\n",
       "    <tr>\n",
       "      <th>979</th>\n",
       "      <td>2002-09-06</td>\n",
       "      <td>-28.965887</td>\n",
       "      <td>-7.430868</td>\n",
       "      <td>23.164769</td>\n",
       "      <td>56.775990</td>\n",
       "    </tr>\n",
       "    <tr>\n",
       "      <th>980</th>\n",
       "      <td>2002-09-07</td>\n",
       "      <td>-28.312034</td>\n",
       "      <td>-6.889266</td>\n",
       "      <td>23.467254</td>\n",
       "      <td>56.367911</td>\n",
       "    </tr>\n",
       "    <tr>\n",
       "      <th>981</th>\n",
       "      <td>2002-09-08</td>\n",
       "      <td>-27.923157</td>\n",
       "      <td>-7.096767</td>\n",
       "      <td>25.146225</td>\n",
       "      <td>56.857535</td>\n",
       "    </tr>\n",
       "    <tr>\n",
       "      <th>982</th>\n",
       "      <td>2002-09-09</td>\n",
       "      <td>-28.481183</td>\n",
       "      <td>-8.569302</td>\n",
       "      <td>27.763150</td>\n",
       "      <td>56.460611</td>\n",
       "    </tr>\n",
       "    <tr>\n",
       "      <th>983</th>\n",
       "      <td>2002-09-10</td>\n",
       "      <td>-28.745760</td>\n",
       "      <td>-8.840886</td>\n",
       "      <td>27.608644</td>\n",
       "      <td>58.545011</td>\n",
       "    </tr>\n",
       "    <tr>\n",
       "      <th>984</th>\n",
       "      <td>2002-09-11</td>\n",
       "      <td>-28.060051</td>\n",
       "      <td>-8.997228</td>\n",
       "      <td>27.157408</td>\n",
       "      <td>58.256048</td>\n",
       "    </tr>\n",
       "    <tr>\n",
       "      <th>985</th>\n",
       "      <td>2002-09-12</td>\n",
       "      <td>-27.760964</td>\n",
       "      <td>-9.405006</td>\n",
       "      <td>27.850731</td>\n",
       "      <td>56.865752</td>\n",
       "    </tr>\n",
       "    <tr>\n",
       "      <th>986</th>\n",
       "      <td>2002-09-13</td>\n",
       "      <td>-26.769753</td>\n",
       "      <td>-9.252374</td>\n",
       "      <td>27.897702</td>\n",
       "      <td>57.562543</td>\n",
       "    </tr>\n",
       "    <tr>\n",
       "      <th>987</th>\n",
       "      <td>2002-09-14</td>\n",
       "      <td>-28.107590</td>\n",
       "      <td>-9.343747</td>\n",
       "      <td>27.565001</td>\n",
       "      <td>60.072859</td>\n",
       "    </tr>\n",
       "    <tr>\n",
       "      <th>988</th>\n",
       "      <td>2002-09-15</td>\n",
       "      <td>-27.677595</td>\n",
       "      <td>-7.011354</td>\n",
       "      <td>26.517408</td>\n",
       "      <td>60.478134</td>\n",
       "    </tr>\n",
       "    <tr>\n",
       "      <th>989</th>\n",
       "      <td>2002-09-16</td>\n",
       "      <td>-28.477001</td>\n",
       "      <td>-6.728715</td>\n",
       "      <td>27.197929</td>\n",
       "      <td>60.379790</td>\n",
       "    </tr>\n",
       "    <tr>\n",
       "      <th>990</th>\n",
       "      <td>2002-09-17</td>\n",
       "      <td>-28.483932</td>\n",
       "      <td>-6.441733</td>\n",
       "      <td>25.768880</td>\n",
       "      <td>61.592624</td>\n",
       "    </tr>\n",
       "    <tr>\n",
       "      <th>991</th>\n",
       "      <td>2002-09-18</td>\n",
       "      <td>-28.478127</td>\n",
       "      <td>-6.445051</td>\n",
       "      <td>25.252402</td>\n",
       "      <td>62.301873</td>\n",
       "    </tr>\n",
       "    <tr>\n",
       "      <th>992</th>\n",
       "      <td>2002-09-19</td>\n",
       "      <td>-28.205058</td>\n",
       "      <td>-7.004668</td>\n",
       "      <td>25.260996</td>\n",
       "      <td>62.992680</td>\n",
       "    </tr>\n",
       "    <tr>\n",
       "      <th>993</th>\n",
       "      <td>2002-09-20</td>\n",
       "      <td>-27.467821</td>\n",
       "      <td>-7.679992</td>\n",
       "      <td>24.299018</td>\n",
       "      <td>61.585074</td>\n",
       "    </tr>\n",
       "    <tr>\n",
       "      <th>994</th>\n",
       "      <td>2002-09-21</td>\n",
       "      <td>-26.493700</td>\n",
       "      <td>-7.658530</td>\n",
       "      <td>25.779461</td>\n",
       "      <td>62.252774</td>\n",
       "    </tr>\n",
       "    <tr>\n",
       "      <th>995</th>\n",
       "      <td>2002-09-22</td>\n",
       "      <td>-24.515380</td>\n",
       "      <td>-7.643660</td>\n",
       "      <td>26.620309</td>\n",
       "      <td>62.194643</td>\n",
       "    </tr>\n",
       "    <tr>\n",
       "      <th>996</th>\n",
       "      <td>2002-09-23</td>\n",
       "      <td>-24.964076</td>\n",
       "      <td>-7.716967</td>\n",
       "      <td>26.600576</td>\n",
       "      <td>64.468615</td>\n",
       "    </tr>\n",
       "    <tr>\n",
       "      <th>997</th>\n",
       "      <td>2002-09-24</td>\n",
       "      <td>-26.423426</td>\n",
       "      <td>-7.268455</td>\n",
       "      <td>27.463774</td>\n",
       "      <td>64.305995</td>\n",
       "    </tr>\n",
       "    <tr>\n",
       "      <th>998</th>\n",
       "      <td>2002-09-25</td>\n",
       "      <td>-26.676247</td>\n",
       "      <td>-7.046884</td>\n",
       "      <td>27.418034</td>\n",
       "      <td>63.892543</td>\n",
       "    </tr>\n",
       "    <tr>\n",
       "      <th>999</th>\n",
       "      <td>2002-09-26</td>\n",
       "      <td>-27.183998</td>\n",
       "      <td>-6.132524</td>\n",
       "      <td>26.299299</td>\n",
       "      <td>63.850161</td>\n",
       "    </tr>\n",
       "  </tbody>\n",
       "</table>\n",
       "<p>1000 rows × 5 columns</p>\n",
       "</div>"
      ],
      "text/plain": [
       "     Unnamed: 0          A          B          C          D\n",
       "0    2000-01-01   0.832018  -0.662599  -1.283141   1.015235\n",
       "1    2000-01-02  -0.894730  -0.758248  -1.316575   2.177614\n",
       "2    2000-01-03  -0.693075  -2.977505  -1.533427   4.183044\n",
       "3    2000-01-04   0.874141  -2.278339   0.229984   6.254534\n",
       "4    2000-01-05  -1.495982  -1.338677  -0.123458   5.829667\n",
       "5    2000-01-06  -0.812750  -1.447970  -0.345897   5.273785\n",
       "6    2000-01-07   0.461737  -2.194869   1.117848   5.262458\n",
       "7    2000-01-08   0.812821  -4.909496   1.171028   5.538184\n",
       "8    2000-01-09   0.555211  -5.017059   0.731850   6.944417\n",
       "9    2000-01-10   1.209316  -6.625535   0.859823   6.357204\n",
       "10   2000-01-11   1.418185  -6.534857   1.472416   6.413965\n",
       "11   2000-01-12   0.999912  -6.202194   1.476565   7.081880\n",
       "12   2000-01-13   1.805443  -7.004043   3.290720   7.072149\n",
       "13   2000-01-14   2.230139  -6.540011   2.432154   7.041204\n",
       "14   2000-01-15   1.358644  -6.548457   2.531519   6.395213\n",
       "15   2000-01-16   0.641293  -6.385848   0.393640   5.388618\n",
       "16   2000-01-17   1.669245  -7.032784   0.636342   6.874190\n",
       "17   2000-01-18   0.917808  -6.808981   0.007371   7.619582\n",
       "18   2000-01-19   0.666756  -8.020890   0.358129   6.552434\n",
       "19   2000-01-20   2.332468  -8.958539  -0.809246   7.223962\n",
       "20   2000-01-21   3.338078  -9.852793  -0.627551   6.638443\n",
       "21   2000-01-22   2.220115  -9.486558  -1.668409   6.048426\n",
       "22   2000-01-23   2.266377  -8.663482  -1.278975   6.643000\n",
       "23   2000-01-24   2.809493  -8.292607  -2.004909   4.961482\n",
       "24   2000-01-25   0.991559  -9.542077  -1.770961   5.240004\n",
       "25   2000-01-26   0.128134  -8.262466  -2.649306   6.823284\n",
       "26   2000-01-27   0.160976  -7.826482  -0.905900   8.974918\n",
       "27   2000-01-28   1.461418  -7.415903  -1.043718   8.885729\n",
       "28   2000-01-29   2.049411  -7.679969  -1.422975   9.239217\n",
       "29   2000-01-30   2.482927 -10.187190  -2.226077   9.313861\n",
       "..          ...        ...        ...        ...        ...\n",
       "970  2002-08-28 -28.310852  -9.620888  21.355049  56.798993\n",
       "971  2002-08-29 -29.976278  -9.931846  21.606410  56.321865\n",
       "972  2002-08-30 -30.953917  -9.743486  22.741974  55.886829\n",
       "973  2002-08-31 -30.587604 -10.351680  21.066978  56.405979\n",
       "974  2002-09-01 -30.653130  -8.736195  21.169827  55.541832\n",
       "975  2002-09-02 -30.912918  -7.170507  21.595606  54.215647\n",
       "976  2002-09-03 -31.405654  -6.263468  22.520556  54.949552\n",
       "977  2002-09-04 -31.381064  -5.624283  23.357988  55.449697\n",
       "978  2002-09-05 -30.021091  -4.277001  23.395031  55.161836\n",
       "979  2002-09-06 -28.965887  -7.430868  23.164769  56.775990\n",
       "980  2002-09-07 -28.312034  -6.889266  23.467254  56.367911\n",
       "981  2002-09-08 -27.923157  -7.096767  25.146225  56.857535\n",
       "982  2002-09-09 -28.481183  -8.569302  27.763150  56.460611\n",
       "983  2002-09-10 -28.745760  -8.840886  27.608644  58.545011\n",
       "984  2002-09-11 -28.060051  -8.997228  27.157408  58.256048\n",
       "985  2002-09-12 -27.760964  -9.405006  27.850731  56.865752\n",
       "986  2002-09-13 -26.769753  -9.252374  27.897702  57.562543\n",
       "987  2002-09-14 -28.107590  -9.343747  27.565001  60.072859\n",
       "988  2002-09-15 -27.677595  -7.011354  26.517408  60.478134\n",
       "989  2002-09-16 -28.477001  -6.728715  27.197929  60.379790\n",
       "990  2002-09-17 -28.483932  -6.441733  25.768880  61.592624\n",
       "991  2002-09-18 -28.478127  -6.445051  25.252402  62.301873\n",
       "992  2002-09-19 -28.205058  -7.004668  25.260996  62.992680\n",
       "993  2002-09-20 -27.467821  -7.679992  24.299018  61.585074\n",
       "994  2002-09-21 -26.493700  -7.658530  25.779461  62.252774\n",
       "995  2002-09-22 -24.515380  -7.643660  26.620309  62.194643\n",
       "996  2002-09-23 -24.964076  -7.716967  26.600576  64.468615\n",
       "997  2002-09-24 -26.423426  -7.268455  27.463774  64.305995\n",
       "998  2002-09-25 -26.676247  -7.046884  27.418034  63.892543\n",
       "999  2002-09-26 -27.183998  -6.132524  26.299299  63.850161\n",
       "\n",
       "[1000 rows x 5 columns]"
      ]
     },
     "execution_count": 153,
     "metadata": {},
     "output_type": "execute_result"
    }
   ],
   "source": [
    "pd.read_csv('foo.csv')"
   ]
  },
  {
   "cell_type": "markdown",
   "metadata": {},
   "source": [
    "## HDF5"
   ]
  },
  {
   "cell_type": "markdown",
   "metadata": {},
   "source": [
    "Reading and writing to [HDFStores](http://pandas.pydata.org/pandas-docs/stable/io.html#io-hdf5)"
   ]
  },
  {
   "cell_type": "markdown",
   "metadata": {},
   "source": [
    "Writing to a HDF5 Store"
   ]
  },
  {
   "cell_type": "code",
   "execution_count": 154,
   "metadata": {
    "collapsed": true
   },
   "outputs": [],
   "source": [
    "df.to_hdf('foo.h5','df')"
   ]
  },
  {
   "cell_type": "markdown",
   "metadata": {},
   "source": [
    "Reading from a HDF5 Store"
   ]
  },
  {
   "cell_type": "code",
   "execution_count": 155,
   "metadata": {
    "collapsed": false
   },
   "outputs": [
    {
     "data": {
      "text/html": [
       "<div>\n",
       "<table border=\"1\" class=\"dataframe\">\n",
       "  <thead>\n",
       "    <tr style=\"text-align: right;\">\n",
       "      <th></th>\n",
       "      <th>A</th>\n",
       "      <th>B</th>\n",
       "      <th>C</th>\n",
       "      <th>D</th>\n",
       "    </tr>\n",
       "  </thead>\n",
       "  <tbody>\n",
       "    <tr>\n",
       "      <th>2000-01-01</th>\n",
       "      <td>0.832018</td>\n",
       "      <td>-0.662599</td>\n",
       "      <td>-1.283141</td>\n",
       "      <td>1.015235</td>\n",
       "    </tr>\n",
       "    <tr>\n",
       "      <th>2000-01-02</th>\n",
       "      <td>-0.894730</td>\n",
       "      <td>-0.758248</td>\n",
       "      <td>-1.316575</td>\n",
       "      <td>2.177614</td>\n",
       "    </tr>\n",
       "    <tr>\n",
       "      <th>2000-01-03</th>\n",
       "      <td>-0.693075</td>\n",
       "      <td>-2.977505</td>\n",
       "      <td>-1.533427</td>\n",
       "      <td>4.183044</td>\n",
       "    </tr>\n",
       "    <tr>\n",
       "      <th>2000-01-04</th>\n",
       "      <td>0.874141</td>\n",
       "      <td>-2.278339</td>\n",
       "      <td>0.229984</td>\n",
       "      <td>6.254534</td>\n",
       "    </tr>\n",
       "    <tr>\n",
       "      <th>2000-01-05</th>\n",
       "      <td>-1.495982</td>\n",
       "      <td>-1.338677</td>\n",
       "      <td>-0.123458</td>\n",
       "      <td>5.829667</td>\n",
       "    </tr>\n",
       "    <tr>\n",
       "      <th>2000-01-06</th>\n",
       "      <td>-0.812750</td>\n",
       "      <td>-1.447970</td>\n",
       "      <td>-0.345897</td>\n",
       "      <td>5.273785</td>\n",
       "    </tr>\n",
       "    <tr>\n",
       "      <th>2000-01-07</th>\n",
       "      <td>0.461737</td>\n",
       "      <td>-2.194869</td>\n",
       "      <td>1.117848</td>\n",
       "      <td>5.262458</td>\n",
       "    </tr>\n",
       "    <tr>\n",
       "      <th>2000-01-08</th>\n",
       "      <td>0.812821</td>\n",
       "      <td>-4.909496</td>\n",
       "      <td>1.171028</td>\n",
       "      <td>5.538184</td>\n",
       "    </tr>\n",
       "    <tr>\n",
       "      <th>2000-01-09</th>\n",
       "      <td>0.555211</td>\n",
       "      <td>-5.017059</td>\n",
       "      <td>0.731850</td>\n",
       "      <td>6.944417</td>\n",
       "    </tr>\n",
       "    <tr>\n",
       "      <th>2000-01-10</th>\n",
       "      <td>1.209316</td>\n",
       "      <td>-6.625535</td>\n",
       "      <td>0.859823</td>\n",
       "      <td>6.357204</td>\n",
       "    </tr>\n",
       "    <tr>\n",
       "      <th>2000-01-11</th>\n",
       "      <td>1.418185</td>\n",
       "      <td>-6.534857</td>\n",
       "      <td>1.472416</td>\n",
       "      <td>6.413965</td>\n",
       "    </tr>\n",
       "    <tr>\n",
       "      <th>2000-01-12</th>\n",
       "      <td>0.999912</td>\n",
       "      <td>-6.202194</td>\n",
       "      <td>1.476565</td>\n",
       "      <td>7.081880</td>\n",
       "    </tr>\n",
       "    <tr>\n",
       "      <th>2000-01-13</th>\n",
       "      <td>1.805443</td>\n",
       "      <td>-7.004043</td>\n",
       "      <td>3.290720</td>\n",
       "      <td>7.072149</td>\n",
       "    </tr>\n",
       "    <tr>\n",
       "      <th>2000-01-14</th>\n",
       "      <td>2.230139</td>\n",
       "      <td>-6.540011</td>\n",
       "      <td>2.432154</td>\n",
       "      <td>7.041204</td>\n",
       "    </tr>\n",
       "    <tr>\n",
       "      <th>2000-01-15</th>\n",
       "      <td>1.358644</td>\n",
       "      <td>-6.548457</td>\n",
       "      <td>2.531519</td>\n",
       "      <td>6.395213</td>\n",
       "    </tr>\n",
       "    <tr>\n",
       "      <th>2000-01-16</th>\n",
       "      <td>0.641293</td>\n",
       "      <td>-6.385848</td>\n",
       "      <td>0.393640</td>\n",
       "      <td>5.388618</td>\n",
       "    </tr>\n",
       "    <tr>\n",
       "      <th>2000-01-17</th>\n",
       "      <td>1.669245</td>\n",
       "      <td>-7.032784</td>\n",
       "      <td>0.636342</td>\n",
       "      <td>6.874190</td>\n",
       "    </tr>\n",
       "    <tr>\n",
       "      <th>2000-01-18</th>\n",
       "      <td>0.917808</td>\n",
       "      <td>-6.808981</td>\n",
       "      <td>0.007371</td>\n",
       "      <td>7.619582</td>\n",
       "    </tr>\n",
       "    <tr>\n",
       "      <th>2000-01-19</th>\n",
       "      <td>0.666756</td>\n",
       "      <td>-8.020890</td>\n",
       "      <td>0.358129</td>\n",
       "      <td>6.552434</td>\n",
       "    </tr>\n",
       "    <tr>\n",
       "      <th>2000-01-20</th>\n",
       "      <td>2.332468</td>\n",
       "      <td>-8.958539</td>\n",
       "      <td>-0.809246</td>\n",
       "      <td>7.223962</td>\n",
       "    </tr>\n",
       "    <tr>\n",
       "      <th>2000-01-21</th>\n",
       "      <td>3.338078</td>\n",
       "      <td>-9.852793</td>\n",
       "      <td>-0.627551</td>\n",
       "      <td>6.638443</td>\n",
       "    </tr>\n",
       "    <tr>\n",
       "      <th>2000-01-22</th>\n",
       "      <td>2.220115</td>\n",
       "      <td>-9.486558</td>\n",
       "      <td>-1.668409</td>\n",
       "      <td>6.048426</td>\n",
       "    </tr>\n",
       "    <tr>\n",
       "      <th>2000-01-23</th>\n",
       "      <td>2.266377</td>\n",
       "      <td>-8.663482</td>\n",
       "      <td>-1.278975</td>\n",
       "      <td>6.643000</td>\n",
       "    </tr>\n",
       "    <tr>\n",
       "      <th>2000-01-24</th>\n",
       "      <td>2.809493</td>\n",
       "      <td>-8.292607</td>\n",
       "      <td>-2.004909</td>\n",
       "      <td>4.961482</td>\n",
       "    </tr>\n",
       "    <tr>\n",
       "      <th>2000-01-25</th>\n",
       "      <td>0.991559</td>\n",
       "      <td>-9.542077</td>\n",
       "      <td>-1.770961</td>\n",
       "      <td>5.240004</td>\n",
       "    </tr>\n",
       "    <tr>\n",
       "      <th>2000-01-26</th>\n",
       "      <td>0.128134</td>\n",
       "      <td>-8.262466</td>\n",
       "      <td>-2.649306</td>\n",
       "      <td>6.823284</td>\n",
       "    </tr>\n",
       "    <tr>\n",
       "      <th>2000-01-27</th>\n",
       "      <td>0.160976</td>\n",
       "      <td>-7.826482</td>\n",
       "      <td>-0.905900</td>\n",
       "      <td>8.974918</td>\n",
       "    </tr>\n",
       "    <tr>\n",
       "      <th>2000-01-28</th>\n",
       "      <td>1.461418</td>\n",
       "      <td>-7.415903</td>\n",
       "      <td>-1.043718</td>\n",
       "      <td>8.885729</td>\n",
       "    </tr>\n",
       "    <tr>\n",
       "      <th>2000-01-29</th>\n",
       "      <td>2.049411</td>\n",
       "      <td>-7.679969</td>\n",
       "      <td>-1.422975</td>\n",
       "      <td>9.239217</td>\n",
       "    </tr>\n",
       "    <tr>\n",
       "      <th>2000-01-30</th>\n",
       "      <td>2.482927</td>\n",
       "      <td>-10.187190</td>\n",
       "      <td>-2.226077</td>\n",
       "      <td>9.313861</td>\n",
       "    </tr>\n",
       "    <tr>\n",
       "      <th>...</th>\n",
       "      <td>...</td>\n",
       "      <td>...</td>\n",
       "      <td>...</td>\n",
       "      <td>...</td>\n",
       "    </tr>\n",
       "    <tr>\n",
       "      <th>2002-08-28</th>\n",
       "      <td>-28.310852</td>\n",
       "      <td>-9.620888</td>\n",
       "      <td>21.355049</td>\n",
       "      <td>56.798993</td>\n",
       "    </tr>\n",
       "    <tr>\n",
       "      <th>2002-08-29</th>\n",
       "      <td>-29.976278</td>\n",
       "      <td>-9.931846</td>\n",
       "      <td>21.606410</td>\n",
       "      <td>56.321865</td>\n",
       "    </tr>\n",
       "    <tr>\n",
       "      <th>2002-08-30</th>\n",
       "      <td>-30.953917</td>\n",
       "      <td>-9.743486</td>\n",
       "      <td>22.741974</td>\n",
       "      <td>55.886829</td>\n",
       "    </tr>\n",
       "    <tr>\n",
       "      <th>2002-08-31</th>\n",
       "      <td>-30.587604</td>\n",
       "      <td>-10.351680</td>\n",
       "      <td>21.066978</td>\n",
       "      <td>56.405979</td>\n",
       "    </tr>\n",
       "    <tr>\n",
       "      <th>2002-09-01</th>\n",
       "      <td>-30.653130</td>\n",
       "      <td>-8.736195</td>\n",
       "      <td>21.169827</td>\n",
       "      <td>55.541832</td>\n",
       "    </tr>\n",
       "    <tr>\n",
       "      <th>2002-09-02</th>\n",
       "      <td>-30.912918</td>\n",
       "      <td>-7.170507</td>\n",
       "      <td>21.595606</td>\n",
       "      <td>54.215647</td>\n",
       "    </tr>\n",
       "    <tr>\n",
       "      <th>2002-09-03</th>\n",
       "      <td>-31.405654</td>\n",
       "      <td>-6.263468</td>\n",
       "      <td>22.520556</td>\n",
       "      <td>54.949552</td>\n",
       "    </tr>\n",
       "    <tr>\n",
       "      <th>2002-09-04</th>\n",
       "      <td>-31.381064</td>\n",
       "      <td>-5.624283</td>\n",
       "      <td>23.357988</td>\n",
       "      <td>55.449697</td>\n",
       "    </tr>\n",
       "    <tr>\n",
       "      <th>2002-09-05</th>\n",
       "      <td>-30.021091</td>\n",
       "      <td>-4.277001</td>\n",
       "      <td>23.395031</td>\n",
       "      <td>55.161836</td>\n",
       "    </tr>\n",
       "    <tr>\n",
       "      <th>2002-09-06</th>\n",
       "      <td>-28.965887</td>\n",
       "      <td>-7.430868</td>\n",
       "      <td>23.164769</td>\n",
       "      <td>56.775990</td>\n",
       "    </tr>\n",
       "    <tr>\n",
       "      <th>2002-09-07</th>\n",
       "      <td>-28.312034</td>\n",
       "      <td>-6.889266</td>\n",
       "      <td>23.467254</td>\n",
       "      <td>56.367911</td>\n",
       "    </tr>\n",
       "    <tr>\n",
       "      <th>2002-09-08</th>\n",
       "      <td>-27.923157</td>\n",
       "      <td>-7.096767</td>\n",
       "      <td>25.146225</td>\n",
       "      <td>56.857535</td>\n",
       "    </tr>\n",
       "    <tr>\n",
       "      <th>2002-09-09</th>\n",
       "      <td>-28.481183</td>\n",
       "      <td>-8.569302</td>\n",
       "      <td>27.763150</td>\n",
       "      <td>56.460611</td>\n",
       "    </tr>\n",
       "    <tr>\n",
       "      <th>2002-09-10</th>\n",
       "      <td>-28.745760</td>\n",
       "      <td>-8.840886</td>\n",
       "      <td>27.608644</td>\n",
       "      <td>58.545011</td>\n",
       "    </tr>\n",
       "    <tr>\n",
       "      <th>2002-09-11</th>\n",
       "      <td>-28.060051</td>\n",
       "      <td>-8.997228</td>\n",
       "      <td>27.157408</td>\n",
       "      <td>58.256048</td>\n",
       "    </tr>\n",
       "    <tr>\n",
       "      <th>2002-09-12</th>\n",
       "      <td>-27.760964</td>\n",
       "      <td>-9.405006</td>\n",
       "      <td>27.850731</td>\n",
       "      <td>56.865752</td>\n",
       "    </tr>\n",
       "    <tr>\n",
       "      <th>2002-09-13</th>\n",
       "      <td>-26.769753</td>\n",
       "      <td>-9.252374</td>\n",
       "      <td>27.897702</td>\n",
       "      <td>57.562543</td>\n",
       "    </tr>\n",
       "    <tr>\n",
       "      <th>2002-09-14</th>\n",
       "      <td>-28.107590</td>\n",
       "      <td>-9.343747</td>\n",
       "      <td>27.565001</td>\n",
       "      <td>60.072859</td>\n",
       "    </tr>\n",
       "    <tr>\n",
       "      <th>2002-09-15</th>\n",
       "      <td>-27.677595</td>\n",
       "      <td>-7.011354</td>\n",
       "      <td>26.517408</td>\n",
       "      <td>60.478134</td>\n",
       "    </tr>\n",
       "    <tr>\n",
       "      <th>2002-09-16</th>\n",
       "      <td>-28.477001</td>\n",
       "      <td>-6.728715</td>\n",
       "      <td>27.197929</td>\n",
       "      <td>60.379790</td>\n",
       "    </tr>\n",
       "    <tr>\n",
       "      <th>2002-09-17</th>\n",
       "      <td>-28.483932</td>\n",
       "      <td>-6.441733</td>\n",
       "      <td>25.768880</td>\n",
       "      <td>61.592624</td>\n",
       "    </tr>\n",
       "    <tr>\n",
       "      <th>2002-09-18</th>\n",
       "      <td>-28.478127</td>\n",
       "      <td>-6.445051</td>\n",
       "      <td>25.252402</td>\n",
       "      <td>62.301873</td>\n",
       "    </tr>\n",
       "    <tr>\n",
       "      <th>2002-09-19</th>\n",
       "      <td>-28.205058</td>\n",
       "      <td>-7.004668</td>\n",
       "      <td>25.260996</td>\n",
       "      <td>62.992680</td>\n",
       "    </tr>\n",
       "    <tr>\n",
       "      <th>2002-09-20</th>\n",
       "      <td>-27.467821</td>\n",
       "      <td>-7.679992</td>\n",
       "      <td>24.299018</td>\n",
       "      <td>61.585074</td>\n",
       "    </tr>\n",
       "    <tr>\n",
       "      <th>2002-09-21</th>\n",
       "      <td>-26.493700</td>\n",
       "      <td>-7.658530</td>\n",
       "      <td>25.779461</td>\n",
       "      <td>62.252774</td>\n",
       "    </tr>\n",
       "    <tr>\n",
       "      <th>2002-09-22</th>\n",
       "      <td>-24.515380</td>\n",
       "      <td>-7.643660</td>\n",
       "      <td>26.620309</td>\n",
       "      <td>62.194643</td>\n",
       "    </tr>\n",
       "    <tr>\n",
       "      <th>2002-09-23</th>\n",
       "      <td>-24.964076</td>\n",
       "      <td>-7.716967</td>\n",
       "      <td>26.600576</td>\n",
       "      <td>64.468615</td>\n",
       "    </tr>\n",
       "    <tr>\n",
       "      <th>2002-09-24</th>\n",
       "      <td>-26.423426</td>\n",
       "      <td>-7.268455</td>\n",
       "      <td>27.463774</td>\n",
       "      <td>64.305995</td>\n",
       "    </tr>\n",
       "    <tr>\n",
       "      <th>2002-09-25</th>\n",
       "      <td>-26.676247</td>\n",
       "      <td>-7.046884</td>\n",
       "      <td>27.418034</td>\n",
       "      <td>63.892543</td>\n",
       "    </tr>\n",
       "    <tr>\n",
       "      <th>2002-09-26</th>\n",
       "      <td>-27.183998</td>\n",
       "      <td>-6.132524</td>\n",
       "      <td>26.299299</td>\n",
       "      <td>63.850161</td>\n",
       "    </tr>\n",
       "  </tbody>\n",
       "</table>\n",
       "<p>1000 rows × 4 columns</p>\n",
       "</div>"
      ],
      "text/plain": [
       "                    A          B          C          D\n",
       "2000-01-01   0.832018  -0.662599  -1.283141   1.015235\n",
       "2000-01-02  -0.894730  -0.758248  -1.316575   2.177614\n",
       "2000-01-03  -0.693075  -2.977505  -1.533427   4.183044\n",
       "2000-01-04   0.874141  -2.278339   0.229984   6.254534\n",
       "2000-01-05  -1.495982  -1.338677  -0.123458   5.829667\n",
       "2000-01-06  -0.812750  -1.447970  -0.345897   5.273785\n",
       "2000-01-07   0.461737  -2.194869   1.117848   5.262458\n",
       "2000-01-08   0.812821  -4.909496   1.171028   5.538184\n",
       "2000-01-09   0.555211  -5.017059   0.731850   6.944417\n",
       "2000-01-10   1.209316  -6.625535   0.859823   6.357204\n",
       "2000-01-11   1.418185  -6.534857   1.472416   6.413965\n",
       "2000-01-12   0.999912  -6.202194   1.476565   7.081880\n",
       "2000-01-13   1.805443  -7.004043   3.290720   7.072149\n",
       "2000-01-14   2.230139  -6.540011   2.432154   7.041204\n",
       "2000-01-15   1.358644  -6.548457   2.531519   6.395213\n",
       "2000-01-16   0.641293  -6.385848   0.393640   5.388618\n",
       "2000-01-17   1.669245  -7.032784   0.636342   6.874190\n",
       "2000-01-18   0.917808  -6.808981   0.007371   7.619582\n",
       "2000-01-19   0.666756  -8.020890   0.358129   6.552434\n",
       "2000-01-20   2.332468  -8.958539  -0.809246   7.223962\n",
       "2000-01-21   3.338078  -9.852793  -0.627551   6.638443\n",
       "2000-01-22   2.220115  -9.486558  -1.668409   6.048426\n",
       "2000-01-23   2.266377  -8.663482  -1.278975   6.643000\n",
       "2000-01-24   2.809493  -8.292607  -2.004909   4.961482\n",
       "2000-01-25   0.991559  -9.542077  -1.770961   5.240004\n",
       "2000-01-26   0.128134  -8.262466  -2.649306   6.823284\n",
       "2000-01-27   0.160976  -7.826482  -0.905900   8.974918\n",
       "2000-01-28   1.461418  -7.415903  -1.043718   8.885729\n",
       "2000-01-29   2.049411  -7.679969  -1.422975   9.239217\n",
       "2000-01-30   2.482927 -10.187190  -2.226077   9.313861\n",
       "...               ...        ...        ...        ...\n",
       "2002-08-28 -28.310852  -9.620888  21.355049  56.798993\n",
       "2002-08-29 -29.976278  -9.931846  21.606410  56.321865\n",
       "2002-08-30 -30.953917  -9.743486  22.741974  55.886829\n",
       "2002-08-31 -30.587604 -10.351680  21.066978  56.405979\n",
       "2002-09-01 -30.653130  -8.736195  21.169827  55.541832\n",
       "2002-09-02 -30.912918  -7.170507  21.595606  54.215647\n",
       "2002-09-03 -31.405654  -6.263468  22.520556  54.949552\n",
       "2002-09-04 -31.381064  -5.624283  23.357988  55.449697\n",
       "2002-09-05 -30.021091  -4.277001  23.395031  55.161836\n",
       "2002-09-06 -28.965887  -7.430868  23.164769  56.775990\n",
       "2002-09-07 -28.312034  -6.889266  23.467254  56.367911\n",
       "2002-09-08 -27.923157  -7.096767  25.146225  56.857535\n",
       "2002-09-09 -28.481183  -8.569302  27.763150  56.460611\n",
       "2002-09-10 -28.745760  -8.840886  27.608644  58.545011\n",
       "2002-09-11 -28.060051  -8.997228  27.157408  58.256048\n",
       "2002-09-12 -27.760964  -9.405006  27.850731  56.865752\n",
       "2002-09-13 -26.769753  -9.252374  27.897702  57.562543\n",
       "2002-09-14 -28.107590  -9.343747  27.565001  60.072859\n",
       "2002-09-15 -27.677595  -7.011354  26.517408  60.478134\n",
       "2002-09-16 -28.477001  -6.728715  27.197929  60.379790\n",
       "2002-09-17 -28.483932  -6.441733  25.768880  61.592624\n",
       "2002-09-18 -28.478127  -6.445051  25.252402  62.301873\n",
       "2002-09-19 -28.205058  -7.004668  25.260996  62.992680\n",
       "2002-09-20 -27.467821  -7.679992  24.299018  61.585074\n",
       "2002-09-21 -26.493700  -7.658530  25.779461  62.252774\n",
       "2002-09-22 -24.515380  -7.643660  26.620309  62.194643\n",
       "2002-09-23 -24.964076  -7.716967  26.600576  64.468615\n",
       "2002-09-24 -26.423426  -7.268455  27.463774  64.305995\n",
       "2002-09-25 -26.676247  -7.046884  27.418034  63.892543\n",
       "2002-09-26 -27.183998  -6.132524  26.299299  63.850161\n",
       "\n",
       "[1000 rows x 4 columns]"
      ]
     },
     "execution_count": 155,
     "metadata": {},
     "output_type": "execute_result"
    }
   ],
   "source": [
    "pd.read_hdf('foo.h5','df')"
   ]
  },
  {
   "cell_type": "markdown",
   "metadata": {},
   "source": [
    "## Excel "
   ]
  },
  {
   "cell_type": "code",
   "execution_count": 156,
   "metadata": {
    "collapsed": true
   },
   "outputs": [],
   "source": [
    "df.to_excel('foo.xlsx', sheet_name='Sheet1')"
   ]
  },
  {
   "cell_type": "code",
   "execution_count": 157,
   "metadata": {
    "collapsed": false
   },
   "outputs": [
    {
     "data": {
      "text/html": [
       "<div>\n",
       "<table border=\"1\" class=\"dataframe\">\n",
       "  <thead>\n",
       "    <tr style=\"text-align: right;\">\n",
       "      <th></th>\n",
       "      <th>A</th>\n",
       "      <th>B</th>\n",
       "      <th>C</th>\n",
       "      <th>D</th>\n",
       "    </tr>\n",
       "  </thead>\n",
       "  <tbody>\n",
       "    <tr>\n",
       "      <th>2000-01-01</th>\n",
       "      <td>0.832018</td>\n",
       "      <td>-0.662599</td>\n",
       "      <td>-1.283141</td>\n",
       "      <td>1.015235</td>\n",
       "    </tr>\n",
       "    <tr>\n",
       "      <th>2000-01-02</th>\n",
       "      <td>-0.894730</td>\n",
       "      <td>-0.758248</td>\n",
       "      <td>-1.316575</td>\n",
       "      <td>2.177614</td>\n",
       "    </tr>\n",
       "    <tr>\n",
       "      <th>2000-01-03</th>\n",
       "      <td>-0.693075</td>\n",
       "      <td>-2.977505</td>\n",
       "      <td>-1.533427</td>\n",
       "      <td>4.183044</td>\n",
       "    </tr>\n",
       "    <tr>\n",
       "      <th>2000-01-04</th>\n",
       "      <td>0.874141</td>\n",
       "      <td>-2.278339</td>\n",
       "      <td>0.229984</td>\n",
       "      <td>6.254534</td>\n",
       "    </tr>\n",
       "    <tr>\n",
       "      <th>2000-01-05</th>\n",
       "      <td>-1.495982</td>\n",
       "      <td>-1.338677</td>\n",
       "      <td>-0.123458</td>\n",
       "      <td>5.829667</td>\n",
       "    </tr>\n",
       "    <tr>\n",
       "      <th>2000-01-06</th>\n",
       "      <td>-0.812750</td>\n",
       "      <td>-1.447970</td>\n",
       "      <td>-0.345897</td>\n",
       "      <td>5.273785</td>\n",
       "    </tr>\n",
       "    <tr>\n",
       "      <th>2000-01-07</th>\n",
       "      <td>0.461737</td>\n",
       "      <td>-2.194869</td>\n",
       "      <td>1.117848</td>\n",
       "      <td>5.262458</td>\n",
       "    </tr>\n",
       "    <tr>\n",
       "      <th>2000-01-08</th>\n",
       "      <td>0.812821</td>\n",
       "      <td>-4.909496</td>\n",
       "      <td>1.171028</td>\n",
       "      <td>5.538184</td>\n",
       "    </tr>\n",
       "    <tr>\n",
       "      <th>2000-01-09</th>\n",
       "      <td>0.555211</td>\n",
       "      <td>-5.017059</td>\n",
       "      <td>0.731850</td>\n",
       "      <td>6.944417</td>\n",
       "    </tr>\n",
       "    <tr>\n",
       "      <th>2000-01-10</th>\n",
       "      <td>1.209316</td>\n",
       "      <td>-6.625535</td>\n",
       "      <td>0.859823</td>\n",
       "      <td>6.357204</td>\n",
       "    </tr>\n",
       "    <tr>\n",
       "      <th>2000-01-11</th>\n",
       "      <td>1.418185</td>\n",
       "      <td>-6.534857</td>\n",
       "      <td>1.472416</td>\n",
       "      <td>6.413965</td>\n",
       "    </tr>\n",
       "    <tr>\n",
       "      <th>2000-01-12</th>\n",
       "      <td>0.999912</td>\n",
       "      <td>-6.202194</td>\n",
       "      <td>1.476565</td>\n",
       "      <td>7.081880</td>\n",
       "    </tr>\n",
       "    <tr>\n",
       "      <th>2000-01-13</th>\n",
       "      <td>1.805443</td>\n",
       "      <td>-7.004043</td>\n",
       "      <td>3.290720</td>\n",
       "      <td>7.072149</td>\n",
       "    </tr>\n",
       "    <tr>\n",
       "      <th>2000-01-14</th>\n",
       "      <td>2.230139</td>\n",
       "      <td>-6.540011</td>\n",
       "      <td>2.432154</td>\n",
       "      <td>7.041204</td>\n",
       "    </tr>\n",
       "    <tr>\n",
       "      <th>2000-01-15</th>\n",
       "      <td>1.358644</td>\n",
       "      <td>-6.548457</td>\n",
       "      <td>2.531519</td>\n",
       "      <td>6.395213</td>\n",
       "    </tr>\n",
       "    <tr>\n",
       "      <th>2000-01-16</th>\n",
       "      <td>0.641293</td>\n",
       "      <td>-6.385848</td>\n",
       "      <td>0.393640</td>\n",
       "      <td>5.388618</td>\n",
       "    </tr>\n",
       "    <tr>\n",
       "      <th>2000-01-17</th>\n",
       "      <td>1.669245</td>\n",
       "      <td>-7.032784</td>\n",
       "      <td>0.636342</td>\n",
       "      <td>6.874190</td>\n",
       "    </tr>\n",
       "    <tr>\n",
       "      <th>2000-01-18</th>\n",
       "      <td>0.917808</td>\n",
       "      <td>-6.808981</td>\n",
       "      <td>0.007371</td>\n",
       "      <td>7.619582</td>\n",
       "    </tr>\n",
       "    <tr>\n",
       "      <th>2000-01-19</th>\n",
       "      <td>0.666756</td>\n",
       "      <td>-8.020890</td>\n",
       "      <td>0.358129</td>\n",
       "      <td>6.552434</td>\n",
       "    </tr>\n",
       "    <tr>\n",
       "      <th>2000-01-20</th>\n",
       "      <td>2.332468</td>\n",
       "      <td>-8.958539</td>\n",
       "      <td>-0.809246</td>\n",
       "      <td>7.223962</td>\n",
       "    </tr>\n",
       "    <tr>\n",
       "      <th>2000-01-21</th>\n",
       "      <td>3.338078</td>\n",
       "      <td>-9.852793</td>\n",
       "      <td>-0.627551</td>\n",
       "      <td>6.638443</td>\n",
       "    </tr>\n",
       "    <tr>\n",
       "      <th>2000-01-22</th>\n",
       "      <td>2.220115</td>\n",
       "      <td>-9.486558</td>\n",
       "      <td>-1.668409</td>\n",
       "      <td>6.048426</td>\n",
       "    </tr>\n",
       "    <tr>\n",
       "      <th>2000-01-23</th>\n",
       "      <td>2.266377</td>\n",
       "      <td>-8.663482</td>\n",
       "      <td>-1.278975</td>\n",
       "      <td>6.643000</td>\n",
       "    </tr>\n",
       "    <tr>\n",
       "      <th>2000-01-24</th>\n",
       "      <td>2.809493</td>\n",
       "      <td>-8.292607</td>\n",
       "      <td>-2.004909</td>\n",
       "      <td>4.961482</td>\n",
       "    </tr>\n",
       "    <tr>\n",
       "      <th>2000-01-25</th>\n",
       "      <td>0.991559</td>\n",
       "      <td>-9.542077</td>\n",
       "      <td>-1.770961</td>\n",
       "      <td>5.240004</td>\n",
       "    </tr>\n",
       "    <tr>\n",
       "      <th>2000-01-26</th>\n",
       "      <td>0.128134</td>\n",
       "      <td>-8.262466</td>\n",
       "      <td>-2.649306</td>\n",
       "      <td>6.823284</td>\n",
       "    </tr>\n",
       "    <tr>\n",
       "      <th>2000-01-27</th>\n",
       "      <td>0.160976</td>\n",
       "      <td>-7.826482</td>\n",
       "      <td>-0.905900</td>\n",
       "      <td>8.974918</td>\n",
       "    </tr>\n",
       "    <tr>\n",
       "      <th>2000-01-28</th>\n",
       "      <td>1.461418</td>\n",
       "      <td>-7.415903</td>\n",
       "      <td>-1.043718</td>\n",
       "      <td>8.885729</td>\n",
       "    </tr>\n",
       "    <tr>\n",
       "      <th>2000-01-29</th>\n",
       "      <td>2.049411</td>\n",
       "      <td>-7.679969</td>\n",
       "      <td>-1.422975</td>\n",
       "      <td>9.239217</td>\n",
       "    </tr>\n",
       "    <tr>\n",
       "      <th>2000-01-30</th>\n",
       "      <td>2.482927</td>\n",
       "      <td>-10.187190</td>\n",
       "      <td>-2.226077</td>\n",
       "      <td>9.313861</td>\n",
       "    </tr>\n",
       "    <tr>\n",
       "      <th>...</th>\n",
       "      <td>...</td>\n",
       "      <td>...</td>\n",
       "      <td>...</td>\n",
       "      <td>...</td>\n",
       "    </tr>\n",
       "    <tr>\n",
       "      <th>2002-08-28</th>\n",
       "      <td>-28.310852</td>\n",
       "      <td>-9.620888</td>\n",
       "      <td>21.355049</td>\n",
       "      <td>56.798993</td>\n",
       "    </tr>\n",
       "    <tr>\n",
       "      <th>2002-08-29</th>\n",
       "      <td>-29.976278</td>\n",
       "      <td>-9.931846</td>\n",
       "      <td>21.606410</td>\n",
       "      <td>56.321865</td>\n",
       "    </tr>\n",
       "    <tr>\n",
       "      <th>2002-08-30</th>\n",
       "      <td>-30.953917</td>\n",
       "      <td>-9.743486</td>\n",
       "      <td>22.741974</td>\n",
       "      <td>55.886829</td>\n",
       "    </tr>\n",
       "    <tr>\n",
       "      <th>2002-08-31</th>\n",
       "      <td>-30.587604</td>\n",
       "      <td>-10.351680</td>\n",
       "      <td>21.066978</td>\n",
       "      <td>56.405979</td>\n",
       "    </tr>\n",
       "    <tr>\n",
       "      <th>2002-09-01</th>\n",
       "      <td>-30.653130</td>\n",
       "      <td>-8.736195</td>\n",
       "      <td>21.169827</td>\n",
       "      <td>55.541832</td>\n",
       "    </tr>\n",
       "    <tr>\n",
       "      <th>2002-09-02</th>\n",
       "      <td>-30.912918</td>\n",
       "      <td>-7.170507</td>\n",
       "      <td>21.595606</td>\n",
       "      <td>54.215647</td>\n",
       "    </tr>\n",
       "    <tr>\n",
       "      <th>2002-09-03</th>\n",
       "      <td>-31.405654</td>\n",
       "      <td>-6.263468</td>\n",
       "      <td>22.520556</td>\n",
       "      <td>54.949552</td>\n",
       "    </tr>\n",
       "    <tr>\n",
       "      <th>2002-09-04</th>\n",
       "      <td>-31.381064</td>\n",
       "      <td>-5.624283</td>\n",
       "      <td>23.357988</td>\n",
       "      <td>55.449697</td>\n",
       "    </tr>\n",
       "    <tr>\n",
       "      <th>2002-09-05</th>\n",
       "      <td>-30.021091</td>\n",
       "      <td>-4.277001</td>\n",
       "      <td>23.395031</td>\n",
       "      <td>55.161836</td>\n",
       "    </tr>\n",
       "    <tr>\n",
       "      <th>2002-09-06</th>\n",
       "      <td>-28.965887</td>\n",
       "      <td>-7.430868</td>\n",
       "      <td>23.164769</td>\n",
       "      <td>56.775990</td>\n",
       "    </tr>\n",
       "    <tr>\n",
       "      <th>2002-09-07</th>\n",
       "      <td>-28.312034</td>\n",
       "      <td>-6.889266</td>\n",
       "      <td>23.467254</td>\n",
       "      <td>56.367911</td>\n",
       "    </tr>\n",
       "    <tr>\n",
       "      <th>2002-09-08</th>\n",
       "      <td>-27.923157</td>\n",
       "      <td>-7.096767</td>\n",
       "      <td>25.146225</td>\n",
       "      <td>56.857535</td>\n",
       "    </tr>\n",
       "    <tr>\n",
       "      <th>2002-09-09</th>\n",
       "      <td>-28.481183</td>\n",
       "      <td>-8.569302</td>\n",
       "      <td>27.763150</td>\n",
       "      <td>56.460611</td>\n",
       "    </tr>\n",
       "    <tr>\n",
       "      <th>2002-09-10</th>\n",
       "      <td>-28.745760</td>\n",
       "      <td>-8.840886</td>\n",
       "      <td>27.608644</td>\n",
       "      <td>58.545011</td>\n",
       "    </tr>\n",
       "    <tr>\n",
       "      <th>2002-09-11</th>\n",
       "      <td>-28.060051</td>\n",
       "      <td>-8.997228</td>\n",
       "      <td>27.157408</td>\n",
       "      <td>58.256048</td>\n",
       "    </tr>\n",
       "    <tr>\n",
       "      <th>2002-09-12</th>\n",
       "      <td>-27.760964</td>\n",
       "      <td>-9.405006</td>\n",
       "      <td>27.850731</td>\n",
       "      <td>56.865752</td>\n",
       "    </tr>\n",
       "    <tr>\n",
       "      <th>2002-09-13</th>\n",
       "      <td>-26.769753</td>\n",
       "      <td>-9.252374</td>\n",
       "      <td>27.897702</td>\n",
       "      <td>57.562543</td>\n",
       "    </tr>\n",
       "    <tr>\n",
       "      <th>2002-09-14</th>\n",
       "      <td>-28.107590</td>\n",
       "      <td>-9.343747</td>\n",
       "      <td>27.565001</td>\n",
       "      <td>60.072859</td>\n",
       "    </tr>\n",
       "    <tr>\n",
       "      <th>2002-09-15</th>\n",
       "      <td>-27.677595</td>\n",
       "      <td>-7.011354</td>\n",
       "      <td>26.517408</td>\n",
       "      <td>60.478134</td>\n",
       "    </tr>\n",
       "    <tr>\n",
       "      <th>2002-09-16</th>\n",
       "      <td>-28.477001</td>\n",
       "      <td>-6.728715</td>\n",
       "      <td>27.197929</td>\n",
       "      <td>60.379790</td>\n",
       "    </tr>\n",
       "    <tr>\n",
       "      <th>2002-09-17</th>\n",
       "      <td>-28.483932</td>\n",
       "      <td>-6.441733</td>\n",
       "      <td>25.768880</td>\n",
       "      <td>61.592624</td>\n",
       "    </tr>\n",
       "    <tr>\n",
       "      <th>2002-09-18</th>\n",
       "      <td>-28.478127</td>\n",
       "      <td>-6.445051</td>\n",
       "      <td>25.252402</td>\n",
       "      <td>62.301873</td>\n",
       "    </tr>\n",
       "    <tr>\n",
       "      <th>2002-09-19</th>\n",
       "      <td>-28.205058</td>\n",
       "      <td>-7.004668</td>\n",
       "      <td>25.260996</td>\n",
       "      <td>62.992680</td>\n",
       "    </tr>\n",
       "    <tr>\n",
       "      <th>2002-09-20</th>\n",
       "      <td>-27.467821</td>\n",
       "      <td>-7.679992</td>\n",
       "      <td>24.299018</td>\n",
       "      <td>61.585074</td>\n",
       "    </tr>\n",
       "    <tr>\n",
       "      <th>2002-09-21</th>\n",
       "      <td>-26.493700</td>\n",
       "      <td>-7.658530</td>\n",
       "      <td>25.779461</td>\n",
       "      <td>62.252774</td>\n",
       "    </tr>\n",
       "    <tr>\n",
       "      <th>2002-09-22</th>\n",
       "      <td>-24.515380</td>\n",
       "      <td>-7.643660</td>\n",
       "      <td>26.620309</td>\n",
       "      <td>62.194643</td>\n",
       "    </tr>\n",
       "    <tr>\n",
       "      <th>2002-09-23</th>\n",
       "      <td>-24.964076</td>\n",
       "      <td>-7.716967</td>\n",
       "      <td>26.600576</td>\n",
       "      <td>64.468615</td>\n",
       "    </tr>\n",
       "    <tr>\n",
       "      <th>2002-09-24</th>\n",
       "      <td>-26.423426</td>\n",
       "      <td>-7.268455</td>\n",
       "      <td>27.463774</td>\n",
       "      <td>64.305995</td>\n",
       "    </tr>\n",
       "    <tr>\n",
       "      <th>2002-09-25</th>\n",
       "      <td>-26.676247</td>\n",
       "      <td>-7.046884</td>\n",
       "      <td>27.418034</td>\n",
       "      <td>63.892543</td>\n",
       "    </tr>\n",
       "    <tr>\n",
       "      <th>2002-09-26</th>\n",
       "      <td>-27.183998</td>\n",
       "      <td>-6.132524</td>\n",
       "      <td>26.299299</td>\n",
       "      <td>63.850161</td>\n",
       "    </tr>\n",
       "  </tbody>\n",
       "</table>\n",
       "<p>1000 rows × 4 columns</p>\n",
       "</div>"
      ],
      "text/plain": [
       "                    A          B          C          D\n",
       "2000-01-01   0.832018  -0.662599  -1.283141   1.015235\n",
       "2000-01-02  -0.894730  -0.758248  -1.316575   2.177614\n",
       "2000-01-03  -0.693075  -2.977505  -1.533427   4.183044\n",
       "2000-01-04   0.874141  -2.278339   0.229984   6.254534\n",
       "2000-01-05  -1.495982  -1.338677  -0.123458   5.829667\n",
       "2000-01-06  -0.812750  -1.447970  -0.345897   5.273785\n",
       "2000-01-07   0.461737  -2.194869   1.117848   5.262458\n",
       "2000-01-08   0.812821  -4.909496   1.171028   5.538184\n",
       "2000-01-09   0.555211  -5.017059   0.731850   6.944417\n",
       "2000-01-10   1.209316  -6.625535   0.859823   6.357204\n",
       "2000-01-11   1.418185  -6.534857   1.472416   6.413965\n",
       "2000-01-12   0.999912  -6.202194   1.476565   7.081880\n",
       "2000-01-13   1.805443  -7.004043   3.290720   7.072149\n",
       "2000-01-14   2.230139  -6.540011   2.432154   7.041204\n",
       "2000-01-15   1.358644  -6.548457   2.531519   6.395213\n",
       "2000-01-16   0.641293  -6.385848   0.393640   5.388618\n",
       "2000-01-17   1.669245  -7.032784   0.636342   6.874190\n",
       "2000-01-18   0.917808  -6.808981   0.007371   7.619582\n",
       "2000-01-19   0.666756  -8.020890   0.358129   6.552434\n",
       "2000-01-20   2.332468  -8.958539  -0.809246   7.223962\n",
       "2000-01-21   3.338078  -9.852793  -0.627551   6.638443\n",
       "2000-01-22   2.220115  -9.486558  -1.668409   6.048426\n",
       "2000-01-23   2.266377  -8.663482  -1.278975   6.643000\n",
       "2000-01-24   2.809493  -8.292607  -2.004909   4.961482\n",
       "2000-01-25   0.991559  -9.542077  -1.770961   5.240004\n",
       "2000-01-26   0.128134  -8.262466  -2.649306   6.823284\n",
       "2000-01-27   0.160976  -7.826482  -0.905900   8.974918\n",
       "2000-01-28   1.461418  -7.415903  -1.043718   8.885729\n",
       "2000-01-29   2.049411  -7.679969  -1.422975   9.239217\n",
       "2000-01-30   2.482927 -10.187190  -2.226077   9.313861\n",
       "...               ...        ...        ...        ...\n",
       "2002-08-28 -28.310852  -9.620888  21.355049  56.798993\n",
       "2002-08-29 -29.976278  -9.931846  21.606410  56.321865\n",
       "2002-08-30 -30.953917  -9.743486  22.741974  55.886829\n",
       "2002-08-31 -30.587604 -10.351680  21.066978  56.405979\n",
       "2002-09-01 -30.653130  -8.736195  21.169827  55.541832\n",
       "2002-09-02 -30.912918  -7.170507  21.595606  54.215647\n",
       "2002-09-03 -31.405654  -6.263468  22.520556  54.949552\n",
       "2002-09-04 -31.381064  -5.624283  23.357988  55.449697\n",
       "2002-09-05 -30.021091  -4.277001  23.395031  55.161836\n",
       "2002-09-06 -28.965887  -7.430868  23.164769  56.775990\n",
       "2002-09-07 -28.312034  -6.889266  23.467254  56.367911\n",
       "2002-09-08 -27.923157  -7.096767  25.146225  56.857535\n",
       "2002-09-09 -28.481183  -8.569302  27.763150  56.460611\n",
       "2002-09-10 -28.745760  -8.840886  27.608644  58.545011\n",
       "2002-09-11 -28.060051  -8.997228  27.157408  58.256048\n",
       "2002-09-12 -27.760964  -9.405006  27.850731  56.865752\n",
       "2002-09-13 -26.769753  -9.252374  27.897702  57.562543\n",
       "2002-09-14 -28.107590  -9.343747  27.565001  60.072859\n",
       "2002-09-15 -27.677595  -7.011354  26.517408  60.478134\n",
       "2002-09-16 -28.477001  -6.728715  27.197929  60.379790\n",
       "2002-09-17 -28.483932  -6.441733  25.768880  61.592624\n",
       "2002-09-18 -28.478127  -6.445051  25.252402  62.301873\n",
       "2002-09-19 -28.205058  -7.004668  25.260996  62.992680\n",
       "2002-09-20 -27.467821  -7.679992  24.299018  61.585074\n",
       "2002-09-21 -26.493700  -7.658530  25.779461  62.252774\n",
       "2002-09-22 -24.515380  -7.643660  26.620309  62.194643\n",
       "2002-09-23 -24.964076  -7.716967  26.600576  64.468615\n",
       "2002-09-24 -26.423426  -7.268455  27.463774  64.305995\n",
       "2002-09-25 -26.676247  -7.046884  27.418034  63.892543\n",
       "2002-09-26 -27.183998  -6.132524  26.299299  63.850161\n",
       "\n",
       "[1000 rows x 4 columns]"
      ]
     },
     "execution_count": 157,
     "metadata": {},
     "output_type": "execute_result"
    }
   ],
   "source": [
    "pd.read_excel('foo.xlsx', 'Sheet1', index_col=None, na_values=['NA'])"
   ]
  },
  {
   "cell_type": "markdown",
   "metadata": {},
   "source": [
    "## Gotchas"
   ]
  },
  {
   "cell_type": "markdown",
   "metadata": {},
   "source": [
    "If you are trying an operation and you see an exception like:"
   ]
  },
  {
   "cell_type": "code",
   "execution_count": 158,
   "metadata": {
    "collapsed": false
   },
   "outputs": [
    {
     "ename": "ValueError",
     "evalue": "The truth value of a Series is ambiguous. Use a.empty, a.bool(), a.item(), a.any() or a.all().",
     "output_type": "error",
     "traceback": [
      "\u001b[1;31m---------------------------------------------------------------------------\u001b[0m",
      "\u001b[1;31mValueError\u001b[0m                                Traceback (most recent call last)",
      "\u001b[1;32m<ipython-input-158-9cae3ab0f79f>\u001b[0m in \u001b[0;36m<module>\u001b[1;34m()\u001b[0m\n\u001b[1;32m----> 1\u001b[1;33m \u001b[1;32mif\u001b[0m \u001b[0mpd\u001b[0m\u001b[1;33m.\u001b[0m\u001b[0mSeries\u001b[0m\u001b[1;33m(\u001b[0m\u001b[1;33m[\u001b[0m\u001b[0mFalse\u001b[0m\u001b[1;33m,\u001b[0m \u001b[0mTrue\u001b[0m\u001b[1;33m,\u001b[0m \u001b[0mFalse\u001b[0m\u001b[1;33m]\u001b[0m\u001b[1;33m)\u001b[0m\u001b[1;33m:\u001b[0m\u001b[1;33m\u001b[0m\u001b[0m\n\u001b[0m\u001b[0;32m      2\u001b[0m     \u001b[1;32mprint\u001b[0m\u001b[1;33m(\u001b[0m\u001b[1;34m\"I was true\"\u001b[0m\u001b[1;33m)\u001b[0m\u001b[1;33m\u001b[0m\u001b[0m\n",
      "\u001b[1;32m/home/topolo/Public/anaconda2/lib/python2.7/site-packages/pandas/core/generic.pyc\u001b[0m in \u001b[0;36m__nonzero__\u001b[1;34m(self)\u001b[0m\n\u001b[0;32m    885\u001b[0m         raise ValueError(\"The truth value of a {0} is ambiguous. \"\n\u001b[0;32m    886\u001b[0m                          \u001b[1;34m\"Use a.empty, a.bool(), a.item(), a.any() or a.all().\"\u001b[0m\u001b[1;33m\u001b[0m\u001b[0m\n\u001b[1;32m--> 887\u001b[1;33m                          .format(self.__class__.__name__))\n\u001b[0m\u001b[0;32m    888\u001b[0m \u001b[1;33m\u001b[0m\u001b[0m\n\u001b[0;32m    889\u001b[0m     \u001b[0m__bool__\u001b[0m \u001b[1;33m=\u001b[0m \u001b[0m__nonzero__\u001b[0m\u001b[1;33m\u001b[0m\u001b[0m\n",
      "\u001b[1;31mValueError\u001b[0m: The truth value of a Series is ambiguous. Use a.empty, a.bool(), a.item(), a.any() or a.all()."
     ]
    }
   ],
   "source": [
    "if pd.Series([False, True, False]):\n",
    "    print(\"I was true\")"
   ]
  },
  {
   "cell_type": "markdown",
   "metadata": {},
   "source": [
    "See [Comparisons](http://pandas.pydata.org/pandas-docs/stable/basics.html#basics-compare) for an explanation and what to do"
   ]
  },
  {
   "cell_type": "markdown",
   "metadata": {},
   "source": [
    "See [Gotchas](http://pandas.pydata.org/pandas-docs/stable/gotchas.html#gotchas) as well.  "
   ]
  },
  {
   "cell_type": "code",
   "execution_count": null,
   "metadata": {
    "collapsed": true
   },
   "outputs": [],
   "source": []
  }
 ],
 "metadata": {
  "kernelspec": {
   "display_name": "Python 2",
   "language": "python",
   "name": "python2"
  },
  "language_info": {
   "codemirror_mode": {
    "name": "ipython",
    "version": 2
   },
   "file_extension": ".py",
   "mimetype": "text/x-python",
   "name": "python",
   "nbconvert_exporter": "python",
   "pygments_lexer": "ipython2",
   "version": "2.7.11"
  }
 },
 "nbformat": 4,
 "nbformat_minor": 0
}
